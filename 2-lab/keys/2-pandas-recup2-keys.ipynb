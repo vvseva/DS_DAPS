{
 "metadata": {
  "kernelspec": {
   "name": "python3",
   "display_name": "Python 3 (ipykernel)",
   "language": "python"
  }
 },
 "nbformat": 4,
 "nbformat_minor": 4,
 "cells": [
  {
   "attachments": {},
   "cell_type": "markdown",
   "metadata": {},
   "source": [
    "# Adapted from CS109a Introduction to Data Science\n",
    "\n",
    "## Seminar 2, Exercise 1: PANDAS Recup 2\n",
    "\n",
    "\n",
    "**HSE University**<br/>\n",
    "**Spring 2022**<br/>\n",
    "\n",
    "---"
   ]
  },
  {
   "attachments": {},
   "cell_type": "markdown",
   "metadata": {},
   "source": [
    "**Exercise 2: PANDAS Intro 2**\n",
    "\n",
    "Let's get some more practice with a few of the core `PANDAS` functions."
   ]
  },
  {
   "cell_type": "code",
   "execution_count": 3,
   "metadata": {},
   "outputs": [],
   "source": [
    "import pandas as pd"
   ]
  },
  {
   "attachments": {},
   "cell_type": "markdown",
   "metadata": {},
   "source": [
    "We'll continue working with StudentsPerformance dataset from Exercise 1."
   ]
  },
  {
   "cell_type": "code",
   "execution_count": 4,
   "metadata": {},
   "outputs": [
    {
     "data": {
      "text/plain": "   gender race/ethnicity parental level of education         lunch  \\\n0  female        group B           bachelor's degree      standard   \n1  female        group C                some college      standard   \n2  female        group B             master's degree      standard   \n3    male        group A          associate's degree  free/reduced   \n4    male        group C                some college      standard   \n\n  test preparation course  math score  reading score  writing score  \n0                    none          72             72             74  \n1               completed          69             90             88  \n2                    none          90             95             93  \n3                    none          47             57             44  \n4                    none          76             78             75  ",
      "text/html": "<div>\n<style scoped>\n    .dataframe tbody tr th:only-of-type {\n        vertical-align: middle;\n    }\n\n    .dataframe tbody tr th {\n        vertical-align: top;\n    }\n\n    .dataframe thead th {\n        text-align: right;\n    }\n</style>\n<table border=\"1\" class=\"dataframe\">\n  <thead>\n    <tr style=\"text-align: right;\">\n      <th></th>\n      <th>gender</th>\n      <th>race/ethnicity</th>\n      <th>parental level of education</th>\n      <th>lunch</th>\n      <th>test preparation course</th>\n      <th>math score</th>\n      <th>reading score</th>\n      <th>writing score</th>\n    </tr>\n  </thead>\n  <tbody>\n    <tr>\n      <th>0</th>\n      <td>female</td>\n      <td>group B</td>\n      <td>bachelor's degree</td>\n      <td>standard</td>\n      <td>none</td>\n      <td>72</td>\n      <td>72</td>\n      <td>74</td>\n    </tr>\n    <tr>\n      <th>1</th>\n      <td>female</td>\n      <td>group C</td>\n      <td>some college</td>\n      <td>standard</td>\n      <td>completed</td>\n      <td>69</td>\n      <td>90</td>\n      <td>88</td>\n    </tr>\n    <tr>\n      <th>2</th>\n      <td>female</td>\n      <td>group B</td>\n      <td>master's degree</td>\n      <td>standard</td>\n      <td>none</td>\n      <td>90</td>\n      <td>95</td>\n      <td>93</td>\n    </tr>\n    <tr>\n      <th>3</th>\n      <td>male</td>\n      <td>group A</td>\n      <td>associate's degree</td>\n      <td>free/reduced</td>\n      <td>none</td>\n      <td>47</td>\n      <td>57</td>\n      <td>44</td>\n    </tr>\n    <tr>\n      <th>4</th>\n      <td>male</td>\n      <td>group C</td>\n      <td>some college</td>\n      <td>standard</td>\n      <td>none</td>\n      <td>76</td>\n      <td>78</td>\n      <td>75</td>\n    </tr>\n  </tbody>\n</table>\n</div>"
     },
     "execution_count": 4,
     "metadata": {},
     "output_type": "execute_result"
    }
   ],
   "source": [
    "# import the CSV file\n",
    "df = pd.read_csv(\"StudentsPerformance.csv\")\n",
    "df.head()"
   ]
  },
  {
   "attachments": {},
   "cell_type": "markdown",
   "metadata": {},
   "source": [
    "### Indexing - iloc and loc\n",
    "\n",
    "It's very important to understand the differences between loc and iloc. Looking at the next cell code one could think that they do the same thing.  \n",
    "(When you query just for one row you obtain an object whose name is the index of the selected row.)"
   ]
  },
  {
   "cell_type": "code",
   "execution_count": 5,
   "metadata": {},
   "outputs": [
    {
     "data": {
      "text/plain": "gender                         True\nrace/ethnicity                 True\nparental level of education    True\nlunch                          True\ntest preparation course        True\nmath score                     True\nreading score                  True\nwriting score                  True\nName: 10, dtype: bool"
     },
     "execution_count": 5,
     "metadata": {},
     "output_type": "execute_result"
    }
   ],
   "source": [
    "df.iloc[10] == df.loc[10]"
   ]
  },
  {
   "cell_type": "code",
   "execution_count": 6,
   "metadata": {},
   "outputs": [
    {
     "data": {
      "text/plain": "True"
     },
     "execution_count": 6,
     "metadata": {},
     "output_type": "execute_result"
    }
   ],
   "source": [
    "all(df.iloc[10] == df.loc[10])"
   ]
  },
  {
   "attachments": {},
   "cell_type": "markdown",
   "metadata": {},
   "source": [
    "The first time we loaded the CSV into a DataFrame we didn't tell pandas to interpret a specific column as an index, so pandas created an index for us. Whether the ordering imposed on our data by this index should be respected is a matter on which `iloc` and `loc` disagree.\n",
    "\n",
    "**To really learn the difference of `iloc` and `loc` we need to shuffle the rows**\n",
    "\n",
    "To do that we can use the [sample](https://pandas.pydata.org/pandas-docs/stable/reference/api/pandas.DataFrame.sample.html) method to take a new sample of the dataframe original size (frac=1 means that)\n",
    "\n",
    "_Bonus: Stop and consider: what is the purpose of setting a `random_state` when we call them `sample` method?_"
   ]
  },
  {
   "cell_type": "code",
   "execution_count": 7,
   "metadata": {},
   "outputs": [
    {
     "data": {
      "text/plain": "     gender race/ethnicity parental level of education         lunch  \\\n301    male        group D            some high school  free/reduced   \n895  female        group E            some high school  free/reduced   \n763  female        group B                 high school      standard   \n854    male        group C            some high school      standard   \n49     male        group C                 high school      standard   \n..      ...            ...                         ...           ...   \n399    male        group D            some high school      standard   \n141  female        group C                some college  free/reduced   \n757    male        group E           bachelor's degree  free/reduced   \n245    male        group C          associate's degree      standard   \n262  female        group C            some high school  free/reduced   \n\n    test preparation course  math score  reading score  writing score  \n301                    none          56             54             52  \n895                    none          32             34             38  \n763                    none          62             62             63  \n854                    none          62             64             55  \n49                completed          82             84             82  \n..                      ...         ...            ...            ...  \n399                    none          60             59             54  \n141                    none          59             62             64  \n757               completed          70             68             72  \n245                    none          85             76             71  \n262                    none          44             50             51  \n\n[1000 rows x 8 columns]",
      "text/html": "<div>\n<style scoped>\n    .dataframe tbody tr th:only-of-type {\n        vertical-align: middle;\n    }\n\n    .dataframe tbody tr th {\n        vertical-align: top;\n    }\n\n    .dataframe thead th {\n        text-align: right;\n    }\n</style>\n<table border=\"1\" class=\"dataframe\">\n  <thead>\n    <tr style=\"text-align: right;\">\n      <th></th>\n      <th>gender</th>\n      <th>race/ethnicity</th>\n      <th>parental level of education</th>\n      <th>lunch</th>\n      <th>test preparation course</th>\n      <th>math score</th>\n      <th>reading score</th>\n      <th>writing score</th>\n    </tr>\n  </thead>\n  <tbody>\n    <tr>\n      <th>301</th>\n      <td>male</td>\n      <td>group D</td>\n      <td>some high school</td>\n      <td>free/reduced</td>\n      <td>none</td>\n      <td>56</td>\n      <td>54</td>\n      <td>52</td>\n    </tr>\n    <tr>\n      <th>895</th>\n      <td>female</td>\n      <td>group E</td>\n      <td>some high school</td>\n      <td>free/reduced</td>\n      <td>none</td>\n      <td>32</td>\n      <td>34</td>\n      <td>38</td>\n    </tr>\n    <tr>\n      <th>763</th>\n      <td>female</td>\n      <td>group B</td>\n      <td>high school</td>\n      <td>standard</td>\n      <td>none</td>\n      <td>62</td>\n      <td>62</td>\n      <td>63</td>\n    </tr>\n    <tr>\n      <th>854</th>\n      <td>male</td>\n      <td>group C</td>\n      <td>some high school</td>\n      <td>standard</td>\n      <td>none</td>\n      <td>62</td>\n      <td>64</td>\n      <td>55</td>\n    </tr>\n    <tr>\n      <th>49</th>\n      <td>male</td>\n      <td>group C</td>\n      <td>high school</td>\n      <td>standard</td>\n      <td>completed</td>\n      <td>82</td>\n      <td>84</td>\n      <td>82</td>\n    </tr>\n    <tr>\n      <th>...</th>\n      <td>...</td>\n      <td>...</td>\n      <td>...</td>\n      <td>...</td>\n      <td>...</td>\n      <td>...</td>\n      <td>...</td>\n      <td>...</td>\n    </tr>\n    <tr>\n      <th>399</th>\n      <td>male</td>\n      <td>group D</td>\n      <td>some high school</td>\n      <td>standard</td>\n      <td>none</td>\n      <td>60</td>\n      <td>59</td>\n      <td>54</td>\n    </tr>\n    <tr>\n      <th>141</th>\n      <td>female</td>\n      <td>group C</td>\n      <td>some college</td>\n      <td>free/reduced</td>\n      <td>none</td>\n      <td>59</td>\n      <td>62</td>\n      <td>64</td>\n    </tr>\n    <tr>\n      <th>757</th>\n      <td>male</td>\n      <td>group E</td>\n      <td>bachelor's degree</td>\n      <td>free/reduced</td>\n      <td>completed</td>\n      <td>70</td>\n      <td>68</td>\n      <td>72</td>\n    </tr>\n    <tr>\n      <th>245</th>\n      <td>male</td>\n      <td>group C</td>\n      <td>associate's degree</td>\n      <td>standard</td>\n      <td>none</td>\n      <td>85</td>\n      <td>76</td>\n      <td>71</td>\n    </tr>\n    <tr>\n      <th>262</th>\n      <td>female</td>\n      <td>group C</td>\n      <td>some high school</td>\n      <td>free/reduced</td>\n      <td>none</td>\n      <td>44</td>\n      <td>50</td>\n      <td>51</td>\n    </tr>\n  </tbody>\n</table>\n<p>1000 rows × 8 columns</p>\n</div>"
     },
     "execution_count": 7,
     "metadata": {},
     "output_type": "execute_result"
    }
   ],
   "source": [
    "df = df.sample(frac=1, random_state=109)\n",
    "df"
   ]
  },
  {
   "attachments": {},
   "cell_type": "markdown",
   "metadata": {},
   "source": [
    "Now let's repeat our code from ealier."
   ]
  },
  {
   "cell_type": "code",
   "execution_count": 9,
   "metadata": {
    "scrolled": true
   },
   "outputs": [
    {
     "data": {
      "text/plain": "gender                         False\nrace/ethnicity                 False\nparental level of education    False\nlunch                           True\ntest preparation course        False\nmath score                     False\nreading score                  False\nwriting score                  False\ndtype: bool"
     },
     "execution_count": 9,
     "metadata": {},
     "output_type": "execute_result"
    }
   ],
   "source": [
    "df.iloc[10] == df.loc[10]"
   ]
  },
  {
   "cell_type": "code",
   "execution_count": 10,
   "metadata": {},
   "outputs": [
    {
     "data": {
      "text/plain": "False"
     },
     "execution_count": 10,
     "metadata": {},
     "output_type": "execute_result"
    }
   ],
   "source": [
    "all(df.iloc[10] == df.loc[10])"
   ]
  },
  {
   "attachments": {},
   "cell_type": "markdown",
   "metadata": {},
   "source": [
    "It turns out that `loc` filters by index value (something like `where df.index == value`).\n",
    "\n",
    "That is, `loc`'s results are depend only on the **indices** (which are now scrambled after sampling). The actual positions of elements in the DataFrame are ignored."
   ]
  },
  {
   "cell_type": "code",
   "execution_count": 11,
   "metadata": {},
   "outputs": [
    {
     "data": {
      "text/plain": "gender                                       male\nrace/ethnicity                            group C\nparental level of education    associate's degree\nlunch                                    standard\ntest preparation course                      none\nmath score                                     58\nreading score                                  54\nwriting score                                  52\nName: 10, dtype: object"
     },
     "execution_count": 11,
     "metadata": {},
     "output_type": "execute_result"
    }
   ],
   "source": [
    "df.loc[10]"
   ]
  },
  {
   "attachments": {},
   "cell_type": "markdown",
   "metadata": {},
   "source": [
    "By contrast, `iloc` filters by row position (something like `where df.index == df.index[value]`)\n",
    "\n",
    "So `iloc`'s results depend on the **actual positions** of elements in a pandas data structure. The indices of these elements are ignored."
   ]
  },
  {
   "attachments": {},
   "cell_type": "markdown",
   "metadata": {},
   "source": [
    "It's this difference that explains counterintuitive results like this:"
   ]
  },
  {
   "cell_type": "code",
   "execution_count": 12,
   "metadata": {},
   "outputs": [
    {
     "data": {
      "text/plain": "342"
     },
     "execution_count": 12,
     "metadata": {},
     "output_type": "execute_result"
    }
   ],
   "source": [
    "df.index[10]"
   ]
  },
  {
   "attachments": {},
   "cell_type": "markdown",
   "metadata": {},
   "source": [
    "Consider a single row index with `iloc`"
   ]
  },
  {
   "cell_type": "code",
   "execution_count": 13,
   "metadata": {},
   "outputs": [
    {
     "data": {
      "text/plain": "gender                              female\nrace/ethnicity                     group B\nparental level of education    high school\nlunch                             standard\ntest preparation course          completed\nmath score                              69\nreading score                           76\nwriting score                           74\nName: 342, dtype: object"
     },
     "execution_count": 13,
     "metadata": {},
     "output_type": "execute_result"
    }
   ],
   "source": [
    "df.iloc[10]"
   ]
  },
  {
   "attachments": {},
   "cell_type": "markdown",
   "metadata": {},
   "source": [
    "And take note of where you can find the index in output formatted like this.\n",
    "\n",
    "Enough chat. Time for..."
   ]
  },
  {
   "attachments": {},
   "cell_type": "markdown",
   "metadata": {},
   "source": [
    "**Exercise**  \n",
    "\n",
    "In the cell below, fill in the blank so that the row5 variable stores the 5th row of df. To be clear, imagine our DataFrame looked as follows:\n",
    "\n",
    "| Index | Words |\n",
    "|-|-|\n",
    "|0|this|\n",
    "|1|is|\n",
    "|2|not|\n",
    "|3|easy|\n",
    "\n",
    "We'd say the 1st row is the one with *this* word, the 2nd row is the one with *is* word, the 3rd row is the one with *not* word, etc."
   ]
  },
  {
   "cell_type": "code",
   "execution_count": 14,
   "metadata": {},
   "outputs": [
    {
     "data": {
      "text/plain": "gender                                male\nrace/ethnicity                     group C\nparental level of education    high school\nlunch                             standard\ntest preparation course          completed\nmath score                              82\nreading score                           84\nwriting score                           82\nName: 49, dtype: object"
     },
     "execution_count": 14,
     "metadata": {},
     "output_type": "execute_result"
    }
   ],
   "source": [
    "### edTest(test_a) ###\n",
    "row5 = df.iloc[4]\n",
    "row5"
   ]
  },
  {
   "attachments": {},
   "cell_type": "markdown",
   "metadata": {},
   "source": [
    "You can display the first rows to have a better understanding of what you did. Can you find the row you've just selected?"
   ]
  },
  {
   "cell_type": "code",
   "execution_count": 15,
   "metadata": {},
   "outputs": [
    {
     "data": {
      "text/plain": "     gender race/ethnicity parental level of education         lunch  \\\n301    male        group D            some high school  free/reduced   \n895  female        group E            some high school  free/reduced   \n763  female        group B                 high school      standard   \n854    male        group C            some high school      standard   \n49     male        group C                 high school      standard   \n\n    test preparation course  math score  reading score  writing score  \n301                    none          56             54             52  \n895                    none          32             34             38  \n763                    none          62             62             63  \n854                    none          62             64             55  \n49                completed          82             84             82  ",
      "text/html": "<div>\n<style scoped>\n    .dataframe tbody tr th:only-of-type {\n        vertical-align: middle;\n    }\n\n    .dataframe tbody tr th {\n        vertical-align: top;\n    }\n\n    .dataframe thead th {\n        text-align: right;\n    }\n</style>\n<table border=\"1\" class=\"dataframe\">\n  <thead>\n    <tr style=\"text-align: right;\">\n      <th></th>\n      <th>gender</th>\n      <th>race/ethnicity</th>\n      <th>parental level of education</th>\n      <th>lunch</th>\n      <th>test preparation course</th>\n      <th>math score</th>\n      <th>reading score</th>\n      <th>writing score</th>\n    </tr>\n  </thead>\n  <tbody>\n    <tr>\n      <th>301</th>\n      <td>male</td>\n      <td>group D</td>\n      <td>some high school</td>\n      <td>free/reduced</td>\n      <td>none</td>\n      <td>56</td>\n      <td>54</td>\n      <td>52</td>\n    </tr>\n    <tr>\n      <th>895</th>\n      <td>female</td>\n      <td>group E</td>\n      <td>some high school</td>\n      <td>free/reduced</td>\n      <td>none</td>\n      <td>32</td>\n      <td>34</td>\n      <td>38</td>\n    </tr>\n    <tr>\n      <th>763</th>\n      <td>female</td>\n      <td>group B</td>\n      <td>high school</td>\n      <td>standard</td>\n      <td>none</td>\n      <td>62</td>\n      <td>62</td>\n      <td>63</td>\n    </tr>\n    <tr>\n      <th>854</th>\n      <td>male</td>\n      <td>group C</td>\n      <td>some high school</td>\n      <td>standard</td>\n      <td>none</td>\n      <td>62</td>\n      <td>64</td>\n      <td>55</td>\n    </tr>\n    <tr>\n      <th>49</th>\n      <td>male</td>\n      <td>group C</td>\n      <td>high school</td>\n      <td>standard</td>\n      <td>completed</td>\n      <td>82</td>\n      <td>84</td>\n      <td>82</td>\n    </tr>\n  </tbody>\n</table>\n</div>"
     },
     "execution_count": 15,
     "metadata": {},
     "output_type": "execute_result"
    }
   ],
   "source": [
    "df.iloc[:5]"
   ]
  },
  {
   "attachments": {},
   "cell_type": "markdown",
   "metadata": {},
   "source": [
    "Notice how we can use familar [Python slice notation](https://python-reference.readthedocs.io/en/latest/docs/brackets/slicing.html) with `iloc` and `loc`!"
   ]
  },
  {
   "attachments": {},
   "cell_type": "markdown",
   "metadata": {},
   "source": [
    "### Sorting\n",
    "We scrambled out df earlier with `sample`. We should also know how to tidy things up. "
   ]
  },
  {
   "attachments": {},
   "cell_type": "markdown",
   "metadata": {},
   "source": [
    "**Exercise**  \n",
    "In the cell below, fill in the blank so that `sorted_df` now stores `df` after sorting it by the math score column in decreasing order ([HINT](https://pandas.pydata.org/pandas-docs/stable/reference/api/pandas.DataFrame.sort_values.html))"
   ]
  },
  {
   "cell_type": "code",
   "execution_count": 16,
   "metadata": {},
   "outputs": [
    {
     "data": {
      "text/plain": "     gender race/ethnicity parental level of education         lunch  \\\n623    male        group A                some college      standard   \n625    male        group D                some college      standard   \n149    male        group E          associate's degree  free/reduced   \n458  female        group E           bachelor's degree      standard   \n962  female        group E          associate's degree      standard   \n..      ...            ...                         ...           ...   \n145  female        group C                some college  free/reduced   \n787  female        group B                some college      standard   \n17   female        group B            some high school  free/reduced   \n980  female        group B                 high school  free/reduced   \n59   female        group C            some high school  free/reduced   \n\n    test preparation course  math score  reading score  writing score  \n623               completed         100             96             86  \n625               completed         100             97             99  \n149               completed         100            100             93  \n458                    none         100            100            100  \n962                    none         100            100            100  \n..                      ...         ...            ...            ...  \n145                    none          22             39             33  \n787                    none          19             38             32  \n17                     none          18             32             28  \n980                    none           8             24             23  \n59                     none           0             17             10  \n\n[1000 rows x 8 columns]",
      "text/html": "<div>\n<style scoped>\n    .dataframe tbody tr th:only-of-type {\n        vertical-align: middle;\n    }\n\n    .dataframe tbody tr th {\n        vertical-align: top;\n    }\n\n    .dataframe thead th {\n        text-align: right;\n    }\n</style>\n<table border=\"1\" class=\"dataframe\">\n  <thead>\n    <tr style=\"text-align: right;\">\n      <th></th>\n      <th>gender</th>\n      <th>race/ethnicity</th>\n      <th>parental level of education</th>\n      <th>lunch</th>\n      <th>test preparation course</th>\n      <th>math score</th>\n      <th>reading score</th>\n      <th>writing score</th>\n    </tr>\n  </thead>\n  <tbody>\n    <tr>\n      <th>623</th>\n      <td>male</td>\n      <td>group A</td>\n      <td>some college</td>\n      <td>standard</td>\n      <td>completed</td>\n      <td>100</td>\n      <td>96</td>\n      <td>86</td>\n    </tr>\n    <tr>\n      <th>625</th>\n      <td>male</td>\n      <td>group D</td>\n      <td>some college</td>\n      <td>standard</td>\n      <td>completed</td>\n      <td>100</td>\n      <td>97</td>\n      <td>99</td>\n    </tr>\n    <tr>\n      <th>149</th>\n      <td>male</td>\n      <td>group E</td>\n      <td>associate's degree</td>\n      <td>free/reduced</td>\n      <td>completed</td>\n      <td>100</td>\n      <td>100</td>\n      <td>93</td>\n    </tr>\n    <tr>\n      <th>458</th>\n      <td>female</td>\n      <td>group E</td>\n      <td>bachelor's degree</td>\n      <td>standard</td>\n      <td>none</td>\n      <td>100</td>\n      <td>100</td>\n      <td>100</td>\n    </tr>\n    <tr>\n      <th>962</th>\n      <td>female</td>\n      <td>group E</td>\n      <td>associate's degree</td>\n      <td>standard</td>\n      <td>none</td>\n      <td>100</td>\n      <td>100</td>\n      <td>100</td>\n    </tr>\n    <tr>\n      <th>...</th>\n      <td>...</td>\n      <td>...</td>\n      <td>...</td>\n      <td>...</td>\n      <td>...</td>\n      <td>...</td>\n      <td>...</td>\n      <td>...</td>\n    </tr>\n    <tr>\n      <th>145</th>\n      <td>female</td>\n      <td>group C</td>\n      <td>some college</td>\n      <td>free/reduced</td>\n      <td>none</td>\n      <td>22</td>\n      <td>39</td>\n      <td>33</td>\n    </tr>\n    <tr>\n      <th>787</th>\n      <td>female</td>\n      <td>group B</td>\n      <td>some college</td>\n      <td>standard</td>\n      <td>none</td>\n      <td>19</td>\n      <td>38</td>\n      <td>32</td>\n    </tr>\n    <tr>\n      <th>17</th>\n      <td>female</td>\n      <td>group B</td>\n      <td>some high school</td>\n      <td>free/reduced</td>\n      <td>none</td>\n      <td>18</td>\n      <td>32</td>\n      <td>28</td>\n    </tr>\n    <tr>\n      <th>980</th>\n      <td>female</td>\n      <td>group B</td>\n      <td>high school</td>\n      <td>free/reduced</td>\n      <td>none</td>\n      <td>8</td>\n      <td>24</td>\n      <td>23</td>\n    </tr>\n    <tr>\n      <th>59</th>\n      <td>female</td>\n      <td>group C</td>\n      <td>some high school</td>\n      <td>free/reduced</td>\n      <td>none</td>\n      <td>0</td>\n      <td>17</td>\n      <td>10</td>\n    </tr>\n  </tbody>\n</table>\n<p>1000 rows × 8 columns</p>\n</div>"
     },
     "execution_count": 16,
     "metadata": {},
     "output_type": "execute_result"
    }
   ],
   "source": [
    "### edTest(test_b) ###\n",
    "sorted_df = df.sort_values(by='math score', ascending=False)\n",
    "sorted_df"
   ]
  },
  {
   "attachments": {},
   "cell_type": "markdown",
   "metadata": {},
   "source": [
    "**Exercise**  \n",
    "In the cell below, fill in the blank so that `sorted_row5` stores the 5th row of `sorted_df`. To be clear, imagine our sorted DataFrame looked as follows:\n",
    "\n",
    "| Index | Words |\n",
    "|-|-|\n",
    "|3|easy\n",
    "|1|is|\n",
    "|2|not|\n",
    "|0|this|\n",
    "\n",
    "We'd say the 1st row is the one with *easy*, the 2nd row is the one with *is*, the 3rd row is the one with *not*, etc."
   ]
  },
  {
   "cell_type": "code",
   "execution_count": 17,
   "metadata": {},
   "outputs": [
    {
     "data": {
      "text/plain": "gender                                     female\nrace/ethnicity                            group E\nparental level of education    associate's degree\nlunch                                    standard\ntest preparation course                      none\nmath score                                    100\nreading score                                 100\nwriting score                                 100\nName: 962, dtype: object"
     },
     "execution_count": 17,
     "metadata": {},
     "output_type": "execute_result"
    }
   ],
   "source": [
    "### edTest(test_c) ###\n",
    "sorted_row5 = sorted_df.iloc[4]\n",
    "sorted_row5"
   ]
  },
  {
   "attachments": {},
   "cell_type": "markdown",
   "metadata": {},
   "source": [
    "Can you find the row you've just selected?"
   ]
  },
  {
   "cell_type": "code",
   "execution_count": 21,
   "metadata": {},
   "outputs": [
    {
     "data": {
      "text/plain": "     gender race/ethnicity parental level of education         lunch  \\\n623    male        group A                some college      standard   \n625    male        group D                some college      standard   \n149    male        group E          associate's degree  free/reduced   \n458  female        group E           bachelor's degree      standard   \n962  female        group E          associate's degree      standard   \n\n    test preparation course  math score  reading score  writing score  \n623               completed         100             96             86  \n625               completed         100             97             99  \n149               completed         100            100             93  \n458                    none         100            100            100  \n962                    none         100            100            100  ",
      "text/html": "<div>\n<style scoped>\n    .dataframe tbody tr th:only-of-type {\n        vertical-align: middle;\n    }\n\n    .dataframe tbody tr th {\n        vertical-align: top;\n    }\n\n    .dataframe thead th {\n        text-align: right;\n    }\n</style>\n<table border=\"1\" class=\"dataframe\">\n  <thead>\n    <tr style=\"text-align: right;\">\n      <th></th>\n      <th>gender</th>\n      <th>race/ethnicity</th>\n      <th>parental level of education</th>\n      <th>lunch</th>\n      <th>test preparation course</th>\n      <th>math score</th>\n      <th>reading score</th>\n      <th>writing score</th>\n    </tr>\n  </thead>\n  <tbody>\n    <tr>\n      <th>623</th>\n      <td>male</td>\n      <td>group A</td>\n      <td>some college</td>\n      <td>standard</td>\n      <td>completed</td>\n      <td>100</td>\n      <td>96</td>\n      <td>86</td>\n    </tr>\n    <tr>\n      <th>625</th>\n      <td>male</td>\n      <td>group D</td>\n      <td>some college</td>\n      <td>standard</td>\n      <td>completed</td>\n      <td>100</td>\n      <td>97</td>\n      <td>99</td>\n    </tr>\n    <tr>\n      <th>149</th>\n      <td>male</td>\n      <td>group E</td>\n      <td>associate's degree</td>\n      <td>free/reduced</td>\n      <td>completed</td>\n      <td>100</td>\n      <td>100</td>\n      <td>93</td>\n    </tr>\n    <tr>\n      <th>458</th>\n      <td>female</td>\n      <td>group E</td>\n      <td>bachelor's degree</td>\n      <td>standard</td>\n      <td>none</td>\n      <td>100</td>\n      <td>100</td>\n      <td>100</td>\n    </tr>\n    <tr>\n      <th>962</th>\n      <td>female</td>\n      <td>group E</td>\n      <td>associate's degree</td>\n      <td>standard</td>\n      <td>none</td>\n      <td>100</td>\n      <td>100</td>\n      <td>100</td>\n    </tr>\n  </tbody>\n</table>\n</div>"
     },
     "execution_count": 21,
     "metadata": {},
     "output_type": "execute_result"
    }
   ],
   "source": [
    "# len('head()') < len('iloc[:5]') #:-)\n",
    "sorted_df.head()"
   ]
  },
  {
   "attachments": {},
   "cell_type": "markdown",
   "metadata": {},
   "source": [
    "### Column Naming Conventions\n",
    "\n",
    "How you've named your df columns can affect the amount of typing required to manipulate your data, the readability of your code, and even the syntax optons you have. Let's take a look at some best practices for naming columns."
   ]
  },
  {
   "cell_type": "code",
   "execution_count": 22,
   "metadata": {},
   "outputs": [
    {
     "data": {
      "text/plain": "     gender race/ethnicity parental level of education         lunch  \\\n301    male        group D            some high school  free/reduced   \n895  female        group E            some high school  free/reduced   \n763  female        group B                 high school      standard   \n854    male        group C            some high school      standard   \n49     male        group C                 high school      standard   \n..      ...            ...                         ...           ...   \n399    male        group D            some high school      standard   \n141  female        group C                some college  free/reduced   \n757    male        group E           bachelor's degree  free/reduced   \n245    male        group C          associate's degree      standard   \n262  female        group C            some high school  free/reduced   \n\n    test preparation course  math score  reading score  writing score  \n301                    none          56             54             52  \n895                    none          32             34             38  \n763                    none          62             62             63  \n854                    none          62             64             55  \n49                completed          82             84             82  \n..                      ...         ...            ...            ...  \n399                    none          60             59             54  \n141                    none          59             62             64  \n757               completed          70             68             72  \n245                    none          85             76             71  \n262                    none          44             50             51  \n\n[1000 rows x 8 columns]",
      "text/html": "<div>\n<style scoped>\n    .dataframe tbody tr th:only-of-type {\n        vertical-align: middle;\n    }\n\n    .dataframe tbody tr th {\n        vertical-align: top;\n    }\n\n    .dataframe thead th {\n        text-align: right;\n    }\n</style>\n<table border=\"1\" class=\"dataframe\">\n  <thead>\n    <tr style=\"text-align: right;\">\n      <th></th>\n      <th>gender</th>\n      <th>race/ethnicity</th>\n      <th>parental level of education</th>\n      <th>lunch</th>\n      <th>test preparation course</th>\n      <th>math score</th>\n      <th>reading score</th>\n      <th>writing score</th>\n    </tr>\n  </thead>\n  <tbody>\n    <tr>\n      <th>301</th>\n      <td>male</td>\n      <td>group D</td>\n      <td>some high school</td>\n      <td>free/reduced</td>\n      <td>none</td>\n      <td>56</td>\n      <td>54</td>\n      <td>52</td>\n    </tr>\n    <tr>\n      <th>895</th>\n      <td>female</td>\n      <td>group E</td>\n      <td>some high school</td>\n      <td>free/reduced</td>\n      <td>none</td>\n      <td>32</td>\n      <td>34</td>\n      <td>38</td>\n    </tr>\n    <tr>\n      <th>763</th>\n      <td>female</td>\n      <td>group B</td>\n      <td>high school</td>\n      <td>standard</td>\n      <td>none</td>\n      <td>62</td>\n      <td>62</td>\n      <td>63</td>\n    </tr>\n    <tr>\n      <th>854</th>\n      <td>male</td>\n      <td>group C</td>\n      <td>some high school</td>\n      <td>standard</td>\n      <td>none</td>\n      <td>62</td>\n      <td>64</td>\n      <td>55</td>\n    </tr>\n    <tr>\n      <th>49</th>\n      <td>male</td>\n      <td>group C</td>\n      <td>high school</td>\n      <td>standard</td>\n      <td>completed</td>\n      <td>82</td>\n      <td>84</td>\n      <td>82</td>\n    </tr>\n    <tr>\n      <th>...</th>\n      <td>...</td>\n      <td>...</td>\n      <td>...</td>\n      <td>...</td>\n      <td>...</td>\n      <td>...</td>\n      <td>...</td>\n      <td>...</td>\n    </tr>\n    <tr>\n      <th>399</th>\n      <td>male</td>\n      <td>group D</td>\n      <td>some high school</td>\n      <td>standard</td>\n      <td>none</td>\n      <td>60</td>\n      <td>59</td>\n      <td>54</td>\n    </tr>\n    <tr>\n      <th>141</th>\n      <td>female</td>\n      <td>group C</td>\n      <td>some college</td>\n      <td>free/reduced</td>\n      <td>none</td>\n      <td>59</td>\n      <td>62</td>\n      <td>64</td>\n    </tr>\n    <tr>\n      <th>757</th>\n      <td>male</td>\n      <td>group E</td>\n      <td>bachelor's degree</td>\n      <td>free/reduced</td>\n      <td>completed</td>\n      <td>70</td>\n      <td>68</td>\n      <td>72</td>\n    </tr>\n    <tr>\n      <th>245</th>\n      <td>male</td>\n      <td>group C</td>\n      <td>associate's degree</td>\n      <td>standard</td>\n      <td>none</td>\n      <td>85</td>\n      <td>76</td>\n      <td>71</td>\n    </tr>\n    <tr>\n      <th>262</th>\n      <td>female</td>\n      <td>group C</td>\n      <td>some high school</td>\n      <td>free/reduced</td>\n      <td>none</td>\n      <td>44</td>\n      <td>50</td>\n      <td>51</td>\n    </tr>\n  </tbody>\n</table>\n<p>1000 rows × 8 columns</p>\n</div>"
     },
     "execution_count": 22,
     "metadata": {},
     "output_type": "execute_result"
    }
   ],
   "source": [
    "df"
   ]
  },
  {
   "attachments": {},
   "cell_type": "markdown",
   "metadata": {},
   "source": [
    "We can see that there are columns names whose lengths are not confortable for coding. What we can do to make our life easier:\n",
    "- Try to work with short columns names\n",
    "- Try to avoid characters like spaces that will allow us to use column access without brackets\n",
    "- Try working in only lower or upper case (prefably lower case; there's no need to shout)\n",
    "\n",
    "Our df already conforms to this last suggestion."
   ]
  },
  {
   "attachments": {},
   "cell_type": "markdown",
   "metadata": {},
   "source": [
    "**We'll find that, after some renaming, things should become easier for us, making:**\n",
    "\n",
    "expressions like these ones:\n",
    "```python\n",
    "condition = (df['test preparation course'] != 'completed') & (df['writing score'] > df['writing score'].median())\n",
    "```\n",
    "to become:\n",
    "```python\n",
    "condition = (df.course != 'completed') & (df.writing > df.writing.median())\n",
    "```"
   ]
  },
  {
   "attachments": {},
   "cell_type": "markdown",
   "metadata": {},
   "source": [
    "**Exercise**  \n",
    "In the cell below fill in the blank with these goals in mind:\n",
    "- rename column `race/ethnicity` to `race`\n",
    "- rename column `parental level of education` to `peduc`\n",
    "- raname column `test preparation course` to `course`\n",
    "- remove ` score` (included the left space char) from the rest of the columns\n",
    "\n",
    "**HINT1**: Don't by shy, check the [documentation](https://pandas.pydata.org/pandas-docs/stable/reference/api/pandas.DataFrame.rename.html) if you need some help  \n",
    "**HINT2**: in many cases, it's faster to access docstrings using `help` \n",
    "```python\n",
    "help(df.rename)\n",
    "```\n",
    "**HINT3**: TAB autocomplete can be ued to you explore an object's available methods and attributes.\\\n",
    "**HINT4**: Still more exciting, place your cursor after the opening paranthesis of a function call and press SHIFT+TAB once or twice. Instantly, you're presented with a docstring. It's a whole new world! 🌈  "
   ]
  },
  {
   "cell_type": "code",
   "execution_count": 23,
   "metadata": {},
   "outputs": [
    {
     "data": {
      "text/plain": "Index(['gender', 'race/ethnicity', 'parental level of education', 'lunch',\n       'test preparation course', 'math score', 'reading score',\n       'writing score'],\n      dtype='object')"
     },
     "execution_count": 23,
     "metadata": {},
     "output_type": "execute_result"
    }
   ],
   "source": [
    "df.columns"
   ]
  },
  {
   "cell_type": "code",
   "execution_count": 24,
   "metadata": {},
   "outputs": [
    {
     "data": {
      "text/plain": "     gender     race               peduc         lunch     course  math  \\\n301    male  group D    some high school  free/reduced       none    56   \n895  female  group E    some high school  free/reduced       none    32   \n763  female  group B         high school      standard       none    62   \n854    male  group C    some high school      standard       none    62   \n49     male  group C         high school      standard  completed    82   \n..      ...      ...                 ...           ...        ...   ...   \n399    male  group D    some high school      standard       none    60   \n141  female  group C        some college  free/reduced       none    59   \n757    male  group E   bachelor's degree  free/reduced  completed    70   \n245    male  group C  associate's degree      standard       none    85   \n262  female  group C    some high school  free/reduced       none    44   \n\n     reading  writing  \n301       54       52  \n895       34       38  \n763       62       63  \n854       64       55  \n49        84       82  \n..       ...      ...  \n399       59       54  \n141       62       64  \n757       68       72  \n245       76       71  \n262       50       51  \n\n[1000 rows x 8 columns]",
      "text/html": "<div>\n<style scoped>\n    .dataframe tbody tr th:only-of-type {\n        vertical-align: middle;\n    }\n\n    .dataframe tbody tr th {\n        vertical-align: top;\n    }\n\n    .dataframe thead th {\n        text-align: right;\n    }\n</style>\n<table border=\"1\" class=\"dataframe\">\n  <thead>\n    <tr style=\"text-align: right;\">\n      <th></th>\n      <th>gender</th>\n      <th>race</th>\n      <th>peduc</th>\n      <th>lunch</th>\n      <th>course</th>\n      <th>math</th>\n      <th>reading</th>\n      <th>writing</th>\n    </tr>\n  </thead>\n  <tbody>\n    <tr>\n      <th>301</th>\n      <td>male</td>\n      <td>group D</td>\n      <td>some high school</td>\n      <td>free/reduced</td>\n      <td>none</td>\n      <td>56</td>\n      <td>54</td>\n      <td>52</td>\n    </tr>\n    <tr>\n      <th>895</th>\n      <td>female</td>\n      <td>group E</td>\n      <td>some high school</td>\n      <td>free/reduced</td>\n      <td>none</td>\n      <td>32</td>\n      <td>34</td>\n      <td>38</td>\n    </tr>\n    <tr>\n      <th>763</th>\n      <td>female</td>\n      <td>group B</td>\n      <td>high school</td>\n      <td>standard</td>\n      <td>none</td>\n      <td>62</td>\n      <td>62</td>\n      <td>63</td>\n    </tr>\n    <tr>\n      <th>854</th>\n      <td>male</td>\n      <td>group C</td>\n      <td>some high school</td>\n      <td>standard</td>\n      <td>none</td>\n      <td>62</td>\n      <td>64</td>\n      <td>55</td>\n    </tr>\n    <tr>\n      <th>49</th>\n      <td>male</td>\n      <td>group C</td>\n      <td>high school</td>\n      <td>standard</td>\n      <td>completed</td>\n      <td>82</td>\n      <td>84</td>\n      <td>82</td>\n    </tr>\n    <tr>\n      <th>...</th>\n      <td>...</td>\n      <td>...</td>\n      <td>...</td>\n      <td>...</td>\n      <td>...</td>\n      <td>...</td>\n      <td>...</td>\n      <td>...</td>\n    </tr>\n    <tr>\n      <th>399</th>\n      <td>male</td>\n      <td>group D</td>\n      <td>some high school</td>\n      <td>standard</td>\n      <td>none</td>\n      <td>60</td>\n      <td>59</td>\n      <td>54</td>\n    </tr>\n    <tr>\n      <th>141</th>\n      <td>female</td>\n      <td>group C</td>\n      <td>some college</td>\n      <td>free/reduced</td>\n      <td>none</td>\n      <td>59</td>\n      <td>62</td>\n      <td>64</td>\n    </tr>\n    <tr>\n      <th>757</th>\n      <td>male</td>\n      <td>group E</td>\n      <td>bachelor's degree</td>\n      <td>free/reduced</td>\n      <td>completed</td>\n      <td>70</td>\n      <td>68</td>\n      <td>72</td>\n    </tr>\n    <tr>\n      <th>245</th>\n      <td>male</td>\n      <td>group C</td>\n      <td>associate's degree</td>\n      <td>standard</td>\n      <td>none</td>\n      <td>85</td>\n      <td>76</td>\n      <td>71</td>\n    </tr>\n    <tr>\n      <th>262</th>\n      <td>female</td>\n      <td>group C</td>\n      <td>some high school</td>\n      <td>free/reduced</td>\n      <td>none</td>\n      <td>44</td>\n      <td>50</td>\n      <td>51</td>\n    </tr>\n  </tbody>\n</table>\n<p>1000 rows × 8 columns</p>\n</div>"
     },
     "execution_count": 24,
     "metadata": {},
     "output_type": "execute_result"
    }
   ],
   "source": [
    "### edTest(test_d) ###\n",
    "df = df.rename(columns={'race/ethnicity':'race',\n",
    "                        'parental level of education': 'peduc',\n",
    "                        'test preparation course':'course',\n",
    "                        'math score': 'math',\n",
    "                        'reading score': 'reading',\n",
    "                        'writing score': 'writing', })\n",
    "df"
   ]
  },
  {
   "attachments": {},
   "cell_type": "markdown",
   "metadata": {},
   "source": [
    "### Look for missing values\n",
    "\n",
    "Missing values in our DataFrames can cause many issues. They can cause certain operations and function calls to fail and throw an error. Perhaps worse, this problems can happen 'silently,' affecting our results without us realizing there is a problem. Unless we take precautions of course!\n",
    "\n",
    "The first step is locating missingness. This dataset doesn't have any missing values. So we'll make some ourselves and 'poke a holes' in the Dataframe."
   ]
  },
  {
   "cell_type": "code",
   "execution_count": 25,
   "metadata": {},
   "outputs": [],
   "source": [
    "# 'poking holes' in the data\n",
    "df.iloc[0,5] = None\n",
    "df.iloc[2,2] = None"
   ]
  },
  {
   "attachments": {},
   "cell_type": "markdown",
   "metadata": {},
   "source": [
    "**Exercise**  \n",
    "\n",
    "Fill in the blank to display whether or not entries in the first 5 rows are missing ([HINT](https://pandas.pydata.org/docs/reference/api/pandas.DataFrame.isna.html))"
   ]
  },
  {
   "attachments": {},
   "cell_type": "markdown",
   "metadata": {},
   "source": [
    "**Solution**"
   ]
  },
  {
   "cell_type": "code",
   "execution_count": 26,
   "metadata": {},
   "outputs": [
    {
     "data": {
      "text/plain": "     gender   race  peduc  lunch  course   math  reading  writing\n301   False  False  False  False   False   True    False    False\n895   False  False  False  False   False  False    False    False\n763   False  False   True  False   False  False    False    False\n854   False  False  False  False   False  False    False    False\n49    False  False  False  False   False  False    False    False",
      "text/html": "<div>\n<style scoped>\n    .dataframe tbody tr th:only-of-type {\n        vertical-align: middle;\n    }\n\n    .dataframe tbody tr th {\n        vertical-align: top;\n    }\n\n    .dataframe thead th {\n        text-align: right;\n    }\n</style>\n<table border=\"1\" class=\"dataframe\">\n  <thead>\n    <tr style=\"text-align: right;\">\n      <th></th>\n      <th>gender</th>\n      <th>race</th>\n      <th>peduc</th>\n      <th>lunch</th>\n      <th>course</th>\n      <th>math</th>\n      <th>reading</th>\n      <th>writing</th>\n    </tr>\n  </thead>\n  <tbody>\n    <tr>\n      <th>301</th>\n      <td>False</td>\n      <td>False</td>\n      <td>False</td>\n      <td>False</td>\n      <td>False</td>\n      <td>True</td>\n      <td>False</td>\n      <td>False</td>\n    </tr>\n    <tr>\n      <th>895</th>\n      <td>False</td>\n      <td>False</td>\n      <td>False</td>\n      <td>False</td>\n      <td>False</td>\n      <td>False</td>\n      <td>False</td>\n      <td>False</td>\n    </tr>\n    <tr>\n      <th>763</th>\n      <td>False</td>\n      <td>False</td>\n      <td>True</td>\n      <td>False</td>\n      <td>False</td>\n      <td>False</td>\n      <td>False</td>\n      <td>False</td>\n    </tr>\n    <tr>\n      <th>854</th>\n      <td>False</td>\n      <td>False</td>\n      <td>False</td>\n      <td>False</td>\n      <td>False</td>\n      <td>False</td>\n      <td>False</td>\n      <td>False</td>\n    </tr>\n    <tr>\n      <th>49</th>\n      <td>False</td>\n      <td>False</td>\n      <td>False</td>\n      <td>False</td>\n      <td>False</td>\n      <td>False</td>\n      <td>False</td>\n      <td>False</td>\n    </tr>\n  </tbody>\n</table>\n</div>"
     },
     "execution_count": 26,
     "metadata": {},
     "output_type": "execute_result"
    }
   ],
   "source": [
    "df.isna().head()"
   ]
  },
  {
   "attachments": {},
   "cell_type": "markdown",
   "metadata": {},
   "source": [
    "**Exercise**  \n",
    "\n",
    "Fill in the blanks to [sum](https://pandas.pydata.org/docs/reference/api/pandas.DataFrame.sum.html) the total number of missing values in each of the dataset's columns."
   ]
  },
  {
   "cell_type": "code",
   "execution_count": 27,
   "metadata": {},
   "outputs": [
    {
     "data": {
      "text/plain": "gender     0\nrace       0\npeduc      1\nlunch      0\ncourse     0\nmath       1\nreading    0\nwriting    0\ndtype: int64"
     },
     "metadata": {},
     "output_type": "display_data"
    }
   ],
   "source": [
    "### edTest(test_e) ###\n",
    "resultE = df.isna().sum()\n",
    "display(resultE)"
   ]
  },
  {
   "attachments": {},
   "cell_type": "markdown",
   "metadata": {},
   "source": [
    "Now let's deal with these 'holes' we've just made"
   ]
  },
  {
   "attachments": {},
   "cell_type": "markdown",
   "metadata": {},
   "source": [
    "**Exercise**  \n",
    "Fill the missing `math` entry with that column's [mean](https://pandas.pydata.org/docs/reference/api/pandas.DataFrame.mean.html?highlight=dataframe%20mean#pandas.DataFrame.mean).\n",
    "\n",
    "_Hint: Select subsets of the data frame using a column name or names_\n",
    "\n",
    "**Note:** The blanks here represent just one way of doing this. Don't feel constrain by the blanks here."
   ]
  },
  {
   "attachments": {},
   "cell_type": "markdown",
   "metadata": {},
   "source": [
    "**Solution**"
   ]
  },
  {
   "cell_type": "code",
   "execution_count": 29,
   "metadata": {},
   "outputs": [
    {
     "data": {
      "text/plain": "     gender     race             peduc         lunch     course       math  \\\n301    male  group D  some high school  free/reduced       none  66.099099   \n895  female  group E  some high school  free/reduced       none  32.000000   \n763  female  group B              None      standard       none  62.000000   \n854    male  group C  some high school      standard       none  62.000000   \n49     male  group C       high school      standard  completed  82.000000   \n\n     reading  writing  \n301       54       52  \n895       34       38  \n763       62       63  \n854       64       55  \n49        84       82  ",
      "text/html": "<div>\n<style scoped>\n    .dataframe tbody tr th:only-of-type {\n        vertical-align: middle;\n    }\n\n    .dataframe tbody tr th {\n        vertical-align: top;\n    }\n\n    .dataframe thead th {\n        text-align: right;\n    }\n</style>\n<table border=\"1\" class=\"dataframe\">\n  <thead>\n    <tr style=\"text-align: right;\">\n      <th></th>\n      <th>gender</th>\n      <th>race</th>\n      <th>peduc</th>\n      <th>lunch</th>\n      <th>course</th>\n      <th>math</th>\n      <th>reading</th>\n      <th>writing</th>\n    </tr>\n  </thead>\n  <tbody>\n    <tr>\n      <th>301</th>\n      <td>male</td>\n      <td>group D</td>\n      <td>some high school</td>\n      <td>free/reduced</td>\n      <td>none</td>\n      <td>66.099099</td>\n      <td>54</td>\n      <td>52</td>\n    </tr>\n    <tr>\n      <th>895</th>\n      <td>female</td>\n      <td>group E</td>\n      <td>some high school</td>\n      <td>free/reduced</td>\n      <td>none</td>\n      <td>32.000000</td>\n      <td>34</td>\n      <td>38</td>\n    </tr>\n    <tr>\n      <th>763</th>\n      <td>female</td>\n      <td>group B</td>\n      <td>None</td>\n      <td>standard</td>\n      <td>none</td>\n      <td>62.000000</td>\n      <td>62</td>\n      <td>63</td>\n    </tr>\n    <tr>\n      <th>854</th>\n      <td>male</td>\n      <td>group C</td>\n      <td>some high school</td>\n      <td>standard</td>\n      <td>none</td>\n      <td>62.000000</td>\n      <td>64</td>\n      <td>55</td>\n    </tr>\n    <tr>\n      <th>49</th>\n      <td>male</td>\n      <td>group C</td>\n      <td>high school</td>\n      <td>standard</td>\n      <td>completed</td>\n      <td>82.000000</td>\n      <td>84</td>\n      <td>82</td>\n    </tr>\n  </tbody>\n</table>\n</div>"
     },
     "execution_count": 29,
     "metadata": {},
     "output_type": "execute_result"
    }
   ],
   "source": [
    "df['math'] = df['math'].fillna(df['math'].mean())\n",
    "df.head()"
   ]
  },
  {
   "attachments": {},
   "cell_type": "markdown",
   "metadata": {},
   "source": [
    "**Exercise**  \n",
    "[Drop](https://pandas.pydata.org/pandas-docs/stable/reference/api/pandas.DataFrame.dropna.html?highlight=dropna#pandas.DataFrame.dropna) the row with the missing `peduc` from the DataFrame.\n",
    "\n",
    "_Hint: to make it easier, consider that this is now the only remaining missing value_"
   ]
  },
  {
   "attachments": {},
   "cell_type": "markdown",
   "metadata": {},
   "source": [
    "**Solution**"
   ]
  },
  {
   "cell_type": "code",
   "execution_count": 33,
   "metadata": {},
   "outputs": [
    {
     "data": {
      "text/plain": "     gender     race             peduc         lunch     course       math  \\\n301    male  group D  some high school  free/reduced       none  66.099099   \n895  female  group E  some high school  free/reduced       none  32.000000   \n854    male  group C  some high school      standard       none  62.000000   \n49     male  group C       high school      standard  completed  82.000000   \n790  female  group B       high school      standard       none  48.000000   \n\n     reading  writing  \n301       54       52  \n895       34       38  \n854       64       55  \n49        84       82  \n790       62       60  ",
      "text/html": "<div>\n<style scoped>\n    .dataframe tbody tr th:only-of-type {\n        vertical-align: middle;\n    }\n\n    .dataframe tbody tr th {\n        vertical-align: top;\n    }\n\n    .dataframe thead th {\n        text-align: right;\n    }\n</style>\n<table border=\"1\" class=\"dataframe\">\n  <thead>\n    <tr style=\"text-align: right;\">\n      <th></th>\n      <th>gender</th>\n      <th>race</th>\n      <th>peduc</th>\n      <th>lunch</th>\n      <th>course</th>\n      <th>math</th>\n      <th>reading</th>\n      <th>writing</th>\n    </tr>\n  </thead>\n  <tbody>\n    <tr>\n      <th>301</th>\n      <td>male</td>\n      <td>group D</td>\n      <td>some high school</td>\n      <td>free/reduced</td>\n      <td>none</td>\n      <td>66.099099</td>\n      <td>54</td>\n      <td>52</td>\n    </tr>\n    <tr>\n      <th>895</th>\n      <td>female</td>\n      <td>group E</td>\n      <td>some high school</td>\n      <td>free/reduced</td>\n      <td>none</td>\n      <td>32.000000</td>\n      <td>34</td>\n      <td>38</td>\n    </tr>\n    <tr>\n      <th>854</th>\n      <td>male</td>\n      <td>group C</td>\n      <td>some high school</td>\n      <td>standard</td>\n      <td>none</td>\n      <td>62.000000</td>\n      <td>64</td>\n      <td>55</td>\n    </tr>\n    <tr>\n      <th>49</th>\n      <td>male</td>\n      <td>group C</td>\n      <td>high school</td>\n      <td>standard</td>\n      <td>completed</td>\n      <td>82.000000</td>\n      <td>84</td>\n      <td>82</td>\n    </tr>\n    <tr>\n      <th>790</th>\n      <td>female</td>\n      <td>group B</td>\n      <td>high school</td>\n      <td>standard</td>\n      <td>none</td>\n      <td>48.000000</td>\n      <td>62</td>\n      <td>60</td>\n    </tr>\n  </tbody>\n</table>\n</div>"
     },
     "execution_count": 33,
     "metadata": {},
     "output_type": "execute_result"
    }
   ],
   "source": [
    "df = df.dropna()\n",
    "df.head()"
   ]
  },
  {
   "attachments": {},
   "cell_type": "markdown",
   "metadata": {},
   "source": [
    "### Categorical Columns - nunique() and unique()\n",
    "\n",
    "If some of your data is categorical (e.g., taking on a descredte set of values with an inherent ordering) you'll often what to know exactly how many unique values you're dealing with. `nunique` and `unique` are here to help and can be used on a single column or across multiple columns. \n",
    "Please consider, `unique` will return all unique values. What if you ask for the uniques of a column with 1 million different values? 🤔\n",
    "\n",
    "This particular method should be used wisely."
   ]
  },
  {
   "cell_type": "code",
   "execution_count": 34,
   "metadata": {},
   "outputs": [
    {
     "data": {
      "text/plain": "gender      2\nrace        5\npeduc       6\nlunch       2\ncourse      2\nmath       82\nreading    72\nwriting    77\ndtype: int64"
     },
     "execution_count": 34,
     "metadata": {},
     "output_type": "execute_result"
    }
   ],
   "source": [
    "df.nunique()"
   ]
  },
  {
   "cell_type": "code",
   "execution_count": 35,
   "metadata": {},
   "outputs": [
    {
     "data": {
      "text/plain": "['male', 'female']"
     },
     "execution_count": 35,
     "metadata": {},
     "output_type": "execute_result"
    }
   ],
   "source": [
    "df['gender'].unique().tolist()"
   ]
  },
  {
   "cell_type": "code",
   "execution_count": 36,
   "metadata": {},
   "outputs": [],
   "source": [
    "# the line below represents  the usage that should be avoided\n",
    "# df['math'].unique()"
   ]
  },
  {
   "attachments": {},
   "cell_type": "markdown",
   "metadata": {},
   "source": [
    "**Exercise**  \n",
    "\n",
    "Fill in the blanks using `unique()` and `nunique()` to complete the method `print_uniques` to help us to learn more about the categorical variables in our data."
   ]
  },
  {
   "cell_type": "code",
   "execution_count": 36,
   "metadata": {},
   "outputs": [
    {
     "name": "stdout",
     "output_type": "stream",
     "text": [
      "gender: ['male', 'female']\n",
      "race: ['group D', 'group E', 'group C', 'group B', 'group A']\n",
      "peduc: ['some high school', 'high school', \"bachelor's degree\", 'some college', \"associate's degree\", \"master's degree\"]\n",
      "lunch: ['free/reduced', 'standard']\n",
      "course: ['none', 'completed']\n",
      "math: more than 10 uniques\n",
      "reading: more than 10 uniques\n",
      "writing: more than 10 uniques\n"
     ]
    }
   ],
   "source": [
    "### edTest(test_f) ###\n",
    "def print_uniques(df, col, limit=10):\n",
    "    \"\"\"Print column's uniques values when the number of column's uniques is lower or equal than limit \"\"\"\n",
    "    n = df[col].nunique()\n",
    "    if n <= limit:\n",
    "        print(f'{col}:', df[col].unique().tolist())\n",
    "    else:\n",
    "        print(f'{col}:', f'more than {limit} uniques')\n",
    "\n",
    "for col in df.columns:\n",
    "    print_uniques(df, col)"
   ]
  },
  {
   "attachments": {},
   "cell_type": "markdown",
   "metadata": {},
   "source": [
    "### Descriptive statistics\n",
    "\n",
    "In Pandas, DataFrames have a simple method for displaying summary statistics."
   ]
  },
  {
   "cell_type": "code",
   "execution_count": 37,
   "metadata": {},
   "outputs": [
    {
     "data": {
      "text/plain": "             math     reading     writing\ncount  999.000000  999.000000  999.000000\nmean    66.103202   69.176176   68.059059\nstd     15.166754   14.605740   15.202426\nmin      0.000000   17.000000   10.000000\n25%     57.000000   59.000000   57.500000\n50%     66.000000   70.000000   69.000000\n75%     77.000000   79.000000   79.000000\nmax    100.000000  100.000000  100.000000",
      "text/html": "<div>\n<style scoped>\n    .dataframe tbody tr th:only-of-type {\n        vertical-align: middle;\n    }\n\n    .dataframe tbody tr th {\n        vertical-align: top;\n    }\n\n    .dataframe thead th {\n        text-align: right;\n    }\n</style>\n<table border=\"1\" class=\"dataframe\">\n  <thead>\n    <tr style=\"text-align: right;\">\n      <th></th>\n      <th>math</th>\n      <th>reading</th>\n      <th>writing</th>\n    </tr>\n  </thead>\n  <tbody>\n    <tr>\n      <th>count</th>\n      <td>999.000000</td>\n      <td>999.000000</td>\n      <td>999.000000</td>\n    </tr>\n    <tr>\n      <th>mean</th>\n      <td>66.103202</td>\n      <td>69.176176</td>\n      <td>68.059059</td>\n    </tr>\n    <tr>\n      <th>std</th>\n      <td>15.166754</td>\n      <td>14.605740</td>\n      <td>15.202426</td>\n    </tr>\n    <tr>\n      <th>min</th>\n      <td>0.000000</td>\n      <td>17.000000</td>\n      <td>10.000000</td>\n    </tr>\n    <tr>\n      <th>25%</th>\n      <td>57.000000</td>\n      <td>59.000000</td>\n      <td>57.500000</td>\n    </tr>\n    <tr>\n      <th>50%</th>\n      <td>66.000000</td>\n      <td>70.000000</td>\n      <td>69.000000</td>\n    </tr>\n    <tr>\n      <th>75%</th>\n      <td>77.000000</td>\n      <td>79.000000</td>\n      <td>79.000000</td>\n    </tr>\n    <tr>\n      <th>max</th>\n      <td>100.000000</td>\n      <td>100.000000</td>\n      <td>100.000000</td>\n    </tr>\n  </tbody>\n</table>\n</div>"
     },
     "execution_count": 37,
     "metadata": {},
     "output_type": "execute_result"
    }
   ],
   "source": [
    "df.describe()"
   ]
  },
  {
   "attachments": {},
   "cell_type": "markdown",
   "metadata": {},
   "source": [
    "**Exercise**\n",
    "\n",
    "Sometimes we don't want to access all these statistics. In the cell below fill in the blanks to get the mean and the standard deviation of the `writing` and `reading` columns ([HINT](https://pandas.pydata.org/docs/reference/api/pandas.DataFrame.aggregate.html))."
   ]
  },
  {
   "cell_type": "code",
   "execution_count": 38,
   "metadata": {},
   "outputs": [
    {
     "data": {
      "text/plain": "        writing    reading\nmean  68.059059  69.176176\nstd   15.202426  14.605740",
      "text/html": "<div>\n<style scoped>\n    .dataframe tbody tr th:only-of-type {\n        vertical-align: middle;\n    }\n\n    .dataframe tbody tr th {\n        vertical-align: top;\n    }\n\n    .dataframe thead th {\n        text-align: right;\n    }\n</style>\n<table border=\"1\" class=\"dataframe\">\n  <thead>\n    <tr style=\"text-align: right;\">\n      <th></th>\n      <th>writing</th>\n      <th>reading</th>\n    </tr>\n  </thead>\n  <tbody>\n    <tr>\n      <th>mean</th>\n      <td>68.059059</td>\n      <td>69.176176</td>\n    </tr>\n    <tr>\n      <th>std</th>\n      <td>15.202426</td>\n      <td>14.605740</td>\n    </tr>\n  </tbody>\n</table>\n</div>"
     },
     "metadata": {},
     "output_type": "display_data"
    }
   ],
   "source": [
    "### edTest(test_g) ###\n",
    "resultG = df[['writing', 'reading']].aggregate(['mean', 'std'])\n",
    "display(resultG)"
   ]
  },
  {
   "attachments": {},
   "cell_type": "markdown",
   "metadata": {},
   "source": [
    "Now we can [group](https://pandas.pydata.org/docs/reference/api/pandas.DataFrame.groupby.html?highlight=groupby#pandas.DataFrame.groupby) our dataframe by a specific column(s) value's and `aggregate` the other columns. \n",
    "\n",
    "_Hint: Try using `agg()` as an alternative to spare some typing_"
   ]
  },
  {
   "attachments": {},
   "cell_type": "markdown",
   "metadata": {},
   "source": [
    "**Exercise**\n",
    "\n",
    "Group the dataframe by `peduc` and `gender` while aggregating `math`, `reading`, and `writing` with the mean and `course` with the mode.\n",
    "\n",
    "_Tip: Again, don't feel constained by the blanks. This command may span multiple lines._"
   ]
  },
  {
   "cell_type": "code",
   "execution_count": 39,
   "metadata": {},
   "outputs": [
    {
     "data": {
      "text/plain": "                                math    reading    writing\npeduc              gender                                 \nassociate's degree female  65.250000  74.120690  74.000000\n                   male    70.764151  67.433962  65.405660\nbachelor's degree  female  68.349206  77.285714  78.380952\n                   male    70.581818  68.090909  67.654545\nhigh school        female  59.322581  68.268817  66.731183\n                   male    64.705882  61.480392  58.539216\nmaster's degree    female  66.500000  76.805556  77.638889\n                   male    74.826087  73.130435  72.608696\nsome college       female  65.406780  73.550847  74.050847\n                   male    69.009259  64.990741  63.148148\nsome high school   female  59.296703  69.109890  68.285714\n                   male    67.955672  64.693182  61.375000",
      "text/html": "<div>\n<style scoped>\n    .dataframe tbody tr th:only-of-type {\n        vertical-align: middle;\n    }\n\n    .dataframe tbody tr th {\n        vertical-align: top;\n    }\n\n    .dataframe thead th {\n        text-align: right;\n    }\n</style>\n<table border=\"1\" class=\"dataframe\">\n  <thead>\n    <tr style=\"text-align: right;\">\n      <th></th>\n      <th></th>\n      <th>math</th>\n      <th>reading</th>\n      <th>writing</th>\n    </tr>\n    <tr>\n      <th>peduc</th>\n      <th>gender</th>\n      <th></th>\n      <th></th>\n      <th></th>\n    </tr>\n  </thead>\n  <tbody>\n    <tr>\n      <th rowspan=\"2\" valign=\"top\">associate's degree</th>\n      <th>female</th>\n      <td>65.250000</td>\n      <td>74.120690</td>\n      <td>74.000000</td>\n    </tr>\n    <tr>\n      <th>male</th>\n      <td>70.764151</td>\n      <td>67.433962</td>\n      <td>65.405660</td>\n    </tr>\n    <tr>\n      <th rowspan=\"2\" valign=\"top\">bachelor's degree</th>\n      <th>female</th>\n      <td>68.349206</td>\n      <td>77.285714</td>\n      <td>78.380952</td>\n    </tr>\n    <tr>\n      <th>male</th>\n      <td>70.581818</td>\n      <td>68.090909</td>\n      <td>67.654545</td>\n    </tr>\n    <tr>\n      <th rowspan=\"2\" valign=\"top\">high school</th>\n      <th>female</th>\n      <td>59.322581</td>\n      <td>68.268817</td>\n      <td>66.731183</td>\n    </tr>\n    <tr>\n      <th>male</th>\n      <td>64.705882</td>\n      <td>61.480392</td>\n      <td>58.539216</td>\n    </tr>\n    <tr>\n      <th rowspan=\"2\" valign=\"top\">master's degree</th>\n      <th>female</th>\n      <td>66.500000</td>\n      <td>76.805556</td>\n      <td>77.638889</td>\n    </tr>\n    <tr>\n      <th>male</th>\n      <td>74.826087</td>\n      <td>73.130435</td>\n      <td>72.608696</td>\n    </tr>\n    <tr>\n      <th rowspan=\"2\" valign=\"top\">some college</th>\n      <th>female</th>\n      <td>65.406780</td>\n      <td>73.550847</td>\n      <td>74.050847</td>\n    </tr>\n    <tr>\n      <th>male</th>\n      <td>69.009259</td>\n      <td>64.990741</td>\n      <td>63.148148</td>\n    </tr>\n    <tr>\n      <th rowspan=\"2\" valign=\"top\">some high school</th>\n      <th>female</th>\n      <td>59.296703</td>\n      <td>69.109890</td>\n      <td>68.285714</td>\n    </tr>\n    <tr>\n      <th>male</th>\n      <td>67.955672</td>\n      <td>64.693182</td>\n      <td>61.375000</td>\n    </tr>\n  </tbody>\n</table>\n</div>"
     },
     "execution_count": 39,
     "metadata": {},
     "output_type": "execute_result"
    }
   ],
   "source": [
    "df.groupby(['peduc', 'gender']).agg({'math': 'mean',\n",
    "                                     'reading': 'mean',\n",
    "                                     'writing': 'mean'})"
   ]
  },
  {
   "attachments": {},
   "cell_type": "markdown",
   "metadata": {},
   "source": [
    "We would likely want to treat`peduc`as an 'ordinal' rather than a categorical variable as it does have an inherent ordering. Feel free to try using indexing to sort the rows. But after the grouping we now have [multiple indices](https://pandas.pydata.org/docs/reference/api/pandas.MultiIndex.html?highlight=multiindex#pandas.MultiIndex) for each row!\n",
    "\n",
    "There's still more Pandas to discover 🐼"
   ]
  }
 ]
}