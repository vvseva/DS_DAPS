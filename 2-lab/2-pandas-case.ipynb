{
 "cells": [
  {
   "cell_type": "code",
   "execution_count": 4,
   "metadata": {
    "collapsed": true
   },
   "outputs": [],
   "source": [
    "import pandas as pd\n",
    "import numpy as np\n",
    "import seaborn as sns\n",
    "sns.set(rc={'figure.figsize':(11.7,8.27)})"
   ]
  },
  {
   "cell_type": "markdown",
   "source": [
    "“A large-scale analysis of racial disparities in police stops across the United States” by Pierson et al.\n",
    "[arxiv](https://arxiv.org/pdf/1706.05678&hl=en&sa=X&scisig=AAGBfm2zvR6alec2VLGC4MM7XEKygb6MoQ&nossl=1&oi=scholarr)\n",
    "Fortunately, we live during the era of Open Science, so [data](https://openpolicing.stanford.edu/data/) is open, [analysis](https://openpolicing.stanford.edu/tutorials/) is open and presented in a form of tutorial, but that is in R\n",
    "So lets rewrite everything in Python!\n",
    "\n",
    "For educational purposes we will work with Philadelphia and Pennsylvania only available at [link](https://stacks.stanford.edu/file/druid:yg821jf8611/yg821jf8611_pa_philadelphia_2020_04_01.csv.zip)"
   ],
   "metadata": {
    "collapsed": false,
    "pycharm": {
     "name": "#%% md\n"
    }
   }
  },
  {
   "cell_type": "code",
   "execution_count": 5,
   "outputs": [
    {
     "name": "stderr",
     "output_type": "stream",
     "text": [
      "C:\\Users\\wirze\\AppData\\Local\\Temp\\ipykernel_19924\\2835790522.py:1: DtypeWarning: Columns (7) have mixed types. Specify dtype option on import or set low_memory=False.\n",
      "  df = pd.read_csv(\"pa_philadelphia_2020_04_01.csv\")\n"
     ]
    },
    {
     "data": {
      "text/plain": "  raw_row_number        date      time                location        lat  \\\n0         411981  2014-01-01  01:14:00                     NaN        NaN   \n1         407442  2014-01-01  01:57:00                     NaN        NaN   \n2         217556  2014-01-01  03:30:00    3400 BLOCK SPRUCE ST  39.950424   \n3         217557  2014-01-01  03:40:00    3400 BLOCK SPRUCE ST  39.950424   \n4         230988  2014-01-01  08:30:00  N 56TH ST / UPLAND WAY  39.983712   \n\n         lng  district service_area  subject_age subject_race  ...  \\\n0        NaN      19.0          191         31.0        black  ...   \n1        NaN      12.0          121         21.0        black  ...   \n2 -75.192680      18.0          183         24.0        black  ...   \n3 -75.192680      18.0          183         20.0        black  ...   \n4 -75.234188      19.0          193         31.0        black  ...   \n\n  arrest_made outcome  contraband_found frisk_performed search_conducted  \\\n0        True  arrest              True           False             True   \n1        True  arrest             False            True             True   \n2       False     NaN               NaN           False            False   \n3       False     NaN               NaN           False            False   \n4       False     NaN               NaN           False            False   \n\n   search_person  search_vehicle            raw_race  \\\n0           True           False  Black - Non-Latino   \n1           True           False  Black - Non-Latino   \n2          False           False  Black - Non-Latino   \n3          False           False  Black - Non-Latino   \n4          False           False  Black - Non-Latino   \n\n   raw_individual_contraband raw_vehicle_contraband  \n0                       True                  False  \n1                      False                  False  \n2                      False                  False  \n3                      False                  False  \n4                      False                  False  \n\n[5 rows x 22 columns]",
      "text/html": "<div>\n<style scoped>\n    .dataframe tbody tr th:only-of-type {\n        vertical-align: middle;\n    }\n\n    .dataframe tbody tr th {\n        vertical-align: top;\n    }\n\n    .dataframe thead th {\n        text-align: right;\n    }\n</style>\n<table border=\"1\" class=\"dataframe\">\n  <thead>\n    <tr style=\"text-align: right;\">\n      <th></th>\n      <th>raw_row_number</th>\n      <th>date</th>\n      <th>time</th>\n      <th>location</th>\n      <th>lat</th>\n      <th>lng</th>\n      <th>district</th>\n      <th>service_area</th>\n      <th>subject_age</th>\n      <th>subject_race</th>\n      <th>...</th>\n      <th>arrest_made</th>\n      <th>outcome</th>\n      <th>contraband_found</th>\n      <th>frisk_performed</th>\n      <th>search_conducted</th>\n      <th>search_person</th>\n      <th>search_vehicle</th>\n      <th>raw_race</th>\n      <th>raw_individual_contraband</th>\n      <th>raw_vehicle_contraband</th>\n    </tr>\n  </thead>\n  <tbody>\n    <tr>\n      <th>0</th>\n      <td>411981</td>\n      <td>2014-01-01</td>\n      <td>01:14:00</td>\n      <td>NaN</td>\n      <td>NaN</td>\n      <td>NaN</td>\n      <td>19.0</td>\n      <td>191</td>\n      <td>31.0</td>\n      <td>black</td>\n      <td>...</td>\n      <td>True</td>\n      <td>arrest</td>\n      <td>True</td>\n      <td>False</td>\n      <td>True</td>\n      <td>True</td>\n      <td>False</td>\n      <td>Black - Non-Latino</td>\n      <td>True</td>\n      <td>False</td>\n    </tr>\n    <tr>\n      <th>1</th>\n      <td>407442</td>\n      <td>2014-01-01</td>\n      <td>01:57:00</td>\n      <td>NaN</td>\n      <td>NaN</td>\n      <td>NaN</td>\n      <td>12.0</td>\n      <td>121</td>\n      <td>21.0</td>\n      <td>black</td>\n      <td>...</td>\n      <td>True</td>\n      <td>arrest</td>\n      <td>False</td>\n      <td>True</td>\n      <td>True</td>\n      <td>True</td>\n      <td>False</td>\n      <td>Black - Non-Latino</td>\n      <td>False</td>\n      <td>False</td>\n    </tr>\n    <tr>\n      <th>2</th>\n      <td>217556</td>\n      <td>2014-01-01</td>\n      <td>03:30:00</td>\n      <td>3400 BLOCK SPRUCE ST</td>\n      <td>39.950424</td>\n      <td>-75.192680</td>\n      <td>18.0</td>\n      <td>183</td>\n      <td>24.0</td>\n      <td>black</td>\n      <td>...</td>\n      <td>False</td>\n      <td>NaN</td>\n      <td>NaN</td>\n      <td>False</td>\n      <td>False</td>\n      <td>False</td>\n      <td>False</td>\n      <td>Black - Non-Latino</td>\n      <td>False</td>\n      <td>False</td>\n    </tr>\n    <tr>\n      <th>3</th>\n      <td>217557</td>\n      <td>2014-01-01</td>\n      <td>03:40:00</td>\n      <td>3400 BLOCK SPRUCE ST</td>\n      <td>39.950424</td>\n      <td>-75.192680</td>\n      <td>18.0</td>\n      <td>183</td>\n      <td>20.0</td>\n      <td>black</td>\n      <td>...</td>\n      <td>False</td>\n      <td>NaN</td>\n      <td>NaN</td>\n      <td>False</td>\n      <td>False</td>\n      <td>False</td>\n      <td>False</td>\n      <td>Black - Non-Latino</td>\n      <td>False</td>\n      <td>False</td>\n    </tr>\n    <tr>\n      <th>4</th>\n      <td>230988</td>\n      <td>2014-01-01</td>\n      <td>08:30:00</td>\n      <td>N 56TH ST / UPLAND WAY</td>\n      <td>39.983712</td>\n      <td>-75.234188</td>\n      <td>19.0</td>\n      <td>193</td>\n      <td>31.0</td>\n      <td>black</td>\n      <td>...</td>\n      <td>False</td>\n      <td>NaN</td>\n      <td>NaN</td>\n      <td>False</td>\n      <td>False</td>\n      <td>False</td>\n      <td>False</td>\n      <td>Black - Non-Latino</td>\n      <td>False</td>\n      <td>False</td>\n    </tr>\n  </tbody>\n</table>\n<p>5 rows × 22 columns</p>\n</div>"
     },
     "execution_count": 5,
     "metadata": {},
     "output_type": "execute_result"
    }
   ],
   "source": [
    "df = pd.read_csv(\"pa_philadelphia_2020_04_01.csv\")\n",
    "df.head()"
   ],
   "metadata": {
    "collapsed": false,
    "pycharm": {
     "name": "#%%\n"
    }
   }
  },
  {
   "cell_type": "code",
   "execution_count": 6,
   "outputs": [
    {
     "data": {
      "text/plain": "                lat           lng      district   subject_age\ncount  1.760399e+06  1.760399e+06  1.865095e+06  1.860537e+06\nmean   3.999082e+01 -7.515991e+01  1.897446e+01  3.482904e+01\nstd    4.300670e-02  5.408462e-02  1.055422e+01  1.333661e+01\nmin    3.987503e+01 -7.527569e+01  1.000000e+00  1.000000e+01\n25%    3.995843e+01 -7.519555e+01  1.200000e+01  2.400000e+01\n50%    3.999226e+01 -7.516022e+01  1.800000e+01  3.100000e+01\n75%    4.002475e+01 -7.513019e+01  2.500000e+01  4.400000e+01\nmax    4.013789e+01 -7.495771e+01  7.700000e+01  1.100000e+02",
      "text/html": "<div>\n<style scoped>\n    .dataframe tbody tr th:only-of-type {\n        vertical-align: middle;\n    }\n\n    .dataframe tbody tr th {\n        vertical-align: top;\n    }\n\n    .dataframe thead th {\n        text-align: right;\n    }\n</style>\n<table border=\"1\" class=\"dataframe\">\n  <thead>\n    <tr style=\"text-align: right;\">\n      <th></th>\n      <th>lat</th>\n      <th>lng</th>\n      <th>district</th>\n      <th>subject_age</th>\n    </tr>\n  </thead>\n  <tbody>\n    <tr>\n      <th>count</th>\n      <td>1.760399e+06</td>\n      <td>1.760399e+06</td>\n      <td>1.865095e+06</td>\n      <td>1.860537e+06</td>\n    </tr>\n    <tr>\n      <th>mean</th>\n      <td>3.999082e+01</td>\n      <td>-7.515991e+01</td>\n      <td>1.897446e+01</td>\n      <td>3.482904e+01</td>\n    </tr>\n    <tr>\n      <th>std</th>\n      <td>4.300670e-02</td>\n      <td>5.408462e-02</td>\n      <td>1.055422e+01</td>\n      <td>1.333661e+01</td>\n    </tr>\n    <tr>\n      <th>min</th>\n      <td>3.987503e+01</td>\n      <td>-7.527569e+01</td>\n      <td>1.000000e+00</td>\n      <td>1.000000e+01</td>\n    </tr>\n    <tr>\n      <th>25%</th>\n      <td>3.995843e+01</td>\n      <td>-7.519555e+01</td>\n      <td>1.200000e+01</td>\n      <td>2.400000e+01</td>\n    </tr>\n    <tr>\n      <th>50%</th>\n      <td>3.999226e+01</td>\n      <td>-7.516022e+01</td>\n      <td>1.800000e+01</td>\n      <td>3.100000e+01</td>\n    </tr>\n    <tr>\n      <th>75%</th>\n      <td>4.002475e+01</td>\n      <td>-7.513019e+01</td>\n      <td>2.500000e+01</td>\n      <td>4.400000e+01</td>\n    </tr>\n    <tr>\n      <th>max</th>\n      <td>4.013789e+01</td>\n      <td>-7.495771e+01</td>\n      <td>7.700000e+01</td>\n      <td>1.100000e+02</td>\n    </tr>\n  </tbody>\n</table>\n</div>"
     },
     "execution_count": 6,
     "metadata": {},
     "output_type": "execute_result"
    }
   ],
   "source": [
    "df.describe()"
   ],
   "metadata": {
    "collapsed": false,
    "pycharm": {
     "name": "#%%\n"
    }
   }
  },
  {
   "cell_type": "markdown",
   "source": [
    "use your print_uniques from recup2"
   ],
   "metadata": {
    "collapsed": false,
    "pycharm": {
     "name": "#%% md\n"
    }
   }
  },
  {
   "cell_type": "code",
   "execution_count": null,
   "outputs": [],
   "source": [],
   "metadata": {
    "collapsed": false,
    "pycharm": {
     "name": "#%%\n"
    }
   }
  },
  {
   "cell_type": "markdown",
   "source": [
    "write at least two sentences describing the data\n",
    "Hint: [readme available at github](https://github.com/stanford-policylab/opp/blob/master/data_readme.md)\n",
    "Our target variable are search_conducted and frisk_performed, they indicate *\"whether any type of search was conducted, i.e. driver, passenger, vehicle. Frisks are excluded where the department has provided resolution on both\"*\n",
    "This data is about ...\n",
    "For me the most interesting available variables are ...\n",
    "Philadelphia is special because ..."
   ],
   "metadata": {
    "collapsed": false,
    "pycharm": {
     "name": "#%% md\n"
    }
   }
  },
  {
   "cell_type": "markdown",
   "source": [],
   "metadata": {
    "collapsed": false,
    "pycharm": {
     "name": "#%% md\n"
    }
   }
  },
  {
   "cell_type": "markdown",
   "source": [
    "## analysis\n",
    "Authors defined **hit_rate**, as the the “proportion of searches that successfully turn up contraband.”"
   ],
   "metadata": {
    "collapsed": false,
    "pycharm": {
     "name": "#%% md\n"
    }
   }
  },
  {
   "cell_type": "markdown",
   "source": [
    "Calculate average contraband_found rate by race of a subject only among those who were searched"
   ],
   "metadata": {
    "collapsed": false,
    "pycharm": {
     "name": "#%% md\n"
    }
   }
  },
  {
   "cell_type": "code",
   "execution_count": null,
   "outputs": [],
   "source": [
    "# df[df['search_conducted'] == True]#####"
   ],
   "metadata": {
    "collapsed": false,
    "pycharm": {
     "name": "#%%\n"
    }
   }
  },
  {
   "cell_type": "markdown",
   "source": [
    "among those who were searched,\n",
    "for each district and by subject race\\ethnicity\n",
    "calculate average percentage of contraband found\n",
    "reset indexes for christ sake"
   ],
   "metadata": {
    "collapsed": false,
    "pycharm": {
     "name": "#%% md\n"
    }
   }
  },
  {
   "cell_type": "code",
   "execution_count": 7,
   "outputs": [
    {
     "data": {
      "text/plain": "     district            subject_race  hit_rate\n0         1.0  asian/pacific islander  0.154930\n1         1.0                   black  0.240082\n2         1.0                hispanic  0.272727\n3         1.0                   other  0.333333\n4         1.0                 unknown  0.500000\n..        ...                     ...       ...\n125      77.0                   black  0.041940\n126      77.0                hispanic  0.056604\n127      77.0                   other  0.000000\n128      77.0                 unknown  0.000000\n129      77.0                   white  0.020625\n\n[130 rows x 3 columns]",
      "text/html": "<div>\n<style scoped>\n    .dataframe tbody tr th:only-of-type {\n        vertical-align: middle;\n    }\n\n    .dataframe tbody tr th {\n        vertical-align: top;\n    }\n\n    .dataframe thead th {\n        text-align: right;\n    }\n</style>\n<table border=\"1\" class=\"dataframe\">\n  <thead>\n    <tr style=\"text-align: right;\">\n      <th></th>\n      <th>district</th>\n      <th>subject_race</th>\n      <th>hit_rate</th>\n    </tr>\n  </thead>\n  <tbody>\n    <tr>\n      <th>0</th>\n      <td>1.0</td>\n      <td>asian/pacific islander</td>\n      <td>0.154930</td>\n    </tr>\n    <tr>\n      <th>1</th>\n      <td>1.0</td>\n      <td>black</td>\n      <td>0.240082</td>\n    </tr>\n    <tr>\n      <th>2</th>\n      <td>1.0</td>\n      <td>hispanic</td>\n      <td>0.272727</td>\n    </tr>\n    <tr>\n      <th>3</th>\n      <td>1.0</td>\n      <td>other</td>\n      <td>0.333333</td>\n    </tr>\n    <tr>\n      <th>4</th>\n      <td>1.0</td>\n      <td>unknown</td>\n      <td>0.500000</td>\n    </tr>\n    <tr>\n      <th>...</th>\n      <td>...</td>\n      <td>...</td>\n      <td>...</td>\n    </tr>\n    <tr>\n      <th>125</th>\n      <td>77.0</td>\n      <td>black</td>\n      <td>0.041940</td>\n    </tr>\n    <tr>\n      <th>126</th>\n      <td>77.0</td>\n      <td>hispanic</td>\n      <td>0.056604</td>\n    </tr>\n    <tr>\n      <th>127</th>\n      <td>77.0</td>\n      <td>other</td>\n      <td>0.000000</td>\n    </tr>\n    <tr>\n      <th>128</th>\n      <td>77.0</td>\n      <td>unknown</td>\n      <td>0.000000</td>\n    </tr>\n    <tr>\n      <th>129</th>\n      <td>77.0</td>\n      <td>white</td>\n      <td>0.020625</td>\n    </tr>\n  </tbody>\n</table>\n<p>130 rows × 3 columns</p>\n</div>"
     },
     "execution_count": 7,
     "metadata": {},
     "output_type": "execute_result"
    }
   ],
   "source": [
    "df_ht = df[df['search_conducted'] == True].\\\n",
    "    groupby(['district', 'subject_race']).\\\n",
    "    agg(hit_rate  = ('contraband_found', 'mean')).\\\n",
    "    reset_index()\n",
    "df_ht"
   ],
   "metadata": {
    "collapsed": false,
    "pycharm": {
     "name": "#%%\n"
    }
   }
  },
  {
   "cell_type": "markdown",
   "source": [
    "transform data into wide format\n",
    "there are nice [gifs](https://github.com/gadenbuie/tidyexplain) for better understanding\n",
    "check them out\n",
    "\n",
    "pandas function is [pivot_table](https://pandas.pydata.org/docs/reference/api/pandas.pivot_table.html)\n",
    "\n",
    "we want to have districts in each row\n",
    "and and hit rates for each race\n",
    "also lets filter out all other races except for black, white, and hispanic people\n",
    "\n",
    "rename column white as white_hit_rate"
   ],
   "metadata": {
    "collapsed": false,
    "pycharm": {
     "name": "#%% md\n"
    }
   }
  },
  {
   "cell_type": "code",
   "execution_count": 18,
   "outputs": [
    {
     "data": {
      "text/plain": "             district  hit_rate                         \nsubject_race district     black  hispanic white_hit_rate\n0                 1.0  0.240082  0.272727       0.277188\n1                 2.0  0.351217  0.311304       0.320631\n2                 3.0  0.293540  0.186495       0.238508\n3                 5.0  0.204420  0.400000       0.201058\n4                 6.0  0.233895  0.231707       0.174118\n5                 7.0  0.219355  0.181818       0.201571\n6                 8.0  0.203209  0.238095       0.214552\n7                 9.0  0.214390  0.180556       0.182320\n8                12.0  0.242017  0.301370       0.232365\n9                14.0  0.228657  0.140000       0.225131\n10               15.0  0.294636  0.254000       0.205858\n11               16.0  0.305902  0.185185       0.321429\n12               17.0  0.276910  0.256637       0.287425\n13               18.0  0.238672  0.212121       0.238908\n14               19.0  0.340197  0.243243       0.429952\n15               22.0  0.242911  0.217877       0.233668\n16               24.0  0.420622  0.447331       0.429279\n17               25.0  0.296432  0.331142       0.389138\n18               26.0  0.342292  0.321884       0.256630\n19               35.0  0.242723  0.222445       0.279373\n20               39.0  0.295119  0.226415       0.395349\n21               77.0  0.041940  0.056604       0.020625",
      "text/html": "<div>\n<style scoped>\n    .dataframe tbody tr th:only-of-type {\n        vertical-align: middle;\n    }\n\n    .dataframe tbody tr th {\n        vertical-align: top;\n    }\n\n    .dataframe thead tr th {\n        text-align: left;\n    }\n</style>\n<table border=\"1\" class=\"dataframe\">\n  <thead>\n    <tr>\n      <th></th>\n      <th>district</th>\n      <th colspan=\"3\" halign=\"left\">hit_rate</th>\n    </tr>\n    <tr>\n      <th>subject_race</th>\n      <th>district</th>\n      <th>black</th>\n      <th>hispanic</th>\n      <th>white_hit_rate</th>\n    </tr>\n  </thead>\n  <tbody>\n    <tr>\n      <th>0</th>\n      <td>1.0</td>\n      <td>0.240082</td>\n      <td>0.272727</td>\n      <td>0.277188</td>\n    </tr>\n    <tr>\n      <th>1</th>\n      <td>2.0</td>\n      <td>0.351217</td>\n      <td>0.311304</td>\n      <td>0.320631</td>\n    </tr>\n    <tr>\n      <th>2</th>\n      <td>3.0</td>\n      <td>0.293540</td>\n      <td>0.186495</td>\n      <td>0.238508</td>\n    </tr>\n    <tr>\n      <th>3</th>\n      <td>5.0</td>\n      <td>0.204420</td>\n      <td>0.400000</td>\n      <td>0.201058</td>\n    </tr>\n    <tr>\n      <th>4</th>\n      <td>6.0</td>\n      <td>0.233895</td>\n      <td>0.231707</td>\n      <td>0.174118</td>\n    </tr>\n    <tr>\n      <th>5</th>\n      <td>7.0</td>\n      <td>0.219355</td>\n      <td>0.181818</td>\n      <td>0.201571</td>\n    </tr>\n    <tr>\n      <th>6</th>\n      <td>8.0</td>\n      <td>0.203209</td>\n      <td>0.238095</td>\n      <td>0.214552</td>\n    </tr>\n    <tr>\n      <th>7</th>\n      <td>9.0</td>\n      <td>0.214390</td>\n      <td>0.180556</td>\n      <td>0.182320</td>\n    </tr>\n    <tr>\n      <th>8</th>\n      <td>12.0</td>\n      <td>0.242017</td>\n      <td>0.301370</td>\n      <td>0.232365</td>\n    </tr>\n    <tr>\n      <th>9</th>\n      <td>14.0</td>\n      <td>0.228657</td>\n      <td>0.140000</td>\n      <td>0.225131</td>\n    </tr>\n    <tr>\n      <th>10</th>\n      <td>15.0</td>\n      <td>0.294636</td>\n      <td>0.254000</td>\n      <td>0.205858</td>\n    </tr>\n    <tr>\n      <th>11</th>\n      <td>16.0</td>\n      <td>0.305902</td>\n      <td>0.185185</td>\n      <td>0.321429</td>\n    </tr>\n    <tr>\n      <th>12</th>\n      <td>17.0</td>\n      <td>0.276910</td>\n      <td>0.256637</td>\n      <td>0.287425</td>\n    </tr>\n    <tr>\n      <th>13</th>\n      <td>18.0</td>\n      <td>0.238672</td>\n      <td>0.212121</td>\n      <td>0.238908</td>\n    </tr>\n    <tr>\n      <th>14</th>\n      <td>19.0</td>\n      <td>0.340197</td>\n      <td>0.243243</td>\n      <td>0.429952</td>\n    </tr>\n    <tr>\n      <th>15</th>\n      <td>22.0</td>\n      <td>0.242911</td>\n      <td>0.217877</td>\n      <td>0.233668</td>\n    </tr>\n    <tr>\n      <th>16</th>\n      <td>24.0</td>\n      <td>0.420622</td>\n      <td>0.447331</td>\n      <td>0.429279</td>\n    </tr>\n    <tr>\n      <th>17</th>\n      <td>25.0</td>\n      <td>0.296432</td>\n      <td>0.331142</td>\n      <td>0.389138</td>\n    </tr>\n    <tr>\n      <th>18</th>\n      <td>26.0</td>\n      <td>0.342292</td>\n      <td>0.321884</td>\n      <td>0.256630</td>\n    </tr>\n    <tr>\n      <th>19</th>\n      <td>35.0</td>\n      <td>0.242723</td>\n      <td>0.222445</td>\n      <td>0.279373</td>\n    </tr>\n    <tr>\n      <th>20</th>\n      <td>39.0</td>\n      <td>0.295119</td>\n      <td>0.226415</td>\n      <td>0.395349</td>\n    </tr>\n    <tr>\n      <th>21</th>\n      <td>77.0</td>\n      <td>0.041940</td>\n      <td>0.056604</td>\n      <td>0.020625</td>\n    </tr>\n  </tbody>\n</table>\n</div>"
     },
     "execution_count": 18,
     "metadata": {},
     "output_type": "execute_result"
    }
   ],
   "source": [
    "df_ht_wide = df_ht[df_ht['subject_race'].isin([\"black\", \"white\", \"hispanic\"])].\\\n",
    "    pivot_table(values = ['hit_rate'],\n",
    "                index = ['district'],\n",
    "                columns=['subject_race']).\\\n",
    "    rename({'white':'white_hit_rate'}, axis = 'columns').\\\n",
    "    reset_index(level='district', col_level=1, col_fill='district')\n",
    "df_ht_wide"
   ],
   "metadata": {
    "collapsed": false,
    "pycharm": {
     "name": "#%%\n"
    }
   }
  },
  {
   "cell_type": "markdown",
   "source": [
    "sometimes double headings of columns could screw us\n",
    "thb, i am scared of them, so lets drop them\n",
    "that a tiny hack that will help us later"
   ],
   "metadata": {
    "collapsed": false,
    "pycharm": {
     "name": "#%% md\n"
    }
   }
  },
  {
   "cell_type": "code",
   "execution_count": 19,
   "outputs": [
    {
     "data": {
      "text/plain": "subject_race  district     black  hispanic  white_hit_rate\n0                  1.0  0.240082  0.272727        0.277188\n1                  2.0  0.351217  0.311304        0.320631\n2                  3.0  0.293540  0.186495        0.238508\n3                  5.0  0.204420  0.400000        0.201058\n4                  6.0  0.233895  0.231707        0.174118\n5                  7.0  0.219355  0.181818        0.201571\n6                  8.0  0.203209  0.238095        0.214552\n7                  9.0  0.214390  0.180556        0.182320\n8                 12.0  0.242017  0.301370        0.232365\n9                 14.0  0.228657  0.140000        0.225131\n10                15.0  0.294636  0.254000        0.205858\n11                16.0  0.305902  0.185185        0.321429\n12                17.0  0.276910  0.256637        0.287425\n13                18.0  0.238672  0.212121        0.238908\n14                19.0  0.340197  0.243243        0.429952\n15                22.0  0.242911  0.217877        0.233668\n16                24.0  0.420622  0.447331        0.429279\n17                25.0  0.296432  0.331142        0.389138\n18                26.0  0.342292  0.321884        0.256630\n19                35.0  0.242723  0.222445        0.279373\n20                39.0  0.295119  0.226415        0.395349\n21                77.0  0.041940  0.056604        0.020625",
      "text/html": "<div>\n<style scoped>\n    .dataframe tbody tr th:only-of-type {\n        vertical-align: middle;\n    }\n\n    .dataframe tbody tr th {\n        vertical-align: top;\n    }\n\n    .dataframe thead th {\n        text-align: right;\n    }\n</style>\n<table border=\"1\" class=\"dataframe\">\n  <thead>\n    <tr style=\"text-align: right;\">\n      <th>subject_race</th>\n      <th>district</th>\n      <th>black</th>\n      <th>hispanic</th>\n      <th>white_hit_rate</th>\n    </tr>\n  </thead>\n  <tbody>\n    <tr>\n      <th>0</th>\n      <td>1.0</td>\n      <td>0.240082</td>\n      <td>0.272727</td>\n      <td>0.277188</td>\n    </tr>\n    <tr>\n      <th>1</th>\n      <td>2.0</td>\n      <td>0.351217</td>\n      <td>0.311304</td>\n      <td>0.320631</td>\n    </tr>\n    <tr>\n      <th>2</th>\n      <td>3.0</td>\n      <td>0.293540</td>\n      <td>0.186495</td>\n      <td>0.238508</td>\n    </tr>\n    <tr>\n      <th>3</th>\n      <td>5.0</td>\n      <td>0.204420</td>\n      <td>0.400000</td>\n      <td>0.201058</td>\n    </tr>\n    <tr>\n      <th>4</th>\n      <td>6.0</td>\n      <td>0.233895</td>\n      <td>0.231707</td>\n      <td>0.174118</td>\n    </tr>\n    <tr>\n      <th>5</th>\n      <td>7.0</td>\n      <td>0.219355</td>\n      <td>0.181818</td>\n      <td>0.201571</td>\n    </tr>\n    <tr>\n      <th>6</th>\n      <td>8.0</td>\n      <td>0.203209</td>\n      <td>0.238095</td>\n      <td>0.214552</td>\n    </tr>\n    <tr>\n      <th>7</th>\n      <td>9.0</td>\n      <td>0.214390</td>\n      <td>0.180556</td>\n      <td>0.182320</td>\n    </tr>\n    <tr>\n      <th>8</th>\n      <td>12.0</td>\n      <td>0.242017</td>\n      <td>0.301370</td>\n      <td>0.232365</td>\n    </tr>\n    <tr>\n      <th>9</th>\n      <td>14.0</td>\n      <td>0.228657</td>\n      <td>0.140000</td>\n      <td>0.225131</td>\n    </tr>\n    <tr>\n      <th>10</th>\n      <td>15.0</td>\n      <td>0.294636</td>\n      <td>0.254000</td>\n      <td>0.205858</td>\n    </tr>\n    <tr>\n      <th>11</th>\n      <td>16.0</td>\n      <td>0.305902</td>\n      <td>0.185185</td>\n      <td>0.321429</td>\n    </tr>\n    <tr>\n      <th>12</th>\n      <td>17.0</td>\n      <td>0.276910</td>\n      <td>0.256637</td>\n      <td>0.287425</td>\n    </tr>\n    <tr>\n      <th>13</th>\n      <td>18.0</td>\n      <td>0.238672</td>\n      <td>0.212121</td>\n      <td>0.238908</td>\n    </tr>\n    <tr>\n      <th>14</th>\n      <td>19.0</td>\n      <td>0.340197</td>\n      <td>0.243243</td>\n      <td>0.429952</td>\n    </tr>\n    <tr>\n      <th>15</th>\n      <td>22.0</td>\n      <td>0.242911</td>\n      <td>0.217877</td>\n      <td>0.233668</td>\n    </tr>\n    <tr>\n      <th>16</th>\n      <td>24.0</td>\n      <td>0.420622</td>\n      <td>0.447331</td>\n      <td>0.429279</td>\n    </tr>\n    <tr>\n      <th>17</th>\n      <td>25.0</td>\n      <td>0.296432</td>\n      <td>0.331142</td>\n      <td>0.389138</td>\n    </tr>\n    <tr>\n      <th>18</th>\n      <td>26.0</td>\n      <td>0.342292</td>\n      <td>0.321884</td>\n      <td>0.256630</td>\n    </tr>\n    <tr>\n      <th>19</th>\n      <td>35.0</td>\n      <td>0.242723</td>\n      <td>0.222445</td>\n      <td>0.279373</td>\n    </tr>\n    <tr>\n      <th>20</th>\n      <td>39.0</td>\n      <td>0.295119</td>\n      <td>0.226415</td>\n      <td>0.395349</td>\n    </tr>\n    <tr>\n      <th>21</th>\n      <td>77.0</td>\n      <td>0.041940</td>\n      <td>0.056604</td>\n      <td>0.020625</td>\n    </tr>\n  </tbody>\n</table>\n</div>"
     },
     "execution_count": 19,
     "metadata": {},
     "output_type": "execute_result"
    }
   ],
   "source": [
    "df_ht_wide.columns = df_ht_wide.columns.droplevel(0)\n",
    "df_ht_wide"
   ],
   "metadata": {
    "collapsed": false,
    "pycharm": {
     "name": "#%%\n"
    }
   }
  },
  {
   "cell_type": "markdown",
   "source": [
    "And from wide format back to long one,\n",
    "but not so long\n",
    "we want to gather only minorities, and compare them against white\n",
    "\n",
    "so long dataframe will have two rows for each district with black and hispanic as subject race\n",
    "and new value name as minority_hit_rate\n",
    "\n",
    "use function [melt](https://pandas.pydata.org/docs/reference/api/pandas.melt.html) for this transformation"
   ],
   "metadata": {
    "collapsed": false,
    "pycharm": {
     "name": "#%% md\n"
    }
   }
  },
  {
   "cell_type": "code",
   "execution_count": 21,
   "outputs": [
    {
     "data": {
      "text/plain": "    district  white_hit_rate subject_race  minority_hit_rate\n0        1.0        0.277188        black           0.240082\n22       1.0        0.277188     hispanic           0.272727\n1        2.0        0.320631        black           0.351217\n23       2.0        0.320631     hispanic           0.311304\n2        3.0        0.238508        black           0.293540",
      "text/html": "<div>\n<style scoped>\n    .dataframe tbody tr th:only-of-type {\n        vertical-align: middle;\n    }\n\n    .dataframe tbody tr th {\n        vertical-align: top;\n    }\n\n    .dataframe thead th {\n        text-align: right;\n    }\n</style>\n<table border=\"1\" class=\"dataframe\">\n  <thead>\n    <tr style=\"text-align: right;\">\n      <th></th>\n      <th>district</th>\n      <th>white_hit_rate</th>\n      <th>subject_race</th>\n      <th>minority_hit_rate</th>\n    </tr>\n  </thead>\n  <tbody>\n    <tr>\n      <th>0</th>\n      <td>1.0</td>\n      <td>0.277188</td>\n      <td>black</td>\n      <td>0.240082</td>\n    </tr>\n    <tr>\n      <th>22</th>\n      <td>1.0</td>\n      <td>0.277188</td>\n      <td>hispanic</td>\n      <td>0.272727</td>\n    </tr>\n    <tr>\n      <th>1</th>\n      <td>2.0</td>\n      <td>0.320631</td>\n      <td>black</td>\n      <td>0.351217</td>\n    </tr>\n    <tr>\n      <th>23</th>\n      <td>2.0</td>\n      <td>0.320631</td>\n      <td>hispanic</td>\n      <td>0.311304</td>\n    </tr>\n    <tr>\n      <th>2</th>\n      <td>3.0</td>\n      <td>0.238508</td>\n      <td>black</td>\n      <td>0.293540</td>\n    </tr>\n  </tbody>\n</table>\n</div>"
     },
     "execution_count": 21,
     "metadata": {},
     "output_type": "execute_result"
    }
   ],
   "source": [
    "df_ht_long = df_ht_wide.\\\n",
    "    melt(id_vars = ['district', 'white_hit_rate'],\n",
    "         value_vars = ['black', 'hispanic'],\n",
    "         value_name= 'minority_hit_rate').\\\n",
    "    sort_values(by = ['district'])\n",
    "\n",
    "df_ht_long.head()"
   ],
   "metadata": {
    "collapsed": false,
    "pycharm": {
     "name": "#%%\n"
    }
   }
  },
  {
   "cell_type": "markdown",
   "source": [
    "draw both minorities simultaneously with a sns scatter plot"
   ],
   "metadata": {
    "collapsed": false,
    "pycharm": {
     "name": "#%% md\n"
    }
   }
  },
  {
   "cell_type": "code",
   "execution_count": 22,
   "outputs": [
    {
     "data": {
      "text/plain": "<AxesSubplot:xlabel='white_hit_rate', ylabel='minority_hit_rate'>"
     },
     "execution_count": 22,
     "metadata": {},
     "output_type": "execute_result"
    },
    {
     "data": {
      "text/plain": "<Figure size 842.4x595.44 with 1 Axes>",
      "image/png": "[encoded data removed]"
     },
     "metadata": {},
     "output_type": "display_data"
    }
   ],
   "source": [
    "sns.scatterplot(data = df_ht_long,\n",
    "                x = 'white_hit_rate',\n",
    "                y = 'minority_hit_rate')"
   ],
   "metadata": {
    "collapsed": false,
    "pycharm": {
     "name": "#%%\n"
    }
   }
  },
  {
   "cell_type": "markdown",
   "source": [
    "take a look at sns facet grid, or [relplot](https://seaborn.pydata.org/generated/seaborn.relplot.html), try to reproduce the graph from the article"
   ],
   "metadata": {
    "collapsed": false,
    "pycharm": {
     "name": "#%% md\n"
    }
   }
  },
  {
   "cell_type": "code",
   "execution_count": null,
   "outputs": [],
   "source": [
    "sns.relplot()"
   ],
   "metadata": {
    "collapsed": false,
    "pycharm": {
     "name": "#%%\n"
    }
   }
  },
  {
   "cell_type": "code",
   "execution_count": null,
   "outputs": [],
   "source": [
    "from matplotlib import pyplot as plt"
   ],
   "metadata": {
    "collapsed": false,
    "pycharm": {
     "name": "#%%\n"
    }
   }
  },
  {
   "cell_type": "markdown",
   "source": [
    "spend the next 10 minutes googling how to draw diagonal line"
   ],
   "metadata": {
    "collapsed": false,
    "pycharm": {
     "name": "#%% md\n"
    }
   }
  },
  {
   "cell_type": "code",
   "execution_count": null,
   "outputs": [],
   "source": [
    "sns.set_style(\"ticks\")\n",
    "g = sns.relplot(data=df_ht_long, x=\"white_hit_rate\",\n",
    "                y=\"minority_hit_rate\",\n",
    "                col=\"subject_race\",\n",
    "                color = 'black',\n",
    "                # marker = '$\\circ$'\n",
    "                )\n",
    "\n",
    "(g.set_axis_labels(\"white hit rate\", \"minority hit rate\")\n",
    " .set_titles(\"race: {col_name} \"))\n",
    "\n",
    "xx = np.linspace(0, 0.45, 100)\n",
    "yy = xx\n",
    "for ax in g.axes.flat:\n",
    "    ax.plot(xx,yy, color = 'black', linestyle = '--', alpha = 0.5)"
   ],
   "metadata": {
    "collapsed": false,
    "pycharm": {
     "name": "#%%\n"
    }
   }
  },
  {
   "cell_type": "markdown",
   "source": [
    "Now try to make size each of the points change by number of searches"
   ],
   "metadata": {
    "collapsed": false,
    "pycharm": {
     "name": "#%% md\n"
    }
   }
  },
  {
   "cell_type": "code",
   "execution_count": null,
   "outputs": [],
   "source": [
    "df_ht_2 = df[df['search_conducted'] == True].\\\n",
    "    groupby(['subject_race', 'district']).\\\n",
    "    agg(n=('contraband_found', 'size')).\\\n",
    "    reset_index()\n",
    "df_ht_2"
   ],
   "metadata": {
    "collapsed": false,
    "pycharm": {
     "name": "#%%\n"
    }
   }
  },
  {
   "cell_type": "code",
   "execution_count": null,
   "outputs": [],
   "source": [
    "df_ht_wide_2 = df_ht_2[df_ht_2['subject_race'].isin([\"black\", \"white\", \"hispanic\"])].\\\n",
    "    pivot_table(values = ['n'], index = ['district'], columns=['subject_race'], fill_value=0).\\\n",
    "    rename({'white':'num_white_searches'}, axis = 'columns').\\\n",
    "    reset_index(level='district', col_level=1, col_fill='district')\n",
    "df_ht_wide_2"
   ],
   "metadata": {
    "collapsed": false,
    "pycharm": {
     "name": "#%%\n"
    }
   }
  },
  {
   "cell_type": "code",
   "execution_count": null,
   "outputs": [],
   "source": [
    "df_ht_wide_2.columns = df_ht_wide_2.columns.droplevel(0)\n",
    "df_ht_wide_2"
   ],
   "metadata": {
    "collapsed": false,
    "pycharm": {
     "name": "#%%\n"
    }
   }
  },
  {
   "cell_type": "code",
   "execution_count": null,
   "outputs": [],
   "source": [
    "df_ht_long_2 = df_ht_wide_2.melt(id_vars = ['district','num_white_searches'],\n",
    "         value_vars = ['black', 'hispanic'],\n",
    "         value_name = 'num_minority_searches')\n",
    "    # sort_values(by=['district'])\n",
    "df_ht_long_2['num_searches'] = df_ht_long_2.num_minority_searches + df_ht_long_2.num_white_searches\n",
    "df_ht_long_2"
   ],
   "metadata": {
    "collapsed": false,
    "pycharm": {
     "name": "#%%\n"
    }
   }
  },
  {
   "cell_type": "code",
   "execution_count": null,
   "outputs": [],
   "source": [
    "df_ht_long_2[['district', 'subject_race', 'num_searches']]"
   ],
   "metadata": {
    "collapsed": false,
    "pycharm": {
     "name": "#%%\n"
    }
   }
  },
  {
   "cell_type": "code",
   "execution_count": null,
   "outputs": [],
   "source": [
    "df_final = df_ht_long.set_index(['district', 'subject_race']).join(df_ht_long_2[['district', 'subject_race', 'num_searches']].set_index(['district', 'subject_race']),\n",
    "                on = ['district', 'subject_race']).reset_index()\n",
    "df_final"
   ],
   "metadata": {
    "collapsed": false,
    "pycharm": {
     "name": "#%%\n"
    }
   }
  },
  {
   "cell_type": "code",
   "execution_count": null,
   "outputs": [],
   "source": [
    "df_final"
   ],
   "metadata": {
    "collapsed": false,
    "pycharm": {
     "name": "#%%\n"
    }
   }
  },
  {
   "cell_type": "code",
   "execution_count": null,
   "outputs": [],
   "source": [
    "sns.set_style(\"ticks\")\n",
    "g = sns.relplot(data=df_final, x=\"white_hit_rate\",\n",
    "                y=\"minority_hit_rate\",\n",
    "                col=\"subject_race\",\n",
    "                color = 'black',\n",
    "                size = 'num_searches',\n",
    "                marker = '$\\circ$',\n",
    "                sizes = (10, 200)\n",
    "                )\n",
    "\n",
    "(g.set_axis_labels(\"white hit rate\", \"minority hit rate\")\n",
    " .set_titles(\"race: {col_name} \"))\n",
    "\n",
    "xx = np.linspace(0, 0.45, 100)\n",
    "yy = xx\n",
    "for ax in g.axes.flat:\n",
    "    ax.plot(xx,yy, color = 'black', linestyle = '--', alpha = 0.5)"
   ],
   "metadata": {
    "collapsed": false,
    "pycharm": {
     "name": "#%%\n"
    }
   }
  }
 ],
 "metadata": {
  "kernelspec": {
   "display_name": "Python 3",
   "language": "python",
   "name": "python3"
  },
  "language_info": {
   "codemirror_mode": {
    "name": "ipython",
    "version": 2
   },
   "file_extension": ".py",
   "mimetype": "text/x-python",
   "name": "python",
   "nbconvert_exporter": "python",
   "pygments_lexer": "ipython2",
   "version": "2.7.6"
  }
 },
 "nbformat": 4,
 "nbformat_minor": 0
}