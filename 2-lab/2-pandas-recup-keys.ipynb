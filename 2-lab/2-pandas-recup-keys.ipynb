{
 "metadata": {
  "kernelspec": {
   "name": "python3",
   "display_name": "Python 3 (ipykernel)",
   "language": "python"
  }
 },
 "nbformat": 4,
 "nbformat_minor": 4,
 "cells": [
  {
   "attachments": {},
   "cell_type": "markdown",
   "metadata": {},
   "source": [
    "# Adapted from CS109a Introduction to Data Science\n",
    "\n",
    "## Seminar 2, Exercise 1: PANDAS Recup\n",
    "\n",
    "\n",
    "**HSE University**<br/>\n",
    "**Spring 2022**<br/>\n",
    "\n",
    "---"
   ]
  },
  {
   "attachments": {},
   "cell_type": "markdown",
   "metadata": {},
   "source": [
    "**Exercise 1: PANDAS Intro**\n",
    "\n",
    "as you probably `PANDAS` is Python library that contains highly useful data structures, including DataFrames, which makes Exploratory Data Analysis (EDA) easy. Here, we get practice with some of the elementary functions.\n",
    "I know that they are too basic\n",
    "Lets gradually refresh your skills"
   ]
  },
  {
   "cell_type": "code",
   "execution_count": 4,
   "metadata": {},
   "outputs": [],
   "source": [
    "import pandas as pd"
   ]
  },
  {
   "attachments": {},
   "cell_type": "markdown",
   "metadata": {},
   "source": [
    "For this exercise, we will be working with StudentsPerformance dataset made available through [Kaggle](https://www.kaggle.com/spscientist/students-performance-in-exams). It contains information about the exame score of ([fictional](http://roycekimmons.com/tools/generated_data/exams)) high school students."
   ]
  },
  {
   "cell_type": "code",
   "execution_count": 5,
   "metadata": {},
   "outputs": [],
   "source": [
    "# import the CSV file\n",
    "df = pd.read_csv(\"StudentsPerformance.csv\")"
   ]
  },
  {
   "attachments": {},
   "cell_type": "markdown",
   "metadata": {},
   "source": [
    "# PANDAS Basics 🐼\n",
    "Let's get started with basic functionality of PANDAS!"
   ]
  },
  {
   "attachments": {},
   "cell_type": "markdown",
   "metadata": {},
   "source": [
    "**Exercise**  \n",
    "In the cell below fill in the blank to display general dataframe **info**rmation.\n",
    "\n",
    "_Tip: [The Pandas documention](https://pandas.pydata.org/docs/user_guide/index.html) will be your best friend. But in many cases, a simple tab autocomplete can find what your looking for._"
   ]
  },
  {
   "cell_type": "code",
   "execution_count": 1,
   "metadata": {},
   "outputs": [],
   "source": [
    "### edTest(test_a) ###\n"
   ]
  },
  {
   "attachments": {},
   "cell_type": "markdown",
   "metadata": {},
   "source": [
    "Examine the output carefully. There's a lot in there. Can you interpret each column? What about the details in header footer?"
   ]
  },
  {
   "attachments": {},
   "cell_type": "markdown",
   "metadata": {},
   "source": [
    "**Exercise**  \n",
    "In the cell below, fill in the blank so that the variable `cols` stores the `df`'s column names.\n",
    "\n",
    "**NOTE:** Please keep the type of the data structure as a `<class 'pandas.core.indexes.base.Index'>`. Do not have to convert this to a list.\\\n",
    "\n",
    "_Tip: Reviewing the [DataFrame](https://pandas.pydata.org/pandas-docs/stable/reference/api/pandas.DataFrame.html?highlight=dataframe#pandas.DataFrame) object itself might help_"
   ]
  },
  {
   "cell_type": "code",
   "execution_count": 4,
   "metadata": {},
   "outputs": [],
   "source": [
    "### edTest(test_b) ###\n",
    "cols = df######\n",
    "# Check at least the type is the right one\n",
    "assert type(cols) == pd.core.indexes.base.Index"
   ]
  },
  {
   "attachments": {},
   "cell_type": "markdown",
   "metadata": {},
   "source": [
    "**Exercise**  \n",
    "In the cell below, fill in the blank so that:\n",
    "- `num_cols` stores the number of columns in `df`\\\n",
    "([HINT](https://pandas.pydata.org/pandas-docs/stable/reference/api/pandas.DataFrame.shape.html?highlight=shape#pandas.DataFrame.shape))"
   ]
  },
  {
   "cell_type": "code",
   "execution_count": 5,
   "metadata": {},
   "outputs": [],
   "source": [
    "### edTest(test_c) ###\n",
    "num_rows = df###\n",
    "num_cols = df###"
   ]
  },
  {
   "attachments": {},
   "cell_type": "markdown",
   "metadata": {},
   "source": [
    "**Exercise**  \n",
    "In the cell below, fill in the blank so that `first_seven` is equal to the first 7 rows. ([HINT](https://pandas.pydata.org/pandas-docs/stable/reference/api/pandas.DataFrame.head.html))"
   ]
  },
  {
   "cell_type": "code",
   "execution_count": 6,
   "metadata": {},
   "outputs": [],
   "source": [
    "### edTest(test_d) ###\n",
    "first_seven = df#####"
   ]
  },
  {
   "attachments": {},
   "cell_type": "markdown",
   "metadata": {},
   "source": [
    "**Exercise**  \n",
    "In the cell below, fill in the blank so that `last_four` is equal to the last 4 rows. ([HINT](https://pandas.pydata.org/pandas-docs/stable/reference/api/pandas.DataFrame.tail.html))"
   ]
  },
  {
   "cell_type": "code",
   "execution_count": 7,
   "metadata": {},
   "outputs": [],
   "source": [
    "### edTest(test_e) ###\n",
    "last_four = df####"
   ]
  },
  {
   "attachments": {},
   "cell_type": "markdown",
   "metadata": {},
   "source": [
    "**Exercise**  \n",
    "In the cell below, fill in the blank so that the `unique_parental_education_levels` variable stores a list of the 6 distinct values found within the `parental level of education` column of `df`.\\\n",
    "\n",
    "_Tip: Again, try searching the [documentation](https://pandas.pydata.org/pandas-docs/stable/index.html)_"
   ]
  },
  {
   "cell_type": "code",
   "execution_count": null,
   "metadata": {
    "pycharm": {
     "is_executing": true
    }
   },
   "outputs": [],
   "source": [
    "### edTest(test_f) ###\n",
    "unique_parental_education_levels = df['parental level of education']####\n",
    "unique_parental_education_levels"
   ]
  },
  {
   "cell_type": "code",
   "execution_count": 9,
   "metadata": {},
   "outputs": [
    {
     "name": "stdout",
     "output_type": "stream",
     "text": [
      "Are there 6 unique values?: True\n",
      "\n",
      "[\"bachelor's degree\" 'some college' \"master's degree\" \"associate's degree\"\n",
      " 'high school' 'some high school']\n"
     ]
    }
   ],
   "source": [
    "# we can check if they are really 6\n",
    "print('Are there 6 unique values?:', len(unique_parental_education_levels) == 6)\n",
    "# we can display them here\n",
    "print()\n",
    "print(unique_parental_education_levels)"
   ]
  },
  {
   "attachments": {},
   "cell_type": "markdown",
   "metadata": {},
   "source": [
    "**Exercise**  \n",
    "In the cell below, fill in the blank so that the `scored_100_at_math` variable stores the **DataFrame row(s)** that correspond to everyone who scored 100 at math.\\\n",
    "\n",
    "_Hint: Think 'indexing.' Specifically, boolean indexing_"
   ]
  },
  {
   "cell_type": "code",
   "execution_count": 10,
   "metadata": {},
   "outputs": [
    {
     "data": {
      "text/plain": "     gender race/ethnicity parental level of education         lunch  \\\n149    male        group E          associate's degree  free/reduced   \n451  female        group E                some college      standard   \n458  female        group E           bachelor's degree      standard   \n623    male        group A                some college      standard   \n625    male        group D                some college      standard   \n916    male        group E           bachelor's degree      standard   \n962  female        group E          associate's degree      standard   \n\n    test preparation course  math score  reading score  writing score  \n149               completed         100            100             93  \n451                    none         100             92             97  \n458                    none         100            100            100  \n623               completed         100             96             86  \n625               completed         100             97             99  \n916               completed         100            100            100  \n962                    none         100            100            100  ",
      "text/html": "<div>\n<style scoped>\n    .dataframe tbody tr th:only-of-type {\n        vertical-align: middle;\n    }\n\n    .dataframe tbody tr th {\n        vertical-align: top;\n    }\n\n    .dataframe thead th {\n        text-align: right;\n    }\n</style>\n<table border=\"1\" class=\"dataframe\">\n  <thead>\n    <tr style=\"text-align: right;\">\n      <th></th>\n      <th>gender</th>\n      <th>race/ethnicity</th>\n      <th>parental level of education</th>\n      <th>lunch</th>\n      <th>test preparation course</th>\n      <th>math score</th>\n      <th>reading score</th>\n      <th>writing score</th>\n    </tr>\n  </thead>\n  <tbody>\n    <tr>\n      <th>149</th>\n      <td>male</td>\n      <td>group E</td>\n      <td>associate's degree</td>\n      <td>free/reduced</td>\n      <td>completed</td>\n      <td>100</td>\n      <td>100</td>\n      <td>93</td>\n    </tr>\n    <tr>\n      <th>451</th>\n      <td>female</td>\n      <td>group E</td>\n      <td>some college</td>\n      <td>standard</td>\n      <td>none</td>\n      <td>100</td>\n      <td>92</td>\n      <td>97</td>\n    </tr>\n    <tr>\n      <th>458</th>\n      <td>female</td>\n      <td>group E</td>\n      <td>bachelor's degree</td>\n      <td>standard</td>\n      <td>none</td>\n      <td>100</td>\n      <td>100</td>\n      <td>100</td>\n    </tr>\n    <tr>\n      <th>623</th>\n      <td>male</td>\n      <td>group A</td>\n      <td>some college</td>\n      <td>standard</td>\n      <td>completed</td>\n      <td>100</td>\n      <td>96</td>\n      <td>86</td>\n    </tr>\n    <tr>\n      <th>625</th>\n      <td>male</td>\n      <td>group D</td>\n      <td>some college</td>\n      <td>standard</td>\n      <td>completed</td>\n      <td>100</td>\n      <td>97</td>\n      <td>99</td>\n    </tr>\n    <tr>\n      <th>916</th>\n      <td>male</td>\n      <td>group E</td>\n      <td>bachelor's degree</td>\n      <td>standard</td>\n      <td>completed</td>\n      <td>100</td>\n      <td>100</td>\n      <td>100</td>\n    </tr>\n    <tr>\n      <th>962</th>\n      <td>female</td>\n      <td>group E</td>\n      <td>associate's degree</td>\n      <td>standard</td>\n      <td>none</td>\n      <td>100</td>\n      <td>100</td>\n      <td>100</td>\n    </tr>\n  </tbody>\n</table>\n</div>"
     },
     "execution_count": 10,
     "metadata": {},
     "output_type": "execute_result"
    }
   ],
   "source": [
    "### edTest(test_g) ###\n",
    "scored_100_at_math = df#[#df#[###\n",
    "scored_100_at_math"
   ]
  },
  {
   "attachments": {},
   "cell_type": "markdown",
   "metadata": {},
   "source": [
    "Some observations about conditions"
   ]
  },
  {
   "cell_type": "code",
   "execution_count": 7,
   "metadata": {},
   "outputs": [
    {
     "data": {
      "text/plain": "True"
     },
     "execution_count": 7,
     "metadata": {},
     "output_type": "execute_result"
    }
   ],
   "source": [
    "# this shows that using the condition with 'loc' is the same as not using 'loc'\n",
    "condition = df['math score'] == 100\n",
    "all(df[condition] == df.loc[condition])"
   ]
  },
  {
   "cell_type": "code",
   "execution_count": 8,
   "metadata": {},
   "outputs": [
    {
     "data": {
      "text/plain": "0      False\n1      False\n2      False\n3      False\n4      False\n       ...  \n995    False\n996    False\n997    False\n998    False\n999    False\nName: math score, Length: 1000, dtype: bool"
     },
     "execution_count": 8,
     "metadata": {},
     "output_type": "execute_result"
    }
   ],
   "source": [
    "# the condition is a boolean series to be used with the whole dataframe\n",
    "# the condition will be used to filter the dataframe to those rows where condition value is True\n",
    "# we can see that condition has as many rows as the original dataframe\n",
    "condition"
   ]
  },
  {
   "attachments": {},
   "cell_type": "markdown",
   "metadata": {},
   "source": [
    "**Exercise**  \n",
    "In the cell below, fill in the blank to display scores' **descri**ptive statistics ([HINT](https://pandas.pydata.org/pandas-docs/stable/reference/api/pandas.DataFrame.describe.html))."
   ]
  },
  {
   "cell_type": "code",
   "execution_count": null,
   "metadata": {
    "pycharm": {
     "is_executing": true
    }
   },
   "outputs": [],
   "source": [
    "### edTest(test_h) ###\n",
    "df###.####d####"
   ]
  },
  {
   "attachments": {},
   "cell_type": "markdown",
   "metadata": {},
   "source": [
    "**Exercise**  \n",
    "In the cell below, fill in the blanks so that the `uncompleted_with_good_writing_score` variable stores the **DataFrame rows** that correspond to everyone who hasn't completed the preparation course and there writing score is above the median."
   ]
  },
  {
   "cell_type": "code",
   "execution_count": null,
   "metadata": {
    "pycharm": {
     "is_executing": true
    }
   },
   "outputs": [],
   "source": [
    "### edTest(test_i) ###\n",
    "# not completed preparation course condition\n",
    "cond1 = df['test preparation course'] != 'completed'\n",
    "# writing score above the median\n",
    "cond2 = #######\n",
    "uncompleted_with_good_writing_score = df.loc[cond1 & cond2]\n",
    "uncompleted_with_good_writing_score"
   ]
  },
  {
   "attachments": {},
   "cell_type": "markdown",
   "metadata": {},
   "source": [
    "Obvervation: the '&' operator differs from the 'and' operator"
   ]
  },
  {
   "cell_type": "code",
   "execution_count": 0,
   "metadata": {},
   "outputs": [],
   "source": [
    ""
   ]
  }
 ]
}