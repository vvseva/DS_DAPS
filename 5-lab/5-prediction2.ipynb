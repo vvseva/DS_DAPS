{
 "cells": [
  {
   "cell_type": "markdown",
   "metadata": {},
   "source": [
    "# Adapted from CS109a Introduction to Data Science\n",
    "\n",
    "## Seminar 5, Exercise 1: Best Degree of Polynomial with Train and Validation sets\n",
    "\n",
    "## Description :\n",
    "The aim of this exercise is to find the **best degree** of polynomial based on the MSE values. Further, plot the train and validation error graphs as a function of degree of the polynomial as shown below.\n",
    "\n",
    "## Data Description:\n",
    "\n",
    "## Instructions:\n",
    "\n",
    "- Read the dataset and split into train and validation sets.\n",
    "- Select a max degree value for the polynomial model.\n",
    "- Fit a polynomial regression model on the training data for each degree and predict on the validation data.\n",
    "- Compute the train and validation error as MSE values and store in separate lists.\n",
    "- Find out the best degree of the model.\n",
    "- Plot the train and validation errors for each degree.\n",
    "\n",
    "## Hints: \n",
    "\n",
    "<a href=\"https://pandas.pydata.org/pandas-docs/stable/reference/api/pandas.read_csv.html\" target=\"_blank\">pd.read_csv(filename)</a>\n",
    "Returns a pandas dataframe containing the data and labels from the file data\n",
    "\n",
    "<a href=\"https://scikit-learn.org/stable/modules/generated/sklearn.model_selection.train_test_split.html\" target=\"_blank\">sklearn.train_test_split()</a>\n",
    "Splits the data into random train and test subsets\n",
    "\n",
    "<a href=\"https://scikit-learn.org/stable/modules/generated/sklearn.preprocessing.PolynomialFeatures.html\" target=\"_blank\">sklearn.PolynomialFeatures()</a>\n",
    "Generates a new feature matrix consisting of all polynomial combinations of the features with degree less than or equal to the specified degree\n",
    "\n",
    "<a href=\"https://scikit-learn.org/stable/modules/generated/sklearn.preprocessing.PolynomialFeatures.html#sklearn.preprocessing.PolynomialFeatures.fit_transform\" target=\"_blank\">sklearn.fit_transform()</a>\n",
    "Fits transformer to X and y with optional parameters fit_params and returns a transformed version of X\n",
    "\n",
    "<a href=\"https://scikit-learn.org/stable/modules/generated/sklearn.linear_model.LinearRegression.html\" target=\"_blank\">sklearn.LinearRegression(fit_intercept=False)</a>\n",
    "LinearRegression fits a linear model with no intercept calculation\n",
    "\n",
    "<a href=\"https://scikit-learn.org/stable/modules/generated/sklearn.linear_model.LinearRegression.html#sklearn.linear_model.LinearRegression.fit\" target=\"_blank\">sklearn.fit()</a>\n",
    "Fits the linear model to the training data\n",
    "\n",
    "<a href=\"https://scikit-learn.org/stable/modules/generated/sklearn.linear_model.LinearRegression.html#sklearn.linear_model.LinearRegression.predict\" target=\"_blank\">sklearn.predict()</a>\n",
    "Predict using the linear model\n",
    "\n",
    "<a href=\"https://matplotlib.org/3.2.1/api/_as_gen/matplotlib.pyplot.subplots.html\" target=\"_blank\">plt.subplots()</a>\n",
    "Create a figure and a set of subplots"
   ]
  },
  {
   "cell_type": "code",
   "execution_count": 1,
   "metadata": {},
   "outputs": [],
   "source": [
    "# Import necessary libraries\n",
    "import operator\n",
    "import numpy as np\n",
    "import pandas as pd\n",
    "import matplotlib.pyplot as plt\n",
    "from sklearn.metrics import mean_squared_error\n",
    "from sklearn.model_selection import cross_validate\n",
    "from sklearn.linear_model import LinearRegression\n",
    "from sklearn.model_selection import train_test_split\n",
    "from sklearn.preprocessing import PolynomialFeatures\n",
    "%matplotlib inline\n",
    "plt.rcParams[\"figure.figsize\"] = (16,9)"
   ]
  },
  {
   "cell_type": "markdown",
   "metadata": {},
   "source": [
    "### Reading the dataset\n",
    "\n",
    "https://www.kaggle.com/datasets/aungpyaeap/fish-market\n",
    "\n",
    "This dataset is a record of 7 common different fish species in fish market sales. With this dataset, a predictive model can be performed using machine friendly data and estimate the weight of fish can be predicted."
   ]
  },
  {
   "cell_type": "code",
   "execution_count": 3,
   "metadata": {},
   "outputs": [
    {
     "data": {
      "text/plain": "  Species  Weight  Length1  Length2  Length3   Height   Width\n0   Bream   242.0     23.2     25.4     30.0  11.5200  4.0200\n1   Bream   290.0     24.0     26.3     31.2  12.4800  4.3056\n2   Bream   340.0     23.9     26.5     31.1  12.3778  4.6961\n3   Bream   363.0     26.3     29.0     33.5  12.7300  4.4555\n4   Bream   430.0     26.5     29.0     34.0  12.4440  5.1340",
      "text/html": "<div>\n<style scoped>\n    .dataframe tbody tr th:only-of-type {\n        vertical-align: middle;\n    }\n\n    .dataframe tbody tr th {\n        vertical-align: top;\n    }\n\n    .dataframe thead th {\n        text-align: right;\n    }\n</style>\n<table border=\"1\" class=\"dataframe\">\n  <thead>\n    <tr style=\"text-align: right;\">\n      <th></th>\n      <th>Species</th>\n      <th>Weight</th>\n      <th>Length1</th>\n      <th>Length2</th>\n      <th>Length3</th>\n      <th>Height</th>\n      <th>Width</th>\n    </tr>\n  </thead>\n  <tbody>\n    <tr>\n      <th>0</th>\n      <td>Bream</td>\n      <td>242.0</td>\n      <td>23.2</td>\n      <td>25.4</td>\n      <td>30.0</td>\n      <td>11.5200</td>\n      <td>4.0200</td>\n    </tr>\n    <tr>\n      <th>1</th>\n      <td>Bream</td>\n      <td>290.0</td>\n      <td>24.0</td>\n      <td>26.3</td>\n      <td>31.2</td>\n      <td>12.4800</td>\n      <td>4.3056</td>\n    </tr>\n    <tr>\n      <th>2</th>\n      <td>Bream</td>\n      <td>340.0</td>\n      <td>23.9</td>\n      <td>26.5</td>\n      <td>31.1</td>\n      <td>12.3778</td>\n      <td>4.6961</td>\n    </tr>\n    <tr>\n      <th>3</th>\n      <td>Bream</td>\n      <td>363.0</td>\n      <td>26.3</td>\n      <td>29.0</td>\n      <td>33.5</td>\n      <td>12.7300</td>\n      <td>4.4555</td>\n    </tr>\n    <tr>\n      <th>4</th>\n      <td>Bream</td>\n      <td>430.0</td>\n      <td>26.5</td>\n      <td>29.0</td>\n      <td>34.0</td>\n      <td>12.4440</td>\n      <td>5.1340</td>\n    </tr>\n  </tbody>\n</table>\n</div>"
     },
     "execution_count": 3,
     "metadata": {},
     "output_type": "execute_result"
    }
   ],
   "source": [
    "# Read the file \"Fish.csv\" as a Pandas dataframe\n",
    "df = pd.read_csv(\"Fish.csv\")\n",
    "\n",
    "# Take a quick look at the dataset\n",
    "df.head()\n"
   ]
  },
  {
   "cell_type": "code",
   "execution_count": 10,
   "metadata": {},
   "outputs": [],
   "source": [
    "# Assign the values of the Weight and other columns values to the\n",
    "# predictor and response variables\n",
    "y = df.drop(['Weight', 'Species'], axis = 1).values\n",
    "x = df[['Weight']].values\n"
   ]
  },
  {
   "cell_type": "markdown",
   "metadata": {},
   "source": [
    "### Train-validation split"
   ]
  },
  {
   "cell_type": "code",
   "execution_count": 35,
   "metadata": {
    "collapsed": true
   },
   "outputs": [],
   "source": [
    "# Split the dataset into train and validation sets with 80% training set\n",
    "# Set random_state=1\n",
    "x_train, x_val, y_train, y_val = train_test_split(x, y, train_size=0.8, random_state=1)\n"
   ]
  },
  {
   "cell_type": "markdown",
   "metadata": {},
   "source": [
    "### Computing the train and validation error in terms of MSE"
   ]
  },
  {
   "cell_type": "code",
   "execution_count": 32,
   "metadata": {},
   "outputs": [],
   "source": [
    "# To iterate over the range, select the maximum degree of the polynomial\n",
    "maxdeg = 50\n",
    "\n",
    "# Create two empty lists to store training and validation MSEs\n",
    "training_error, validation_error = [],[]\n",
    "\n",
    "# Loop through the degrees of the polynomial to create different models\n",
    "for d in range(maxdeg):\n",
    "    \n",
    "    # Compute the polynomial features for the current degree \n",
    "    # for the train set\n",
    "    x_poly_train = PolynomialFeatures(degree = d).fit_transform(x_train)\n",
    "\n",
    "    # Compute the polynomial features for the validation set\n",
    "    x_poly_val = PolynomialFeatures(degree = d).fit_transform(x_val)\n",
    "    \n",
    "    # Initialize a linear regression model\n",
    "    lreg = LinearRegression(fit_intercept=False)\n",
    "\n",
    "    # Fit the model on the train data\n",
    "    lreg.fit(x_poly_train, y_train)\n",
    "    \n",
    "    # Use the trained model to predict on the transformed train data\n",
    "    y_train_pred = lreg.predict(x_poly_train)\n",
    "\n",
    "    # Use the trained model to predict on the transformed validation data\n",
    "    y_val_pred = lreg.predict(x_poly_val)\n",
    "    \n",
    "    # Compute the MSE on the train predictions\n",
    "    training_error.append(mean_squared_error(y_train, y_train_pred))\n",
    "\n",
    "    # Compute the MSE on the validation predictions\n",
    "    validation_error.append(mean_squared_error(y_val, y_val_pred))\n",
    "    "
   ]
  },
  {
   "cell_type": "markdown",
   "metadata": {},
   "source": [
    "### Finding the best degree"
   ]
  },
  {
   "cell_type": "code",
   "execution_count": 33,
   "metadata": {},
   "outputs": [
    {
     "name": "stdout",
     "output_type": "stream",
     "text": [
      "The best degree of the model is 5\n"
     ]
    }
   ],
   "source": [
    "# Helper code to compute the best degree, which is the model\n",
    "# with the lowest validation error\n",
    "min_mse = min(validation_error)\n",
    "best_degree = validation_error.index(min_mse)\n",
    "\n",
    "# Print the degree of the best model computed above\n",
    "print(\"The best degree of the model is\",best_degree)\n"
   ]
  },
  {
   "cell_type": "markdown",
   "metadata": {},
   "source": [
    "### Plotting the error graph"
   ]
  },
  {
   "cell_type": "code",
   "execution_count": 34,
   "metadata": {
    "collapsed": true
   },
   "outputs": [
    {
     "data": {
      "text/plain": "<Figure size 1152x648 with 1 Axes>",
      "image/png": "[encoded data removed]"
     },
     "metadata": {
      "needs_background": "light"
     },
     "output_type": "display_data"
    }
   ],
   "source": [
    "import matplotlib.pyplot as plt\n",
    "plt.rcParams[\"figure.figsize\"] = (16,9)\n",
    "\n",
    "# Plot the errors as a function of increasing d value to visualise the training\n",
    "# and testing errors\n",
    "fig, ax = plt.subplots()\n",
    "\n",
    "# Plot the training error with labels\n",
    "ax.plot(np.arange(0, maxdeg), training_error, label=\"Training Error\")\n",
    "\n",
    "# Plot the validation error with labels\n",
    "ax.plot(np.arange(0, maxdeg), validation_error, label=\"Validation Error\")\n",
    "\n",
    "# Set the plot labels and legends\n",
    "ax.set_xlabel('Degree of Polynomial')\n",
    "ax.set_ylabel('Mean Squared Error')\n",
    "ax.legend(loc = 'best')\n",
    "ax.set_yscale('log')\n",
    "plt.show();\n"
   ]
  },
  {
   "cell_type": "markdown",
   "metadata": {},
   "source": [
    "#### ⏸ If you run the exercise with a random state of 0, do you notice any change? What would you attribute this change to?"
   ]
  },
  {
   "cell_type": "code",
   "execution_count": 0,
   "metadata": {},
   "outputs": [],
   "source": []
  },
  {
   "cell_type": "markdown",
   "source": [
    "# Cross-validation\n",
    "\n",
    "## Seminar 5, Exercise 2: Best Degree of Polynomial using Cross-validation"
   ],
   "metadata": {
    "collapsed": false,
    "pycharm": {
     "name": "#%% md\n"
    }
   }
  },
  {
   "cell_type": "markdown",
   "source": [
    "## Description :\n",
    "The aim of this exercise is to find the **best degree** of polynomial based on the MSE values. Further, plot the train and cross-validation error graphs as shown below.\n",
    "\n",
    "\n",
    "## Data Description:\n",
    "\n",
    "## Instructions:\n",
    "\n",
    "- Read the dataset and split into train and validation sets.\n",
    "- Select a max degree value for the polynomial model.\n",
    "- For each degree:\n",
    "    - Perform k-fold cross validation\n",
    "    - Fit a polynomial regression model for each degree on the training data and predict on the validation data\n",
    "- Compute the train, validation and cross-validation error as MSE values and store them in separate lists.\n",
    "- Print the best degree of the model for both validation and cross-validation approaches.\n",
    "- Plot the train and cross-validation errors for each degree.\n",
    "\n",
    "## Hints:\n",
    "\n",
    "<a href=\"https://pandas.pydata.org/pandas-docs/stable/reference/api/pandas.read_csv.html\" target=\"_blank\"></a>pd.read_csv(filename)</a>\n",
    "Returns a pandas dataframe containing the data and labels from the file data.\n",
    "\n",
    "<a href=\"https://scikit-learn.org/stable/modules/generated/sklearn.model_selection.train_test_split.html\" target=\"_blank\">sklearn.train_test_split()</a>\n",
    "Splits the data into random train and test subsets.\n",
    "\n",
    "<a href=\"https://scikit-learn.org/stable/modules/generated/sklearn.preprocessing.PolynomialFeatures.html\" target=\"_blank\">sklearn.PolynomialFeatures()</a>\n",
    "Generates a new feature matrix consisting of all polynomial combinations of the features with degree less than or equal to the specified degree.\n",
    "\n",
    "<a href=\"https://scikit-learn.org/stable/modules/generated/sklearn.model_selection.cross_validate.html\" target=\"_blank\">sklearn.cross_validate()</a>\n",
    "Evaluate metric(s) by cross-validation and also record fit/score times.\n",
    "\n",
    "<img src=\"../fig/fig2.png\" style=\"width: 500px;\">\n",
    "\n",
    "\n",
    "<a href=\"https://scikit-learn.org/stable/modules/generated/sklearn.preprocessing.StandardScaler.html\" target=\"_blank\">sklearn.fit_transform()</a>\n",
    "Fits transformer to X and y with optional parameters fit_params and returns a transformed version of X.\n",
    "\n",
    "<a href=\"https://scikit-learn.org/stable/modules/generated/sklearn.linear_model.LinearRegression.html\" target=\"_blank\">sklearn.LinearRegression(fit_intercept=False)</a>\n",
    "LinearRegression fits a linear model.\n",
    "\n",
    "<a href=\"https://scikit-learn.org/stable/modules/generated/sklearn.linear_model.LinearRegression.html#sklearn.linear_model.LinearRegression.fit\" target=\"_blank\">sklearn.fit()</a>\n",
    "Fits the linear model to the training data.\n",
    "\n",
    "<a href=\"https://scikit-learn.org/stable/modules/generated/sklearn.linear_model.LinearRegression.html#sklearn.linear_model.LinearRegression.predict\" target=\"_blank\">sklearn.predict()</a>\n",
    "Predict using the linear model.\n",
    "\n",
    "<a href=\"https://matplotlib.org/3.2.1/api/_as_gen/matplotlib.pyplot.subplots.html\" target=\"_blank\">plt.subplots()</a>\n",
    "Create a figure and a set of subplots.\n",
    "\n",
    "<a href=\"https://docs.python.org/3/library/operator.html\" target=\"_blank\">operator.itemgetter()</a>\n",
    "Return a callable object that fetches item from its operand.\n",
    "\n",
    "<a href=\"https://docs.python.org/3.3/library/functions.html#zip\" target=\"_blank\">zip()</a>\n",
    "Makes an iterator that aggregates elements from each of the iterables."
   ],
   "metadata": {
    "collapsed": false,
    "pycharm": {
     "name": "#%% md\n"
    }
   }
  },
  {
   "cell_type": "code",
   "execution_count": 36,
   "outputs": [
    {
     "data": {
      "text/plain": "  Species  Weight  Length1  Length2  Length3   Height   Width\n0   Bream   242.0     23.2     25.4     30.0  11.5200  4.0200\n1   Bream   290.0     24.0     26.3     31.2  12.4800  4.3056\n2   Bream   340.0     23.9     26.5     31.1  12.3778  4.6961\n3   Bream   363.0     26.3     29.0     33.5  12.7300  4.4555\n4   Bream   430.0     26.5     29.0     34.0  12.4440  5.1340",
      "text/html": "<div>\n<style scoped>\n    .dataframe tbody tr th:only-of-type {\n        vertical-align: middle;\n    }\n\n    .dataframe tbody tr th {\n        vertical-align: top;\n    }\n\n    .dataframe thead th {\n        text-align: right;\n    }\n</style>\n<table border=\"1\" class=\"dataframe\">\n  <thead>\n    <tr style=\"text-align: right;\">\n      <th></th>\n      <th>Species</th>\n      <th>Weight</th>\n      <th>Length1</th>\n      <th>Length2</th>\n      <th>Length3</th>\n      <th>Height</th>\n      <th>Width</th>\n    </tr>\n  </thead>\n  <tbody>\n    <tr>\n      <th>0</th>\n      <td>Bream</td>\n      <td>242.0</td>\n      <td>23.2</td>\n      <td>25.4</td>\n      <td>30.0</td>\n      <td>11.5200</td>\n      <td>4.0200</td>\n    </tr>\n    <tr>\n      <th>1</th>\n      <td>Bream</td>\n      <td>290.0</td>\n      <td>24.0</td>\n      <td>26.3</td>\n      <td>31.2</td>\n      <td>12.4800</td>\n      <td>4.3056</td>\n    </tr>\n    <tr>\n      <th>2</th>\n      <td>Bream</td>\n      <td>340.0</td>\n      <td>23.9</td>\n      <td>26.5</td>\n      <td>31.1</td>\n      <td>12.3778</td>\n      <td>4.6961</td>\n    </tr>\n    <tr>\n      <th>3</th>\n      <td>Bream</td>\n      <td>363.0</td>\n      <td>26.3</td>\n      <td>29.0</td>\n      <td>33.5</td>\n      <td>12.7300</td>\n      <td>4.4555</td>\n    </tr>\n    <tr>\n      <th>4</th>\n      <td>Bream</td>\n      <td>430.0</td>\n      <td>26.5</td>\n      <td>29.0</td>\n      <td>34.0</td>\n      <td>12.4440</td>\n      <td>5.1340</td>\n    </tr>\n  </tbody>\n</table>\n</div>"
     },
     "execution_count": 36,
     "metadata": {},
     "output_type": "execute_result"
    }
   ],
   "source": [
    "# Read the file \"Fish.csv\" as a Pandas dataframe\n",
    "df = pd.read_csv(\"Fish.csv\")\n",
    "\n",
    "# Take a quick look at the dataset\n",
    "df.head()"
   ],
   "metadata": {
    "collapsed": false,
    "pycharm": {
     "name": "#%%\n"
    }
   }
  },
  {
   "cell_type": "code",
   "execution_count": null,
   "outputs": [],
   "source": [
    "# Assign the values of the Weight and other columns values to the\n",
    "# predictor and response variables\n",
    "y = df.drop(['Weight', 'Species'], axis = 1).values\n",
    "x = df[['Weight']].values"
   ],
   "metadata": {
    "collapsed": false,
    "pycharm": {
     "name": "#%%\n"
    }
   }
  },
  {
   "cell_type": "markdown",
   "source": [
    "### Computing the MSE"
   ],
   "metadata": {
    "collapsed": false
   }
  },
  {
   "cell_type": "code",
   "execution_count": null,
   "outputs": [],
   "source": [
    "# To iterate over the range, select the maximum degree of the polynomial\n",
    "maxdeg = 10\n",
    "\n",
    "# Create three empty lists to store training, validation and cross-validation MSEs\n",
    "training_error, validation_error, cross_validation_error = [],[],[]\n",
    "\n",
    "# Loop through the degrees of the polynomial\n",
    "for d in range(___):\n",
    "\n",
    "    # Compute the polynomial features for the entire data\n",
    "    x_poly = PolynomialFeatures(___).fit_transform(___)\n",
    "\n",
    "    # Compute the polynomial features for the train data\n",
    "    x_poly_train = PolynomialFeatures(___).fit_transform(___)\n",
    "\n",
    "    # Compute the polynomial features for the validation data\n",
    "    x_poly_val = PolynomialFeatures(___).fit_transform(___)\n",
    "\n",
    "    # Initialize a Linear Regression object\n",
    "    lreg = LinearRegression()\n",
    "\n",
    "    # Fit model on the training set\n",
    "    lreg.fit(___)\n",
    "\n",
    "    # Predict on the training data\n",
    "    y_train_pred = lreg.predict(___)\n",
    "\n",
    "    # Predict on the validation set\n",
    "    y_val_pred = lreg.predict(___)\n",
    "\n",
    "    # Compute the mse on the train data\n",
    "    training_error.append(mean_squared_error(___))\n",
    "\n",
    "    # Compute the mse on the validation data\n",
    "    validation_error.append(mean_squared_error(___))\n",
    "\n",
    "    # Perform cross-validation on the entire data with 10 folds and\n",
    "    # get the mse_scores\n",
    "    mse_score = cross_validate(___)\n",
    "\n",
    "    # Compute the mean of the cross validation error and store in list\n",
    "    # Remember to take into account the sign of the MSE metric returned by the cross_validate function\n",
    "    cross_validation_error.append(___)"
   ],
   "metadata": {
    "collapsed": false,
    "pycharm": {
     "name": "#%%\n"
    }
   }
  },
  {
   "cell_type": "markdown",
   "source": [
    "### Finding the best degree"
   ],
   "metadata": {
    "collapsed": false
   }
  },
  {
   "cell_type": "code",
   "execution_count": null,
   "outputs": [],
   "source": [
    "### edTest(test_best_degree) ###\n",
    "\n",
    "# Get the best degree associated with the lowest validation error\n",
    "min_mse = min(___)\n",
    "best_degree = validation_error.index(___)\n",
    "\n",
    "\n",
    "# Get the best degree associated with the lowest cross-validation error\n",
    "min_cross_val_mse = min(___)\n",
    "best_cross_val_degree = cross_validation_error.index(___)\n",
    "\n",
    "# Print the values\n",
    "print(\"The best degree of the model using validation is\",best_degree)\n",
    "print(\"The best degree of the model using cross-validation is\",best_cross_val_degree)\n"
   ],
   "metadata": {
    "collapsed": false,
    "pycharm": {
     "name": "#%%\n"
    }
   }
  },
  {
   "cell_type": "markdown",
   "source": [
    "### Plotting the error graph"
   ],
   "metadata": {
    "collapsed": false
   }
  },
  {
   "cell_type": "code",
   "execution_count": null,
   "outputs": [],
   "source": [
    "# Plot the errors as a function of increasing d value to visualise the training and validation errors\n",
    "fig, ax = plt.subplots(1,2, figsize=(16,8))\n",
    "\n",
    "# Plot the training error with labels\n",
    "ax[0].plot(range(maxdeg), np.log(training_error), label = 'Training error', linewidth=3, color='#FF7E79', alpha=0.4)\n",
    "\n",
    "# Plot the validation error with labels\n",
    "ax[0].plot(range(maxdeg), np.log(validation_error), label = 'Validation error', linewidth=3, color=\"#007D66\", alpha=0.4)\n",
    "\n",
    "# Plot the training error with labels\n",
    "ax[1].plot(range(maxdeg), np.log(training_error), label = 'Training error', linewidth=3, color='#FF7E79', alpha=0.4)\n",
    "\n",
    "# Plot the cross-validation error with labels\n",
    "ax[1].plot(range(maxdeg), np.log(cross_validation_error), label = 'Cross-Validation error', linewidth=3, color=\"#007D66\", alpha=0.4)\n",
    "\n",
    "# Set the plot labels and legends\n",
    "ax[0].set_xlabel('Degree of Polynomial', fontsize=12)\n",
    "ax[0].set_ylabel('Log Mean Squared Error', fontsize=12)\n",
    "ax[0].set_title(\"Log of validation error as a function of degree\")\n",
    "\n",
    "ax[1].set_xlabel('Degree of Polynomial', fontsize=12)\n",
    "ax[1].set_ylabel('Log Mean Squared Error', fontsize=12)\n",
    "ax[1].set_title(\"Log of CV error as a function of degree\")\n",
    "\n",
    "ax[0].legend()\n",
    "ax[1].legend()\n",
    "plt.show();\n"
   ],
   "metadata": {
    "collapsed": false,
    "pycharm": {
     "name": "#%%\n"
    }
   }
  },
  {
   "cell_type": "markdown",
   "source": [
    "⏸ If you run the exercise with a random state of 0, do you notice any change? What conclusion can you draw from this experiment?"
   ],
   "metadata": {
    "collapsed": false
   }
  },
  {
   "cell_type": "code",
   "execution_count": null,
   "outputs": [],
   "source": [],
   "metadata": {
    "collapsed": false,
    "pycharm": {
     "name": "#%%\n"
    }
   }
  },
  {
   "cell_type": "markdown",
   "source": [
    "## Exercise 3: Bias Variance Tradeoff## Instructions:\n",
    "\n",
    "- Read the file `noisypopulation.csv` as a Pandas dataframe.\n",
    "- Assign the response and predictor variables appropriately as mentioned in the scaffold.\n",
    "- Perform sampling on the dataset to get a subset.\n",
    "- For each sampled version fo the dataset:\n",
    "    - For degree of the chosen degree value:\n",
    "        - Compute the polynomial features for the training\n",
    "        - Fit the model on the given data\n",
    "        - Select a set of random points in the data to predict the model\n",
    "        - Store the predicted values as a list\n",
    "- Plot the predicted values along with the random data points and true function as given above.\n",
    "\n",
    "\n",
    "## Hints:\n",
    "\n",
    "FUNCTION SIGNATURE:\n",
    "gen(degree, number of samples, number of points, x, y)\n",
    "\n",
    "<a href=\"https://scikit-learn.org/stable/modules/generated/sklearn.preprocessing.PolynomialFeatures.html\" target=\"_blank\">sklearn.PolynomialFeatures()</a>\n",
    "Generates polynomial and interaction features\n",
    "\n",
    "<a href=\"https://scikit-learn.org/stable/modules/generated/sklearn.linear_model.LinearRegression.html\" target=\"_blank\">sklearn.LinearRegression()</a>\n",
    "LinearRegression fits a linear model\n",
    "\n",
    "<a href=\"https://scikit-learn.org/stable/modules/generated/sklearn.linear_model.LinearRegression.html#sklearn.linear_model.LinearRegression.fit\" target=\"_blank\">sklearn.fit()</a>\n",
    "Fits the linear model to the training data\n",
    "\n",
    "<a href=\"https://scikit-learn.org/stable/modules/generated/sklearn.linear_model.LinearRegression.html#sklearn.linear_model.LinearRegression.predict\" target=\"_blank\">sklearn.predict()</a>\n",
    "Predict using the linear model."
   ],
   "metadata": {
    "collapsed": false
   }
  },
  {
   "cell_type": "code",
   "execution_count": 119,
   "outputs": [],
   "source": [
    "# from sklearn.datasets import load_diabetes\n",
    "# df = load_diabetes()"
   ],
   "metadata": {
    "collapsed": false,
    "pycharm": {
     "name": "#%%\n"
    }
   }
  },
  {
   "cell_type": "code",
   "execution_count": 38,
   "outputs": [],
   "source": [
    "df = pd.read_csv(\"noisypopulation.csv\")"
   ],
   "metadata": {
    "collapsed": false,
    "pycharm": {
     "name": "#%%\n"
    }
   }
  },
  {
   "cell_type": "code",
   "execution_count": 39,
   "outputs": [],
   "source": [
    "# Helper function to define plot characteristics\n",
    "def make_plot():\n",
    "    fig, axes=plt.subplots(figsize=(20,8), nrows=1, ncols=2);\n",
    "    axes[0].set_ylabel(\"$p_R$\", fontsize=18)\n",
    "    axes[0].set_xlabel(\"$x$\", fontsize=18)\n",
    "    axes[1].set_xlabel(\"$x$\", fontsize=18)\n",
    "    axes[1].set_yticklabels([])\n",
    "    axes[0].set_ylim([0,1])\n",
    "    axes[1].set_ylim([0,1])\n",
    "    axes[0].set_xlim([0,1])\n",
    "    axes[1].set_xlim([0,1])\n",
    "    plt.tight_layout();\n",
    "    return axes"
   ],
   "metadata": {
    "collapsed": false,
    "pycharm": {
     "name": "#%%\n"
    }
   }
  },
  {
   "cell_type": "code",
   "execution_count": 40,
   "outputs": [],
   "source": [
    "# Set column x is the predictor and column y is the response variable.\n",
    "# Column f is the true function of the given data\n",
    "# Select the values of the columns\n",
    "\n",
    "x = df.\n",
    "f = df.\n",
    "y = df."
   ],
   "metadata": {
    "collapsed": false,
    "pycharm": {
     "name": "#%%\n"
    }
   }
  },
  {
   "cell_type": "code",
   "execution_count": null,
   "outputs": [],
   "source": [
    "# Function to compute the Polynomial Features for the data x\n",
    "# for the given degree d\n",
    "def polyshape(d, x):\n",
    "    return PolynomialFeatures(___).fit_transform(___.reshape(-1,1))"
   ],
   "metadata": {
    "collapsed": false,
    "pycharm": {
     "name": "#%%\n"
    }
   }
  },
  {
   "cell_type": "code",
   "execution_count": null,
   "outputs": [],
   "source": [
    "# Function to fit a Linear Regression model\n",
    "def make_predict_with_model(x, y, x_pred):\n",
    "\n",
    "    # Create a Linear Regression model with fit_intercept as False\n",
    "    lreg = ___\n",
    "\n",
    "    # Fit the model to the data x and y got parameters to the function\n",
    "    lreg.fit(___, ___)\n",
    "\n",
    "    # Predict on the x_pred data got as a parameter to this function\n",
    "    y_pred = lreg.predict(___)\n",
    "\n",
    "    # Return the linear model and the prediction on the test data\n",
    "    return lreg, y_pred\n"
   ],
   "metadata": {
    "collapsed": false,
    "pycharm": {
     "name": "#%%\n"
    }
   }
  },
  {
   "cell_type": "code",
   "execution_count": null,
   "outputs": [],
   "source": [
    "# Function to perform sampling and fit the data, with the following parameters\n",
    "\n",
    "# degree is the maximum degree of the model\n",
    "# num_sample is the number of samples\n",
    "# size is the number of random points selected from the data for each sample\n",
    "# x is the predictor variable\n",
    "# y is the response variable\n",
    "\n",
    "def gen(degree, num_sample, size, x, y):\n",
    "\n",
    "    # Create 2 lists to store the prediction and model\n",
    "    predicted_values, linear_models =[], []\n",
    "\n",
    "    # Loop over the number of samples\n",
    "    for i in range(num_sample):\n",
    "\n",
    "        # Helper code to call the make_predict_with_model function to fit on the data\n",
    "        indexes=np.sort(np.random.choice(x.shape[0], size=size, replace=False))\n",
    "\n",
    "        # lreg and y_pred hold the model and predicted values for the current sample\n",
    "        lreg, y_pred = make_predict_with_model(polyshape(degree, x[indexes]), y[indexes], polyshape(degree, x))\n",
    "\n",
    "        # Append the model and predicted values to the appropriate lists\n",
    "        predicted_values.append(___)\n",
    "        linear_models.append(___)\n",
    "\n",
    "    # Return the 2 lists, one for predicted values and one for the model\n",
    "    return predicted_values, linear_models\n"
   ],
   "metadata": {
    "collapsed": false,
    "pycharm": {
     "name": "#%%\n"
    }
   }
  },
  {
   "cell_type": "code",
   "execution_count": null,
   "outputs": [],
   "source": [
    "# Call the function gen() twice with x and y as the\n",
    "# predictor and response variable respectively\n",
    "\n",
    "# Set the number of samples to 200 and the number of points as 30\n",
    "# Store the return values in appropriate variables\n",
    "\n",
    "# Get results for degree 1\n",
    "predicted_1, model_1 = gen(___);\n",
    "\n",
    "# Get results for degree 100\n",
    "predicted_100, model_100 = gen(___);\n"
   ],
   "metadata": {
    "collapsed": false,
    "pycharm": {
     "name": "#%%\n"
    }
   }
  },
  {
   "cell_type": "code",
   "execution_count": null,
   "outputs": [],
   "source": [
    "# Helper code to plot the data\n",
    "indexes = np.sort(np.random.choice(x.shape[0], size=30, replace=False))\n",
    "\n",
    "plt.figure(figsize = (12,8))\n",
    "axes=make_plot()\n",
    "\n",
    "# Plot for Degree 1\n",
    "axes[0].plot(x,f,label=\"f\", color='darkblue',linewidth=4)\n",
    "axes[0].plot(x, y, '.', label=\"Population y\", color='#009193',markersize=8)\n",
    "axes[0].plot(x[indexes], y[indexes], 's', color='black', label=\"Data y\")\n",
    "\n",
    "for i,p in enumerate(predicted_1[:-1]):\n",
    "    axes[0].plot(x,p,alpha=0.03,color='#FF9300')\n",
    "axes[0].plot(x, predicted_1[-1], alpha=0.3,color='#FF9300',label=\"Degree 1 from different samples\")\n",
    "\n",
    "\n",
    "# Plot for Degree 100\n",
    "axes[1].plot(x,f,label=\"f\", color='darkblue',linewidth=4)\n",
    "axes[1].plot(x, y, '.', label=\"Population y\", color='#009193',markersize=8)\n",
    "axes[1].plot(x[indexes], y[indexes], 's', color='black', label=\"Data y\")\n",
    "\n",
    "\n",
    "for i,p in enumerate(predicted_100[:-1]):\n",
    "    axes[1].plot(x,p,alpha=0.03,color='#FF9300')\n",
    "axes[1].plot(x,predicted_100[-1],alpha=0.2,color='#FF9300',label=\"Degree 100 from different samples\")\n",
    "\n",
    "axes[0].legend(loc='best')\n",
    "axes[1].legend(loc='best')\n",
    "\n",
    "plt.show();\n"
   ],
   "metadata": {
    "collapsed": false,
    "pycharm": {
     "name": "#%%\n"
    }
   }
  },
  {
   "cell_type": "markdown",
   "source": [
    "#### ⏸ Does changing the degree from 100 to 10 reduce variance? Why or why not?\n"
   ],
   "metadata": {
    "collapsed": false
   }
  },
  {
   "cell_type": "code",
   "execution_count": null,
   "outputs": [],
   "source": [
    "# Submit an answer choice as a string below\n",
    "answer1 = '___'\n"
   ],
   "metadata": {
    "collapsed": false,
    "pycharm": {
     "name": "#%%\n"
    }
   }
  }
 ],
 "metadata": {
  "kernelspec": {
   "display_name": "Python 3",
   "language": "python",
   "name": "python3"
  },
  "language_info": {
   "codemirror_mode": {
    "name": "ipython",
    "version": 3
   },
   "file_extension": ".py",
   "mimetype": "text/x-python",
   "name": "python",
   "nbconvert_exporter": "python",
   "pygments_lexer": "ipython3",
   "version": "3.8.5"
  }
 },
 "nbformat": 4,
 "nbformat_minor": 4
}