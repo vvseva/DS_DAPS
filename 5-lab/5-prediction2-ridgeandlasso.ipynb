{
 "cells": [
  {
   "cell_type": "markdown",
   "source": [
    "# Adapted from CS109a Introduction to Data Science\n",
    "\n",
    "## Seminar 5, Exercise 4: Best Degree of Polynomial with Train and Validation sets\n",
    "## Description :\n",
    "The aim of this exercise is to understand **Lasso and Ridge regularization.**\n",
    "\n",
    "For this we will plot the predictor vs coefficient as a horizontal bar chart. The graph will look similar to the one given below.\n",
    "\n",
    "## Data Description:\n",
    "\n",
    "## Instructions:\n",
    "\n",
    "- Read the dataset and assign the predictor and response variables.\n",
    "- Split the dataset into train and validation sets.\n",
    "- Fit a multi-linear regression model.\n",
    "- Compute the validation MSE of the model.\n",
    "- Compute the coefficient of the predictors and store to the plot later.\n",
    "- Implement Lasso regularization by specifying an alpha value. Repeat steps 4 and 5.\n",
    "- Implement Ridge regularization by specifying the same alpha value. Repeat steps 4 and 5.\n",
    "- Plot the coefficient of all the 3 models in one graph as shown above.\n",
    "\n",
    "## Hints:\n",
    "\n",
    "<a href=\"https://scikit-learn.org/stable/modules/generated/sklearn.preprocessing.normalize.html\" target=\"_blank\">sklearn.normalize()</a>\n",
    "Scales input vectors individually to the unit norm (vector length)\n",
    "\n",
    "<a href=\"https://scikit-learn.org/stable/modules/generated/sklearn.model_selection.train_test_split.html\" target=\"_blank\">sklearn.train_test_split()</a>\n",
    "Splits the data into random train and test subsets\n",
    "\n",
    "<a href=\"https://scikit-learn.org/stable/modules/generated/sklearn.linear_model.LinearRegression.html\" target=\"_blank\">sklearn.LinearRegression()</a>\n",
    "LinearRegression fits a linear model\n",
    "\n",
    "<a href=\"https://scikit-learn.org/stable/modules/generated/sklearn.linear_model.LinearRegression.html#sklearn.linear_model.LinearRegression.fit\" target=\"_blank\">sklearn.fit()</a>\n",
    "Fits the linear model to the training data\n",
    "\n",
    "<a href=\"https://scikit-learn.org/stable/modules/generated/sklearn.linear_model.LinearRegression.html#sklearn.linear_model.LinearRegression.predict\" target=\"_blank\">sklearn.predict()</a>\n",
    "Predict using the linear modReturns the coefficient of the predictors in the model.\n",
    "\n",
    "<a href=\"https://scikit-learn.org/stable/modules/generated/sklearn.metrics.mean_squared_error.html\" target=\"_blank\">mean_squared_error()</a>\n",
    "Mean squared error regression loss\n",
    "\n",
    "<a href=\"http://scikit-learn.org/stable/modules/generated/sklearn.linear_model.Lasso.html\" target=\"_blank\">sklearn.Lasso()</a>\n",
    "Linear Model trained with L1 prior as a regularizer\n",
    "\n",
    "<a href=\"https://scikit-learn.org/stable/modules/generated/sklearn.linear_model.Ridge.html\" target=\"_blank\">sklearn.Ridge()</a>\n",
    "Linear least squares with L2 regularization"
   ],
   "metadata": {
    "collapsed": false
   }
  },
  {
   "cell_type": "code",
   "execution_count": 2,
   "outputs": [],
   "source": [
    "# Import necessary libraries\n",
    "%matplotlib inline\n",
    "import pandas as pd\n",
    "import numpy as np\n",
    "import matplotlib.pyplot as plt\n",
    "from sklearn import preprocessing\n",
    "from sklearn.linear_model import Lasso\n",
    "from sklearn.linear_model import Ridge\n",
    "from sklearn.metrics import mean_squared_error\n",
    "from sklearn.linear_model import LinearRegression\n",
    "from sklearn.model_selection import train_test_split\n",
    "from sklearn.preprocessing import PolynomialFeatures\n"
   ],
   "metadata": {
    "collapsed": false,
    "pycharm": {
     "name": "#%%\n"
    }
   }
  },
  {
   "cell_type": "markdown",
   "source": [
    "### Reading the dataset"
   ],
   "metadata": {
    "collapsed": false
   }
  },
  {
   "cell_type": "code",
   "execution_count": 5,
   "outputs": [
    {
     "data": {
      "text/plain": "      crim    zn  indus  chas    nox     rm   age     dis  rad  tax  ptratio  \\\n0  0.00632  18.0   2.31     0  0.538  6.575  65.2  4.0900    1  296     15.3   \n1  0.02731   0.0   7.07     0  0.469  6.421  78.9  4.9671    2  242     17.8   \n2  0.02729   0.0   7.07     0  0.469  7.185  61.1  4.9671    2  242     17.8   \n3  0.03237   0.0   2.18     0  0.458  6.998  45.8  6.0622    3  222     18.7   \n4  0.06905   0.0   2.18     0  0.458  7.147  54.2  6.0622    3  222     18.7   \n\n        b  lstat  medv  \n0  396.90   4.98  24.0  \n1  396.90   9.14  21.6  \n2  392.83   4.03  34.7  \n3  394.63   2.94  33.4  \n4  396.90   5.33  36.2  ",
      "text/html": "<div>\n<style scoped>\n    .dataframe tbody tr th:only-of-type {\n        vertical-align: middle;\n    }\n\n    .dataframe tbody tr th {\n        vertical-align: top;\n    }\n\n    .dataframe thead th {\n        text-align: right;\n    }\n</style>\n<table border=\"1\" class=\"dataframe\">\n  <thead>\n    <tr style=\"text-align: right;\">\n      <th></th>\n      <th>crim</th>\n      <th>zn</th>\n      <th>indus</th>\n      <th>chas</th>\n      <th>nox</th>\n      <th>rm</th>\n      <th>age</th>\n      <th>dis</th>\n      <th>rad</th>\n      <th>tax</th>\n      <th>ptratio</th>\n      <th>b</th>\n      <th>lstat</th>\n      <th>medv</th>\n    </tr>\n  </thead>\n  <tbody>\n    <tr>\n      <th>0</th>\n      <td>0.00632</td>\n      <td>18.0</td>\n      <td>2.31</td>\n      <td>0</td>\n      <td>0.538</td>\n      <td>6.575</td>\n      <td>65.2</td>\n      <td>4.0900</td>\n      <td>1</td>\n      <td>296</td>\n      <td>15.3</td>\n      <td>396.90</td>\n      <td>4.98</td>\n      <td>24.0</td>\n    </tr>\n    <tr>\n      <th>1</th>\n      <td>0.02731</td>\n      <td>0.0</td>\n      <td>7.07</td>\n      <td>0</td>\n      <td>0.469</td>\n      <td>6.421</td>\n      <td>78.9</td>\n      <td>4.9671</td>\n      <td>2</td>\n      <td>242</td>\n      <td>17.8</td>\n      <td>396.90</td>\n      <td>9.14</td>\n      <td>21.6</td>\n    </tr>\n    <tr>\n      <th>2</th>\n      <td>0.02729</td>\n      <td>0.0</td>\n      <td>7.07</td>\n      <td>0</td>\n      <td>0.469</td>\n      <td>7.185</td>\n      <td>61.1</td>\n      <td>4.9671</td>\n      <td>2</td>\n      <td>242</td>\n      <td>17.8</td>\n      <td>392.83</td>\n      <td>4.03</td>\n      <td>34.7</td>\n    </tr>\n    <tr>\n      <th>3</th>\n      <td>0.03237</td>\n      <td>0.0</td>\n      <td>2.18</td>\n      <td>0</td>\n      <td>0.458</td>\n      <td>6.998</td>\n      <td>45.8</td>\n      <td>6.0622</td>\n      <td>3</td>\n      <td>222</td>\n      <td>18.7</td>\n      <td>394.63</td>\n      <td>2.94</td>\n      <td>33.4</td>\n    </tr>\n    <tr>\n      <th>4</th>\n      <td>0.06905</td>\n      <td>0.0</td>\n      <td>2.18</td>\n      <td>0</td>\n      <td>0.458</td>\n      <td>7.147</td>\n      <td>54.2</td>\n      <td>6.0622</td>\n      <td>3</td>\n      <td>222</td>\n      <td>18.7</td>\n      <td>396.90</td>\n      <td>5.33</td>\n      <td>36.2</td>\n    </tr>\n  </tbody>\n</table>\n</div>"
     },
     "execution_count": 5,
     "metadata": {},
     "output_type": "execute_result"
    }
   ],
   "source": [
    "# Read the file \"Boston_housing.csv\" as a Pandas dataframe\n",
    "df = pd.read_csv(\"BostonHousing.csv\")\n",
    "df.head()"
   ],
   "metadata": {
    "collapsed": false,
    "pycharm": {
     "name": "#%%\n"
    }
   }
  },
  {
   "cell_type": "markdown",
   "source": [
    "## Predictors & Response variables\n",
    "\n",
    "Select the following columns as predictors\n",
    "- crim\n",
    "- indus\n",
    "- nox\n",
    "- rm\n",
    "- age\n",
    "- dis\n",
    "- rad\n",
    "- tax\n",
    "- ptratio\n",
    "- black\n",
    "- lstat\n",
    "\n",
    "#### Select the 'medv' column as response variable"
   ],
   "metadata": {
    "collapsed": false
   }
  },
  {
   "cell_type": "code",
   "execution_count": 101,
   "outputs": [],
   "source": [
    "# Select a subdataframe of predictors mentioned above\n",
    "X = df[]\n",
    "\n",
    "# Normalize the values of the dataframe\n",
    "X_norm = preprocessing.normalize(___)\n",
    "\n",
    "# Select medv as the response variable\n",
    "y = df[___]\n"
   ],
   "metadata": {
    "collapsed": false,
    "pycharm": {
     "name": "#%%\n"
    }
   }
  },
  {
   "cell_type": "markdown",
   "source": [
    "### Split the dataset into train and validation sets\n"
   ],
   "metadata": {
    "collapsed": false
   }
  },
  {
   "cell_type": "code",
   "execution_count": 102,
   "outputs": [],
   "source": [
    "# Split the data into train and validation sets with 70% train data and\n",
    "# random_state as 31\n",
    "X_train, X_val, y_train, y_val = train_test_split(___)\n"
   ],
   "metadata": {
    "collapsed": false,
    "pycharm": {
     "name": "#%%\n"
    }
   }
  },
  {
   "cell_type": "markdown",
   "source": [
    "### Multi-linear Regression Analysis"
   ],
   "metadata": {
    "collapsed": false
   }
  },
  {
   "cell_type": "code",
   "execution_count": 103,
   "outputs": [],
   "source": [
    "# Initialize a Linear Regression model\n",
    "lreg = LinearRegression()\n",
    "\n",
    "# Fit the linear model on the train data\n",
    "lreg.fit(___)\n",
    "\n",
    "# Predict on the validation data\n",
    "y_val_pred = lreg.predict(___)\n"
   ],
   "metadata": {
    "collapsed": false,
    "pycharm": {
     "name": "#%%\n"
    }
   }
  },
  {
   "cell_type": "code",
   "execution_count": null,
   "outputs": [],
   "source": [
    "# Use the mean_squared_error function to compute the validation mse\n",
    "mse = mean_squared_error(___,___)\n",
    "\n",
    "# Print the MSE value\n",
    "print (\"Multi-linear regression validation MSE is\", mse)\n"
   ],
   "metadata": {
    "collapsed": false,
    "pycharm": {
     "name": "#%%\n"
    }
   }
  },
  {
   "cell_type": "markdown",
   "source": [
    "### Obtaining the coefficients of the predictors"
   ],
   "metadata": {
    "collapsed": false
   }
  },
  {
   "cell_type": "code",
   "execution_count": 105,
   "outputs": [],
   "source": [
    "# Helper code to create a dictionary of the coefficients\n",
    "# along with the predictors as keys\n",
    "lreg_coef = dict(zip(X.columns, np.transpose(lreg.coef_)))\n",
    "\n",
    "# Linear regression coefficients for plotting\n",
    "lreg_x = list(lreg_coef.keys())\n",
    "lreg_y = list(lreg_coef.values())\n"
   ],
   "metadata": {
    "collapsed": false,
    "pycharm": {
     "name": "#%%\n"
    }
   }
  },
  {
   "cell_type": "markdown",
   "source": [
    "### Implementing Lasso regularization"
   ],
   "metadata": {
    "collapsed": false
   }
  },
  {
   "cell_type": "code",
   "execution_count": 106,
   "outputs": [],
   "source": [
    "# Create a Lasso Regression model with alpha as 0.008\n",
    "lasso_reg = Lasso(___)\n",
    "\n",
    "# Fit the model on the train data\n",
    "lasso_reg.fit(___)\n",
    "\n",
    "# Predict on the validation data using the trained model\n",
    "y_val_pred =lasso_reg.predict(___)\n"
   ],
   "metadata": {
    "collapsed": false,
    "pycharm": {
     "name": "#%%\n"
    }
   }
  },
  {
   "cell_type": "markdown",
   "source": [
    "### Computing the MSE with Lasso regularization"
   ],
   "metadata": {
    "collapsed": false
   }
  },
  {
   "cell_type": "code",
   "execution_count": null,
   "outputs": [],
   "source": [
    "# Calculate the validation MSE\n",
    "mse_lasso = mean_squared_error(___,___)\n",
    "\n",
    "# Print the validation MSE\n",
    "print (\"Lasso validation MSE is\", mse_lasso)\n"
   ],
   "metadata": {
    "collapsed": false,
    "pycharm": {
     "name": "#%%\n"
    }
   }
  },
  {
   "cell_type": "code",
   "execution_count": 108,
   "outputs": [],
   "source": [
    "# Hhelper code to make a dictionary of the predictors\n",
    "# along with the coefficients associated with them\n",
    "lasso_coef = dict(zip(X.columns, np.transpose(lasso_reg.coef_)))\n",
    "\n",
    "# Get the Lasso regularisation coefficients for plotting\n",
    "lasso_x = list(lasso_coef.keys())\n",
    "lasso_y = list(lasso_coef.values())\n"
   ],
   "metadata": {
    "collapsed": false,
    "pycharm": {
     "name": "#%%\n"
    }
   }
  },
  {
   "cell_type": "markdown",
   "source": [
    "### Implementing Ridge regularization"
   ],
   "metadata": {
    "collapsed": false
   }
  },
  {
   "cell_type": "code",
   "execution_count": 109,
   "outputs": [],
   "source": [
    "# Create a Ridge Regression model with alpha as 0.008\n",
    "ridgeReg = Ridge(___)\n",
    "\n",
    "# Fit the model on the train data\n",
    "ridgeReg.fit(___)\n",
    "\n",
    "# Predict the trained model on the validation data\n",
    "y_val_pred = ridgeReg.predict(___)\n"
   ],
   "metadata": {
    "collapsed": false,
    "pycharm": {
     "name": "#%%\n"
    }
   }
  },
  {
   "cell_type": "markdown",
   "source": [
    "### Computing the MSE with Ridge regularization"
   ],
   "metadata": {
    "collapsed": false
   }
  },
  {
   "cell_type": "code",
   "execution_count": null,
   "outputs": [],
   "source": [
    "# Calculate the validation MSE\n",
    "mse_ridge = mean_squared_error(___)\n",
    "\n",
    "# Print he valdiation MSE\n",
    "print (\"Ridge validation MSE is\", mse_ridge)\n"
   ],
   "metadata": {
    "collapsed": false,
    "pycharm": {
     "name": "#%%\n"
    }
   }
  },
  {
   "cell_type": "markdown",
   "source": [
    "### Obtaining the coefficients of the predictors"
   ],
   "metadata": {
    "collapsed": false
   }
  },
  {
   "cell_type": "code",
   "execution_count": 111,
   "outputs": [],
   "source": [
    "# Helper code to make a dictionary of the predictors\n",
    "# along with the coefficients associated with them\n",
    "ridge_coef = dict(zip(X.columns, np.transpose(ridgeReg.coef_)))\n",
    "\n",
    "# Ridge regularisation coefficients for plotting\n",
    "ridge_x = list(ridge_coef.keys())\n",
    "ridge_y = list(ridge_coef.values())\n"
   ],
   "metadata": {
    "collapsed": false,
    "pycharm": {
     "name": "#%%\n"
    }
   }
  },
  {
   "cell_type": "markdown",
   "source": [
    "### Plotting the graph"
   ],
   "metadata": {
    "collapsed": false
   }
  },
  {
   "cell_type": "code",
   "execution_count": null,
   "outputs": [],
   "source": [
    "# Helper code below to visualise your results\n",
    "\n",
    "plt.rcdefaults()\n",
    "\n",
    "plt.barh(lreg_x,lreg_y,1.0, align='edge',color=\"#D3B4B4\", label=\"Linear Regression\")\n",
    "plt.barh(lasso_x,lasso_y,0.75 ,align='edge',color=\"#81BDB2\",label = \"Lasso regularisation\")\n",
    "plt.barh(ridge_x,ridge_y,0.25 ,align='edge',color=\"#7E7EC0\", label=\"Ridge regularisation\")\n",
    "plt.grid(linewidth=0.2)\n",
    "plt.xlabel(\"Coefficient\")\n",
    "plt.ylabel(\"Predictors\")\n",
    "plt.legend(loc='best')\n",
    "plt.xlim(-6500,3500)\n",
    "plt.show()\n"
   ],
   "metadata": {
    "collapsed": false,
    "pycharm": {
     "name": "#%%\n"
    }
   }
  },
  {
   "cell_type": "markdown",
   "source": [
    "#### ⏸ How does the performance of Lasso and Ridge regression compare with that of Linear regression?"
   ],
   "metadata": {
    "collapsed": false
   }
  },
  {
   "cell_type": "code",
   "execution_count": null,
   "outputs": [],
   "source": [
    "# Submit an answer choice as a string below\n",
    "answer1 = '___'\n"
   ],
   "metadata": {
    "collapsed": false,
    "pycharm": {
     "name": "#%%\n"
    }
   }
  },
  {
   "cell_type": "markdown",
   "source": [
    "#### ⏸ Change the alpha values for both, Lasso and Ridge, to 1000. What happens to the coefficients?\n"
   ],
   "metadata": {
    "collapsed": false
   }
  },
  {
   "cell_type": "code",
   "execution_count": null,
   "outputs": [],
   "source": [
    "# Submit an answer choice as a string below\n",
    "answer2 = '___'\n"
   ],
   "metadata": {
    "collapsed": false,
    "pycharm": {
     "name": "#%%\n"
    }
   }
  }
 ],
 "metadata": {
  "kernelspec": {
   "display_name": "Python 3",
   "language": "python",
   "name": "python3"
  },
  "language_info": {
   "codemirror_mode": {
    "name": "ipython",
    "version": 2
   },
   "file_extension": ".py",
   "mimetype": "text/x-python",
   "name": "python",
   "nbconvert_exporter": "python",
   "pygments_lexer": "ipython2",
   "version": "2.7.6"
  }
 },
 "nbformat": 4,
 "nbformat_minor": 0
}