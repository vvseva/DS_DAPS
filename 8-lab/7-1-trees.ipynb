{
 "cells": [
  {
   "cell_type": "markdown",
   "source": [
    "# Adapted from CS109a Introduction to Data Science\n",
    "## Seminar 8, Exercise 1: Visualizing a Decision Tree\n",
    "\n",
    "## Description :\n",
    "The aim of this exercise is to visualize the decision tree that is created when performing Decision Tree Classification or Regression.\n",
    "\n",
    "## Data Description:\n",
    "We are trying to predict the winner of the 2016 Presidential election (Trump vs. Clinton) in each county in the US.  To do this, we will consider several predictors including  minority: the percentage of residents that are minorities and bachelor: the percentage of resident adults with a bachelor's degree (or higher).\n",
    "\n",
    "## Instructions:\n",
    "\n",
    "- Read the datafile `county_election_train.csv` into a Pandas data frame.\n",
    "- Create the response variable based on the columns `trump` and `clinton`.\n",
    "- Initialize a Decision Tree classifier of depth 3 and fit on the training data.\n",
    "- Visualise the Decision Tree.\n",
    "\n",
    "## Hints:\n",
    "\n",
    "<a href=\"https://scikit-learn.org/stable/modules/generated/sklearn.tree.DecisionTreeClassifier.html\" target=\"_blank\">sklearn.DecisionTreeClassifier()</a>Generates a Logistic Regression classifier.\n",
    "\n",
    "<a href=\"https://scikit-learn.org/stable/modules/generated/sklearn.tree.DecisionTreeClassifier.html#sklearn.tree.DecisionTreeClassifier.fit\" target=\"_blank\">classifier.fit()</a>Build a decision tree classifier from the training set (X, y).\n",
    "\n",
    "<a href=\"https://matplotlib.org/stable/api/_as_gen/matplotlib.pyplot.scatter.html\" target=\"_blank\">plt.scatter()</a>A scatter plot of y vs. x with varying marker size and/or color.\n",
    "\n",
    "<a href=\"https://matplotlib.org/stable/api/_as_gen/matplotlib.pyplot.xlabel.html\" target=\"_blank\">plt.xlabel()</a>Set the label for the x-axis.\n",
    "\n",
    "<a href=\"https://matplotlib.org/stable/api/_as_gen/matplotlib.pyplot.ylabel.html\" target=\"_blank\">plt.ylabel()</a>Set the label for the y-axis.\n",
    "\n",
    "<a href=\"https://matplotlib.org/stable/api/_as_gen/matplotlib.pyplot.legend.html\" target=\"_blank\">plt.legend()</a>Place a legend on the Axes.\n",
    "\n",
    "<a href=\"https://scikit-learn.org/stable/modules/generated/sklearn.tree.plot_tree.html\" target=\"_blank\">tree.plot_tree()</a>Plot a decision tree."
   ],
   "metadata": {
    "collapsed": false
   }
  },
  {
   "cell_type": "code",
   "execution_count": 9,
   "outputs": [],
   "source": [
    "# Import necessary libraries\n",
    "import numpy as np\n",
    "import pandas as pd\n",
    "import sklearn as sk\n",
    "import seaborn as sns\n",
    "from sklearn import tree\n",
    "import matplotlib.pyplot as plt\n",
    "from sklearn.tree import DecisionTreeClassifier\n",
    "from sklearn.model_selection import cross_val_score\n",
    "from sklearn.model_selection import train_test_split\n",
    "\n",
    "pd.set_option('display.width', 100)\n",
    "pd.set_option('display.max_columns', 20)\n",
    "plt.rcParams[\"figure.figsize\"] = (12,8)\n"
   ],
   "metadata": {
    "collapsed": false,
    "pycharm": {
     "name": "#%%\n"
    }
   }
  },
  {
   "cell_type": "code",
   "execution_count": 10,
   "outputs": [
    {
     "ename": "SyntaxError",
     "evalue": "invalid syntax (1525017802.py, line 2)",
     "output_type": "error",
     "traceback": [
      "\u001B[1;36m  Input \u001B[1;32mIn [10]\u001B[1;36m\u001B[0m\n\u001B[1;33m    data =\u001B[0m\n\u001B[1;37m          ^\u001B[0m\n\u001B[1;31mSyntaxError\u001B[0m\u001B[1;31m:\u001B[0m invalid syntax\n"
     ]
    }
   ],
   "source": [
    "# Read the datafile \"county_level_election.csv\" as a Pandas dataframe\n",
    "data =\n",
    "# split in into test and train\n",
    "elect_train, elect_test =\n",
    "\n",
    "# Take a quick look at the dataframe\n",
    "elect_train.head()\n",
    "elect_test.head()"
   ],
   "metadata": {
    "collapsed": false,
    "pycharm": {
     "name": "#%%\n"
    }
   }
  },
  {
   "cell_type": "code",
   "execution_count": null,
   "outputs": [],
   "source": [
    "# Creating the response variable\n",
    "\n",
    "# Set all the rows in the train data where \"trump\" value is more than \"clinton\" as 1\n",
    "y_train = ___\n",
    "\n",
    "# Set all the rows in the test data where \"trump\" value is more than \"clinton\" as 1\n",
    "y_test = ___\n"
   ],
   "metadata": {
    "collapsed": false,
    "pycharm": {
     "name": "#%%\n"
    }
   }
  },
  {
   "cell_type": "code",
   "execution_count": null,
   "outputs": [],
   "source": [
    "# Plot \"minority\" vs \"bachelor\" as a scatter plot\n",
    "# Set colours red for Trump and blue for Clinton\n",
    "\n",
    "# Your code here\n"
   ],
   "metadata": {
    "collapsed": false,
    "pycharm": {
     "name": "#%%\n"
    }
   }
  },
  {
   "cell_type": "code",
   "execution_count": null,
   "outputs": [],
   "source": [
    "# Initialize a Decision Tree classifier of depth 3 and choose\n",
    "# splitting criteria to be the gini\n",
    "dtree = ___\n",
    "\n",
    "# Fit the classifier on the train data\n",
    "# but only use the minority column as the predictor variable\n",
    "___\n"
   ],
   "metadata": {
    "collapsed": false,
    "pycharm": {
     "name": "#%%\n"
    }
   }
  },
  {
   "cell_type": "code",
   "source": [
    "# Code to set the size of the plot\n",
    "plt.figure(figsize=(30,20))\n",
    "\n",
    "# Plot the Decision Tree trained above with parameters filled as True\n",
    "tree.plot_tree(___)\n",
    "\n",
    "\n",
    "plt.show();"
   ],
   "metadata": {
    "collapsed": false,
    "pycharm": {
     "name": "#%%\n"
    }
   },
   "execution_count": null,
   "outputs": []
  },
  {
   "cell_type": "code",
   "execution_count": null,
   "outputs": [],
   "source": [
    "## evaluate your decision tree\n"
   ],
   "metadata": {
    "collapsed": false,
    "pycharm": {
     "name": "#%%\n"
    }
   }
  },
  {
   "cell_type": "markdown",
   "source": [
    "## create a new tree with all the features\n",
    "### can you interpret it?"
   ],
   "metadata": {
    "collapsed": false,
    "pycharm": {
     "name": "#%% md\n"
    }
   }
  },
  {
   "cell_type": "code",
   "execution_count": null,
   "outputs": [],
   "source": [],
   "metadata": {
    "collapsed": false,
    "pycharm": {
     "name": "#%%\n"
    }
   }
  }
 ],
 "metadata": {
  "kernelspec": {
   "display_name": "Python 3",
   "language": "python",
   "name": "python3"
  },
  "language_info": {
   "codemirror_mode": {
    "name": "ipython",
    "version": 2
   },
   "file_extension": ".py",
   "mimetype": "text/x-python",
   "name": "python",
   "nbconvert_exporter": "python",
   "pygments_lexer": "ipython2",
   "version": "2.7.6"
  }
 },
 "nbformat": 4,
 "nbformat_minor": 0
}