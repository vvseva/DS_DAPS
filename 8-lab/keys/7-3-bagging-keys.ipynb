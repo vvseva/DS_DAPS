{
 "cells": [
  {
   "cell_type": "markdown",
   "source": [
    "# Adapted from CS109a Introduction to Data Science\n",
    "## Seminar 8, Exercise 3: Bagging Classification with Decision Boundary\n",
    "\n",
    "## Description :\n",
    "The goal of this exercise is to use **Bagging** (Bootstrap Aggregated) to solve a classification problem and visualize the influence on Bagging on trees with varying depths.\n",
    "\n",
    "## Instructions:\n",
    "\n",
    "- Read the dataset `Crimes_-_Maps.csv`.\n",
    "- Assign the predictor and response variables as `X` and `y`.\n",
    "- Split the data into train and test sets with `test_split=0.2` and `random_state=44`.\n",
    "- Fit a single `DecisionTreeClassifier()` and find the accuracy of your prediction.\n",
    "- Complete the helper function `prediction_by_bagging()` to find the average predictions for a given number of bootstraps.\n",
    "- Perform `Bagging` using the helper function, and compute the new accuracy.\n",
    "- Plot the accuracy as a function of the number of bootstraps.\n",
    "- Use the helper code to plot the decision boundaries for varying max_depth along with `num_bootstraps`. Investigate the effect of increasing bootstraps on the variance.\n",
    "\n",
    "<a href=\"https://data.cityofchicago.org/Public-Safety/Crimes-Map/dfnk-7re6\" target=\"_blank\"> Chicago crime data</a>\n",
    "\n",
    "## Hints:\n",
    "\n",
    "<a href=\"https://scikit-learn.org/stable/modules/generated/sklearn.tree.DecisionTreeClassifier.html#sklearn-tree-decisiontreeclassifier\" target=\"_blank\">sklearn.tree.DecisionTreeClassifier()</a>\n",
    "A decision tree classifier.\n",
    "\n",
    "<a href=\"https://scikit-learn.org/stable/modules/generated/sklearn.tree.DecisionTreeClassifier.html#sklearn.tree.DecisionTreeClassifier.fit\" target=\"_blank\">DecisionTreeClassifier.fit()</a>\n",
    "Build a decision tree classifier from the training set (X, y).\n",
    "\n",
    "<a href=\"https://scikit-learn.org/stable/modules/generated/sklearn.tree.DecisionTreeClassifier.html#sklearn.tree.DecisionTreeClassifier.predict\" target=\"_blank\">DecisionTreeClassifier.predict()</a>\n",
    "Predict class or regression value for X.\n",
    "\n",
    "<a href=\"https://scikit-learn.org/stable/modules/generated/sklearn.model_selection.train_test_split.html\" target=\"_blank\">train_test_split()</a>\n",
    "Split arrays or matrices into random train and test subsets.\n",
    "\n",
    "<a href=\"https://docs.scipy.org/doc//numpy-1.10.4/reference/generated/numpy.random.choice.html\" target=\"_blank\">np.random.choice</a>\n",
    "Generates a random sample from a given 1-D array.\n",
    "\n",
    "<a href=\"https://matplotlib.org/3.2.1/api/_as_gen/matplotlib.pyplot.subplots.html\" target=\"_blank\">plt.subplots()</a>\n",
    "Create a figure and a set of subplots.\n",
    "\n",
    "<a href=\"https://matplotlib.org/3.2.1/api/_as_gen/matplotlib.axes.Axes.plot.html\" target=\"_blank\">ax.plot()</a>\n",
    "Plot y versus x as lines and/or markers"
   ],
   "metadata": {
    "collapsed": false
   }
  },
  {
   "cell_type": "code",
   "execution_count": 1,
   "outputs": [],
   "source": [
    "# Import necessary libraries\n",
    "%matplotlib inline\n",
    "import numpy as np\n",
    "import pandas as pd\n",
    "from sklearn import metrics\n",
    "import scipy.optimize as opt\n",
    "import matplotlib.pyplot as plt\n",
    "from sklearn.metrics import accuracy_score\n",
    "from sklearn.tree import DecisionTreeClassifier\n",
    "from sklearn.model_selection import train_test_split\n",
    "\n",
    "# Used for plotting later\n",
    "from matplotlib.colors import ListedColormap\n",
    "cmap_bold = ListedColormap(['#F7345E','#80C3BD'])\n",
    "cmap_light = ListedColormap(['#FFF4E5','#D2E3EF'])\n"
   ],
   "metadata": {
    "collapsed": false,
    "pycharm": {
     "name": "#%%\n"
    }
   }
  },
  {
   "cell_type": "code",
   "execution_count": 2,
   "outputs": [
    {
     "data": {
      "text/plain": "       CASE#     DATE  OF OCCURRENCE                BLOCK  IUCR  \\\n5   JE266628  06/15/2021 09:30:00 AM   080XX S DREXEL AVE  0820   \n6   JE266536  06/15/2021 07:50:00 AM   042XX W MADISON ST  0560   \n8   JE267466  06/15/2021 09:01:00 PM   007XX S KEDZIE AVE  051B   \n9   JE266473  06/15/2021 07:47:00 AM    062XX S MORGAN ST  0110   \n10  JE267222  06/15/2021 01:55:00 AM  015XX S KENNETH AVE  4386   \n\n    PRIMARY DESCRIPTION                SECONDARY DESCRIPTION  \\\n5                 THEFT                       $500 AND UNDER   \n6               ASSAULT                               SIMPLE   \n8               ASSAULT           AGGRAVATED - OTHER FIREARM   \n9              HOMICIDE                  FIRST DEGREE MURDER   \n10        OTHER OFFENSE  VIOLATION OF CIVIL NO CONTACT ORDER   \n\n    LOCATION DESCRIPTION ARREST DOMESTIC  BEAT  WARD FBI CD  X COORDINATE  \\\n5                 STREET      N        N   631   8.0     06     1183633.0   \n6               SIDEWALK      N        N  1115  28.0    08A     1148227.0   \n8               SIDEWALK      Y        N  1134  24.0    04A     1155154.0   \n9              APARTMENT      N        N   712  16.0    01A     1170714.0   \n10             APARTMENT      N        Y  1012  24.0     26     1146970.0   \n\n    Y COORDINATE   LATITUDE  LONGITUDE                       LOCATION  \n5      1851786.0  41.748486 -87.602675  (41.748486365, -87.602675062)  \n6      1899678.0  41.880661 -87.731186  (41.880660786, -87.731186405)  \n8      1896404.0  41.871540 -87.705839   (41.87154041, -87.705838807)  \n9      1863474.0  41.780851 -87.649674  (41.780850996, -87.649674221)  \n10     1892136.0  41.859989 -87.735995   (41.859988733, -87.73599476)  ",
      "text/html": "<div>\n<style scoped>\n    .dataframe tbody tr th:only-of-type {\n        vertical-align: middle;\n    }\n\n    .dataframe tbody tr th {\n        vertical-align: top;\n    }\n\n    .dataframe thead th {\n        text-align: right;\n    }\n</style>\n<table border=\"1\" class=\"dataframe\">\n  <thead>\n    <tr style=\"text-align: right;\">\n      <th></th>\n      <th>CASE#</th>\n      <th>DATE  OF OCCURRENCE</th>\n      <th>BLOCK</th>\n      <th>IUCR</th>\n      <th>PRIMARY DESCRIPTION</th>\n      <th>SECONDARY DESCRIPTION</th>\n      <th>LOCATION DESCRIPTION</th>\n      <th>ARREST</th>\n      <th>DOMESTIC</th>\n      <th>BEAT</th>\n      <th>WARD</th>\n      <th>FBI CD</th>\n      <th>X COORDINATE</th>\n      <th>Y COORDINATE</th>\n      <th>LATITUDE</th>\n      <th>LONGITUDE</th>\n      <th>LOCATION</th>\n    </tr>\n  </thead>\n  <tbody>\n    <tr>\n      <th>5</th>\n      <td>JE266628</td>\n      <td>06/15/2021 09:30:00 AM</td>\n      <td>080XX S DREXEL AVE</td>\n      <td>0820</td>\n      <td>THEFT</td>\n      <td>$500 AND UNDER</td>\n      <td>STREET</td>\n      <td>N</td>\n      <td>N</td>\n      <td>631</td>\n      <td>8.0</td>\n      <td>06</td>\n      <td>1183633.0</td>\n      <td>1851786.0</td>\n      <td>41.748486</td>\n      <td>-87.602675</td>\n      <td>(41.748486365, -87.602675062)</td>\n    </tr>\n    <tr>\n      <th>6</th>\n      <td>JE266536</td>\n      <td>06/15/2021 07:50:00 AM</td>\n      <td>042XX W MADISON ST</td>\n      <td>0560</td>\n      <td>ASSAULT</td>\n      <td>SIMPLE</td>\n      <td>SIDEWALK</td>\n      <td>N</td>\n      <td>N</td>\n      <td>1115</td>\n      <td>28.0</td>\n      <td>08A</td>\n      <td>1148227.0</td>\n      <td>1899678.0</td>\n      <td>41.880661</td>\n      <td>-87.731186</td>\n      <td>(41.880660786, -87.731186405)</td>\n    </tr>\n    <tr>\n      <th>8</th>\n      <td>JE267466</td>\n      <td>06/15/2021 09:01:00 PM</td>\n      <td>007XX S KEDZIE AVE</td>\n      <td>051B</td>\n      <td>ASSAULT</td>\n      <td>AGGRAVATED - OTHER FIREARM</td>\n      <td>SIDEWALK</td>\n      <td>Y</td>\n      <td>N</td>\n      <td>1134</td>\n      <td>24.0</td>\n      <td>04A</td>\n      <td>1155154.0</td>\n      <td>1896404.0</td>\n      <td>41.871540</td>\n      <td>-87.705839</td>\n      <td>(41.87154041, -87.705838807)</td>\n    </tr>\n    <tr>\n      <th>9</th>\n      <td>JE266473</td>\n      <td>06/15/2021 07:47:00 AM</td>\n      <td>062XX S MORGAN ST</td>\n      <td>0110</td>\n      <td>HOMICIDE</td>\n      <td>FIRST DEGREE MURDER</td>\n      <td>APARTMENT</td>\n      <td>N</td>\n      <td>N</td>\n      <td>712</td>\n      <td>16.0</td>\n      <td>01A</td>\n      <td>1170714.0</td>\n      <td>1863474.0</td>\n      <td>41.780851</td>\n      <td>-87.649674</td>\n      <td>(41.780850996, -87.649674221)</td>\n    </tr>\n    <tr>\n      <th>10</th>\n      <td>JE267222</td>\n      <td>06/15/2021 01:55:00 AM</td>\n      <td>015XX S KENNETH AVE</td>\n      <td>4386</td>\n      <td>OTHER OFFENSE</td>\n      <td>VIOLATION OF CIVIL NO CONTACT ORDER</td>\n      <td>APARTMENT</td>\n      <td>N</td>\n      <td>Y</td>\n      <td>1012</td>\n      <td>24.0</td>\n      <td>26</td>\n      <td>1146970.0</td>\n      <td>1892136.0</td>\n      <td>41.859989</td>\n      <td>-87.735995</td>\n      <td>(41.859988733, -87.73599476)</td>\n    </tr>\n  </tbody>\n</table>\n</div>"
     },
     "execution_count": 2,
     "metadata": {},
     "output_type": "execute_result"
    }
   ],
   "source": [
    "# Read the file 'Crimes_-_Map.csv' as a Pandas dataframe\n",
    "df = pd.read_csv('C:\\\\Users\\\\wirze\\\\DataspellProjects\\\\DS_DAPS\\\\8-lab\\\\data\\\\Crimes_-_Map.csv')\n",
    "\n",
    "\n",
    "df = df.dropna()\n",
    "# Take a quick look at the data\n",
    "# Note that the latitude & longitude values are not normalized\n",
    "df.head()\n"
   ],
   "metadata": {
    "collapsed": false,
    "pycharm": {
     "name": "#%%\n"
    }
   }
  },
  {
   "cell_type": "code",
   "execution_count": 3,
   "outputs": [],
   "source": [
    "# Set the values of latitude & longitude predictor variables\n",
    "X = df[['LATITUDE', 'LONGITUDE']].values\n",
    "\n",
    "# Use the column \"ARREST\" as the response variable\n",
    "y = df['ARREST'].values\n"
   ],
   "metadata": {
    "collapsed": false,
    "pycharm": {
     "name": "#%%\n"
    }
   }
  },
  {
   "cell_type": "code",
   "execution_count": 4,
   "outputs": [],
   "source": [
    "# Split data in train an test, with test size = 0.2\n",
    "# and set random state as 44\n",
    "X_train, X_test, y_train, y_test = train_test_split(X, y, test_size=0.2, random_state=44)\n"
   ],
   "metadata": {
    "collapsed": false,
    "pycharm": {
     "name": "#%%\n"
    }
   }
  },
  {
   "cell_type": "code",
   "execution_count": 5,
   "outputs": [
    {
     "data": {
      "text/plain": "DecisionTreeClassifier(max_depth=20, random_state=44)"
     },
     "execution_count": 5,
     "metadata": {},
     "output_type": "execute_result"
    }
   ],
   "source": [
    "# Define the max_depth of the decision tree\n",
    "max_depth = 20\n",
    "\n",
    "# Define a decision tree classifier with a max depth as defined above\n",
    "# and set the random_state as 44\n",
    "clf = DecisionTreeClassifier(max_depth=max_depth, random_state=44)\n",
    "\n",
    "# Fit the model on the training data\n",
    "clf.fit(X_train, y_train)\n"
   ],
   "metadata": {
    "collapsed": false,
    "pycharm": {
     "name": "#%%\n"
    }
   }
  },
  {
   "cell_type": "code",
   "execution_count": 6,
   "outputs": [
    {
     "name": "stdout",
     "output_type": "stream",
     "text": [
      "Single tree Accuracy is 87.10627799468251%\n"
     ]
    }
   ],
   "source": [
    "# Use the trained model to predict on the test set\n",
    "prediction = clf.predict(X_test)\n",
    "\n",
    "# Calculate the accuracy of the test predictions of a single tree\n",
    "single_acc = accuracy_score(prediction, y_test)\n",
    "\n",
    "# Print the accuracy of the tree\n",
    "print(f'Single tree Accuracy is {single_acc*100}%')\n"
   ],
   "metadata": {
    "collapsed": false,
    "pycharm": {
     "name": "#%%\n"
    }
   }
  },
  {
   "cell_type": "code",
   "execution_count": 7,
   "outputs": [],
   "source": [
    "# Complete the function below to get the prediction by bagging\n",
    "\n",
    "# Inputs: X_train, y_train to train your data\n",
    "# X_to_evaluate: Samples that you are goin to predict (evaluate)\n",
    "# num_bootstraps: how many trees you want to train\n",
    "# Output: An array of predicted classes for X_to_evaluate\n",
    "\n",
    "def prediction_by_bagging(X_train, y_train, X_to_evaluate, num_bootstraps):\n",
    "\n",
    "    # List to store every array of predictions\n",
    "    predictions = []\n",
    "\n",
    "    # Generate num_bootstraps number of trees\n",
    "    for i in range(num_bootstraps):\n",
    "\n",
    "        # Sample data to perform first bootstrap, here, we actually bootstrap indices,\n",
    "        # because we want the same subset for X_train and y_train\n",
    "        resample_indexes = np.random.choice(np.arange(y_train.shape[0]), size=y_train.shape[0])\n",
    "\n",
    "        # Get a bootstrapped version of the data using the above indices\n",
    "        X_boot = X_train[resample_indexes]\n",
    "        y_boot = y_train[resample_indexes]\n",
    "\n",
    "        # Initialize a Decision Tree on bootstrapped data\n",
    "        # Use the same max_depth and random_state as above\n",
    "        clf = DecisionTreeClassifier(max_depth=max_depth, random_state=44)\n",
    "\n",
    "        # Fit the model on bootstrapped training set\n",
    "        clf.fit(X_boot,y_boot)\n",
    "\n",
    "        # Use the trained model to predict on X_to_evaluate samples\n",
    "        pred = clf.predict(X_to_evaluate)\n",
    "\n",
    "        # Append the predictions to the predictions list\n",
    "        predictions.append(pred)\n",
    "\n",
    "    # The list \"predictions\" has [prediction_array_0, prediction_array_1, ..., prediction_array_n]\n",
    "    # To get the majority vote for each sample, we can find the average\n",
    "    # prediction and threshold them by 0.5\n",
    "    average_prediction = np.stack( predictions, axis=0)\n",
    "\n",
    "    # Return the average prediction\n",
    "    return average_prediction\n"
   ],
   "metadata": {
    "collapsed": false,
    "pycharm": {
     "name": "#%%\n"
    }
   }
  },
  {
   "cell_type": "code",
   "execution_count": 8,
   "outputs": [],
   "source": [
    "# Define the number of bootstraps\n",
    "num_bootstraps = 200\n",
    "\n",
    "# Calling the prediction_by_bagging function with appropriate parameters\n",
    "y_pred = prediction_by_bagging(X_train,y_train,X_test,num_bootstraps=num_bootstraps)"
   ],
   "metadata": {
    "collapsed": false,
    "pycharm": {
     "name": "#%%\n"
    }
   }
  },
  {
   "cell_type": "code",
   "execution_count": 9,
   "outputs": [],
   "source": [
    "def voteban(x):\n",
    "    if x >= 0.5:\n",
    "        return 'Y'\n",
    "    else:\n",
    "        return 'N'"
   ],
   "metadata": {
    "collapsed": false,
    "pycharm": {
     "name": "#%%\n"
    }
   }
  },
  {
   "cell_type": "code",
   "execution_count": 10,
   "outputs": [
    {
     "data": {
      "text/plain": "0    0.065\n1    0.080\n2    0.000\n3    0.000\n4    0.000\ndtype: float64"
     },
     "execution_count": 10,
     "metadata": {},
     "output_type": "execute_result"
    }
   ],
   "source": [
    "predictions_df = pd.DataFrame(np.transpose(y_pred))\\\n",
    "    .replace('Y', 1)\\\n",
    "    .replace('N', 0)\\\n",
    "    .mean(axis=1)\n",
    "\n",
    "predictions_df.head()"
   ],
   "metadata": {
    "collapsed": false,
    "pycharm": {
     "name": "#%%\n"
    }
   }
  },
  {
   "cell_type": "code",
   "execution_count": 11,
   "outputs": [
    {
     "data": {
      "text/plain": "0    N\n1    N\n2    N\n3    N\n4    N\ndtype: object"
     },
     "execution_count": 11,
     "metadata": {},
     "output_type": "execute_result"
    }
   ],
   "source": [
    "predictions_df = predictions_df.apply(voteban)\n",
    "predictions_df.head()"
   ],
   "metadata": {
    "collapsed": false,
    "pycharm": {
     "name": "#%%\n"
    }
   }
  },
  {
   "cell_type": "code",
   "execution_count": 12,
   "outputs": [
    {
     "name": "stdout",
     "output_type": "stream",
     "text": [
      "Accuracy with Bootstrapped Aggregation is  88.39253634817601%\n"
     ]
    }
   ],
   "source": [
    "# Compare the average predictions to the true test set values\n",
    "# and compute the accuracy\n",
    "bagging_accuracy = accuracy_score(y_test, predictions_df.values)\n",
    "\n",
    "# Print the bagging accuracy\n",
    "print(f'Accuracy with Bootstrapped Aggregation is  {bagging_accuracy*100}%')"
   ],
   "metadata": {
    "collapsed": false,
    "pycharm": {
     "name": "#%%\n"
    }
   }
  },
  {
   "cell_type": "code",
   "execution_count": null,
   "outputs": [],
   "source": [
    "# Helper code to plot accuracy vs number of bagged trees\n",
    "\n",
    "n = np.linspace(1,250,250).astype(int)\n",
    "acc = []\n",
    "for n_i in n:\n",
    "    acc.append(np.mean(prediction_by_bagging(X_train, y_train, X_test, n_i)==y_test))\n",
    "plt.figure(figsize=(10,8))\n",
    "plt.plot(n,acc,alpha=0.7,linewidth=3,color='#50AEA4', label='Model Prediction')\n",
    "plt.title('Accuracy vs. Number of trees in Bagging ',fontsize=24)\n",
    "plt.xlabel('Number of trees',fontsize=16)\n",
    "plt.ylabel('Accuracy',fontsize=16)\n",
    "plt.xticks(fontsize=12)\n",
    "plt.yticks(fontsize=12)\n",
    "plt.legend(loc='best',fontsize=12)\n",
    "plt.show();\n"
   ],
   "metadata": {
    "collapsed": false,
    "pycharm": {
     "name": "#%%\n",
     "is_executing": true
    }
   }
  },
  {
   "cell_type": "markdown",
   "source": [
    "## Bagging Visualization\n",
    "\n",
    "Bagging does well to reduce overfitting, but only upto a certain extent.\n",
    "\n",
    "Vary the `max_depth` and `numboot` variables to see how Bagging helps reduce overfitting with the help of the visualization below"
   ],
   "metadata": {
    "collapsed": false
   }
  },
  {
   "cell_type": "code",
   "execution_count": null,
   "outputs": [],
   "source": [
    "# Making plots for three different values of `max_depth`\n",
    "fig,axes = plt.subplots(1,3,figsize=(20,6))\n",
    "\n",
    "# Make a list of three max_depths to investigate\n",
    "max_depth = [2,5,100]\n",
    "\n",
    "# Fix the number of bootstraps\n",
    "numboot = 100\n",
    "\n",
    "for index,ax in enumerate(axes):\n",
    "\n",
    "    for i in range(numboot):\n",
    "        df_new = df.sample(frac=1,replace=True)\n",
    "        y = df_new.ARREST.values\n",
    "        X = df_new[['LATITUDE', 'LONGITUDE']].values\n",
    "        dtree = DecisionTreeClassifier(max_depth=max_depth[index])\n",
    "        dtree.fit(X, y)\n",
    "        ax.scatter(X[:, 0], X[:, 1], c=y-1, s=50,alpha=0.5,edgecolor=\"k\",cmap=cmap_bold)\n",
    "        plot_step_x1= 0.1\n",
    "        plot_step_x2= 0.1\n",
    "        x1min, x1max= X[:,0].min(), X[:,0].max()\n",
    "        x2min, x2max= X[:,1].min(), X[:,1].max()\n",
    "        x1, x2 = np.meshgrid(np.arange(x1min, x1max, plot_step_x1), np.arange(x2min, x2max, plot_step_x2) )\n",
    "        # Re-cast every coordinate in the meshgrid as a 2D point\n",
    "        Xplot= np.c_[x1.ravel(), x2.ravel()]\n",
    "\n",
    "        # Predict the class\n",
    "        y = dtree.predict( Xplot )\n",
    "        y= y.reshape( x1.shape )\n",
    "        cs = ax.contourf(x1, x2, y, alpha=0.02)\n",
    "\n",
    "    ax.set_xlabel('Latitude',fontsize=14)\n",
    "    ax.set_ylabel('Longitude',fontsize=14)\n",
    "    ax.set_title(f'Max depth = {max_depth[index]}',fontsize=20)\n",
    "\n"
   ],
   "metadata": {
    "collapsed": false,
    "pycharm": {
     "name": "#%%\n",
     "is_executing": true
    }
   }
  },
  {
   "cell_type": "markdown",
   "source": [
    "## Mindchow 🍲\n",
    "Play around with the following parameters:\n",
    "\n",
    "- max_depth\n",
    "- numboot\n",
    "\n",
    "Based on your observations, answer the questions below:\n",
    "\n",
    "- How does the plot change with varying `max_depth`\n",
    "\n",
    "- How does the plot change with varying `numboot`\n",
    "\n",
    "- How are the three plots essentially different?\n",
    "\n",
    "- Does more bootstraps reduce overfitting for\n",
    "    - High depth\n",
    "    - Low depth"
   ],
   "metadata": {
    "collapsed": false
   }
  }
 ],
 "metadata": {
  "kernelspec": {
   "display_name": "Python 3",
   "language": "python",
   "name": "python3"
  },
  "language_info": {
   "codemirror_mode": {
    "name": "ipython",
    "version": 2
   },
   "file_extension": ".py",
   "mimetype": "text/x-python",
   "name": "python",
   "nbconvert_exporter": "python",
   "pygments_lexer": "ipython2",
   "version": "2.7.6"
  }
 },
 "nbformat": 4,
 "nbformat_minor": 0
}