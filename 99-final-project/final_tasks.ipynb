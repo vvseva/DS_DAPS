{
 "cells": [
  {
   "cell_type": "markdown",
   "metadata": {
    "collapsed": true,
    "pycharm": {
     "name": "#%% md\n"
    }
   },
   "source": [
    "## Final task\n",
    "### EDA with the help of ML models\n",
    "\n",
    "deadline: 19/06/2022 23:59\n",
    "each extra hour 10% of the task grade\n",
    "submit at: [https://forms.office.com/r/PsRCQfQQu6](https://forms.office.com/r/PsRCQfQQu6)"
   ]
  },
  {
   "cell_type": "markdown",
   "metadata": {
    "pycharm": {
     "name": "#%% md\n"
    }
   },
   "source": [
    "## Task\n",
    "You will have to do some Exploratory data analysis, similar to what is required in many interviews for Data Analytics\\Data Science positions.\n",
    "\n",
    "However, you will have some degree of choice in selecting the most interesting problem. Therefore, there are three datasets with somewhat unique questions to answer, but the overall task is something like\n",
    "\n",
    "\"take a look at the data, explain what is going on, and use pictures and tables to tell a story. Build a model to predict something valuable, evaluate your model, compare it with some other model, explain the results, and write a one\\two page proposal for the future studies in this area\"\n",
    "\n",
    "## Datasets\n",
    "(find them in the data folder + read readme.txt for each dataset)\n",
    "\n",
    "1. campus-recruitment -- fun but tiny dataset; you will not need much ML but rely on statistics. What students get an offer and what did not, that is for you to explain.\n",
    "2. credit-card-approval -- if you ever dreamed of working in fintech, that is your chance. Large enough to play with ML models. You will have to decide on clients' faith and approve you deny their applications for credit cards.\n",
    "3. uber-eats -- a new fashion in ML, combine your love for food with your data analytics skills. Medium size dataset so suits good enough for both ML and statistics. You will have to predict the quality of the restaurants.\n",
    "\n",
    "## Questions to answer\n",
    "\n",
    "### campus-recruitment\n",
    "\n",
    "1. Which factor influenced a candidate in getting placed?\n",
    "2. Does percentage matter for one to get placed?\n",
    "3. Which degree specialization is much demanded by corporate?\n",
    "4. Is there a gender gap?\n",
    "5. Predict which student will get an offer\n",
    "6. Predict what will be the salary of a student\n",
    "\n",
    "### credit-card-approval\n",
    "1. Define 'good' or 'bad' clients\n",
    "2. Show the difference between these two types\n",
    "3. Is there a gender gap?\n",
    "4. Predict if an applicant is a 'good' or 'bad' client\n",
    "\n",
    "### uber-eats\n",
    "1. What are the Most Popular/Highly Rated Restaurants and menus?\n",
    "2. Is there any relationship between the price level and the popularity of a restaurant?\n",
    "3. Which menus are more expensive?\n",
    "4. Which menus are ubiquitous in the USA?\n",
    "5. Predict the rating of restaurants\n",
    "6. Predict 'good' or 'bar' restaurants (you will have to decide what is good and what is bad)\n",
    "\n",
    "## Future work\\proposal\n",
    "\n",
    "Write one- or two-page proposal on how you use Machine Learning models in your MSc thesis, cite at least one paper and mention at least one ML method."
   ]
  }
 ],
 "metadata": {
  "kernelspec": {
   "display_name": "Python 3 (ipykernel)",
   "language": "python",
   "name": "python3"
  },
  "language_info": {
   "codemirror_mode": {
    "name": "ipython",
    "version": 3
   },
   "file_extension": ".py",
   "mimetype": "text/x-python",
   "name": "python",
   "nbconvert_exporter": "python",
   "pygments_lexer": "ipython3",
   "version": "3.9.12"
  }
 },
 "nbformat": 4,
 "nbformat_minor": 1
}