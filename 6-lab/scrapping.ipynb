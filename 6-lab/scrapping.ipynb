{
 "cells": [
  {
   "cell_type": "code",
   "execution_count": 1,
   "metadata": {
    "collapsed": true
   },
   "outputs": [],
   "source": [
    "import pandas as pd\n",
    "import numpy as np\n",
    "import seaborn as sns\n",
    "import matplotlib.pyplot as plt\n",
    "\n",
    "sns.set(rc={'figure.figsize': (11.7, 8.27)})"
   ]
  },
  {
   "cell_type": "code",
   "execution_count": 2,
   "outputs": [],
   "source": [
    "import requests\n",
    "from bs4 import BeautifulSoup\n",
    "import re\n",
    "from selenium import webdriver"
   ],
   "metadata": {
    "collapsed": false,
    "pycharm": {
     "name": "#%%\n"
    }
   }
  },
  {
   "cell_type": "code",
   "execution_count": 8,
   "outputs": [
    {
     "name": "stdout",
     "output_type": "stream",
     "text": [
      "Requirement already satisfied: selenium in c:\\users\\wirze\\anaconda3\\lib\\site-packages (4.1.0)\n",
      "Collecting selenium\n",
      "  Downloading selenium-4.1.3-py3-none-any.whl (968 kB)\n",
      "     -------------------------------------- 968.8/968.8 KB 5.1 MB/s eta 0:00:00\n",
      "Requirement already satisfied: trio~=0.17 in c:\\users\\wirze\\anaconda3\\lib\\site-packages (from selenium) (0.19.0)\n",
      "Requirement already satisfied: trio-websocket~=0.9 in c:\\users\\wirze\\anaconda3\\lib\\site-packages (from selenium) (0.9.2)\n",
      "Requirement already satisfied: urllib3[secure,socks]~=1.26 in c:\\users\\wirze\\anaconda3\\lib\\site-packages (from selenium) (1.26.7)\n",
      "Requirement already satisfied: sniffio in c:\\users\\wirze\\anaconda3\\lib\\site-packages (from trio~=0.17->selenium) (1.2.0)\n",
      "Requirement already satisfied: attrs>=19.2.0 in c:\\users\\wirze\\anaconda3\\lib\\site-packages (from trio~=0.17->selenium) (21.4.0)\n",
      "Requirement already satisfied: sortedcontainers in c:\\users\\wirze\\anaconda3\\lib\\site-packages (from trio~=0.17->selenium) (2.4.0)\n",
      "Requirement already satisfied: async-generator>=1.9 in c:\\users\\wirze\\anaconda3\\lib\\site-packages (from trio~=0.17->selenium) (1.10)\n",
      "Requirement already satisfied: idna in c:\\users\\wirze\\anaconda3\\lib\\site-packages (from trio~=0.17->selenium) (3.3)\n",
      "Requirement already satisfied: cffi>=1.14 in c:\\users\\wirze\\anaconda3\\lib\\site-packages (from trio~=0.17->selenium) (1.15.0)\n",
      "Requirement already satisfied: outcome in c:\\users\\wirze\\anaconda3\\lib\\site-packages (from trio~=0.17->selenium) (1.1.0)\n",
      "Requirement already satisfied: wsproto>=0.14 in c:\\users\\wirze\\anaconda3\\lib\\site-packages (from trio-websocket~=0.9->selenium) (1.0.0)\n",
      "Requirement already satisfied: PySocks!=1.5.7,<2.0,>=1.5.6 in c:\\users\\wirze\\anaconda3\\lib\\site-packages (from urllib3[secure,socks]~=1.26->selenium) (1.7.1)\n",
      "Requirement already satisfied: pyOpenSSL>=0.14 in c:\\users\\wirze\\anaconda3\\lib\\site-packages (from urllib3[secure,socks]~=1.26->selenium) (21.0.0)\n",
      "Requirement already satisfied: cryptography>=1.3.4 in c:\\users\\wirze\\anaconda3\\lib\\site-packages (from urllib3[secure,socks]~=1.26->selenium) (3.4.8)\n",
      "Requirement already satisfied: certifi in c:\\users\\wirze\\anaconda3\\lib\\site-packages (from urllib3[secure,socks]~=1.26->selenium) (2021.10.8)\n",
      "Requirement already satisfied: pycparser in c:\\users\\wirze\\anaconda3\\lib\\site-packages (from cffi>=1.14->trio~=0.17->selenium) (2.21)\n",
      "Requirement already satisfied: six>=1.5.2 in c:\\users\\wirze\\anaconda3\\lib\\site-packages (from pyOpenSSL>=0.14->urllib3[secure,socks]~=1.26->selenium) (1.16.0)\n",
      "Requirement already satisfied: h11<1,>=0.9.0 in c:\\users\\wirze\\anaconda3\\lib\\site-packages (from wsproto>=0.14->trio-websocket~=0.9->selenium) (0.12.0)\n",
      "Installing collected packages: selenium\n",
      "  Attempting uninstall: selenium\n",
      "    Found existing installation: selenium 4.1.0\n",
      "    Uninstalling selenium-4.1.0:\n",
      "      Successfully uninstalled selenium-4.1.0\n",
      "Successfully installed selenium-4.1.3\n"
     ]
    }
   ],
   "source": [
    "# !pip3 install -U selenium\n",
    "# !pip3 install webdriver-manager"
   ],
   "metadata": {
    "collapsed": false,
    "pycharm": {
     "name": "#%%\n"
    }
   }
  },
  {
   "cell_type": "code",
   "execution_count": 3,
   "outputs": [
    {
     "name": "stderr",
     "output_type": "stream",
     "text": [
      "\n",
      "\n",
      "====== WebDriver manager ======\n",
      "Current google-chrome version is 101.0.4951\n",
      "Get LATEST chromedriver version for 101.0.4951 google-chrome\n",
      "There is no [win32] chromedriver for browser 101.0.4951 in cache\n",
      "Trying to download new driver from https://chromedriver.storage.googleapis.com/101.0.4951.41/chromedriver_win32.zip\n",
      "Driver has been saved in cache [C:\\Users\\wirze\\.wdm\\drivers\\chromedriver\\win32\\101.0.4951.41]\n"
     ]
    }
   ],
   "source": [
    "from selenium import webdriver\n",
    "from selenium.webdriver.chrome.service import Service\n",
    "from webdriver_manager.chrome import ChromeDriverManager\n",
    "driver = webdriver.Chrome(service=Service(ChromeDriverManager().install()))"
   ],
   "metadata": {
    "collapsed": false,
    "pycharm": {
     "name": "#%%\n"
    }
   }
  },
  {
   "cell_type": "code",
   "execution_count": null,
   "outputs": [],
   "source": [],
   "metadata": {
    "collapsed": false,
    "pycharm": {
     "name": "#%%\n"
    }
   }
  },
  {
   "cell_type": "code",
   "execution_count": 5,
   "outputs": [],
   "source": [
    "page_n = \"1\"\n",
    "driver.get(\"https://www.chinapress.com.my/?s=%E9%A6%99%E6%B8%AF%E5%9B%BD%E5%AE%89%E6%B3%95&paged=\"+page_n)"
   ],
   "metadata": {
    "collapsed": false,
    "pycharm": {
     "name": "#%%\n"
    }
   }
  },
  {
   "cell_type": "code",
   "execution_count": 35,
   "outputs": [
    {
     "data": {
      "text/plain": "['/?p=2922774',\n '/?p=2914696',\n '/?p=2900469',\n '/?p=2857875',\n '/?p=2815864',\n '/?p=2804638',\n '/?p=2802498',\n '/?p=2797569',\n '/?p=2795977',\n '/?p=2777602']"
     },
     "execution_count": 35,
     "metadata": {},
     "output_type": "execute_result"
    }
   ],
   "source": [
    "links = []\n",
    "html = driver.page_source\n",
    "soup = BeautifulSoup(html, \"html.parser\")\n",
    "results = soup.select(\".search-result-item\")\n",
    "# results\n",
    "for result in results:\n",
    "    links.append(result.find(\"a\")['href'])\n",
    "links"
   ],
   "metadata": {
    "collapsed": false,
    "pycharm": {
     "name": "#%%\n"
    }
   }
  },
  {
   "cell_type": "code",
   "execution_count": 36,
   "outputs": [],
   "source": [
    "driver.get(\"https://www.chinapress.com.my/?p=2922774\")"
   ],
   "metadata": {
    "collapsed": false,
    "pycharm": {
     "name": "#%%\n"
    }
   }
  },
  {
   "cell_type": "code",
   "execution_count": 40,
   "outputs": [
    {
     "data": {
      "text/plain": "'\\n李家超请辞获准 已组班底参选香港特首 '"
     },
     "execution_count": 40,
     "metadata": {},
     "output_type": "execute_result"
    }
   ],
   "source": [
    "html = driver.page_source\n",
    "soup = BeautifulSoup(html, \"html.parser\")\n",
    "title = soup.select_one(\".entry-title\")\n",
    "title.text"
   ],
   "metadata": {
    "collapsed": false,
    "pycharm": {
     "name": "#%%\n"
    }
   }
  },
  {
   "cell_type": "code",
   "execution_count": 49,
   "outputs": [
    {
     "data": {
      "text/plain": "[<p>（香港8日综合电）香港政务司司长李家超请辞一事已获北京方面批准，他已组成竞选班底，准备参选行政长官（特首）。</p>,\n <p class=\"dfp ad_header\">ADVERTISEMENT</p>,\n <p class=\"dfp ad_header\">ADVERTISEMENT</p>,\n <p>港府周五公布，中国国务院按照基本法的有关规定，及香港特首林郑月娥的建议，决定免去李家超的政务司司长职务。</p>,\n <p>李家超6日向林郑月娥请辞，并说一旦请辞获准，准备参选下届特首。</p>,\n <p>综合港媒报导，李家超已组成竞选班底，其竞选办公室主任是中国港区全国人大常委谭耀宗，竞选办副主任是前政制及内地事务局局长谭志源。</p>,\n <p>李家超竞选班底的其他核心成员有团结香港基金高级副总裁黄元山，以及曾任多届特首选举公关顾问的黄丽君。</p>,\n <p>据报导，李家超竞选班底的核心人物，过去也曾协助梁振英和林郑月娥参选特首。</p>,\n <p>外界相信李家超将会很快正式宣布参选特首，同时公布竞选活动政纲。</p>,\n <p>此前有消息指出，李家超将是本届特首选举唯一参选人，如无意外，他笃定当选。若顺利当选，他将成为首名纪律部队出身的香港特首。</p>,\n <p>现年64岁的李家超，服务港府45年，当中近80%时间在警队任职，35年间，由见习督察升至昵称“警队一哥”的警务处长之职。2012年离开警队并放弃英籍，加入前特首梁振英的班子，获委为副保安局长，5年后晋升为保安局长，直至去年6月升为港府第二把手的政务司长。</p>,\n <p>李家超宣布参选下届香港特首后，香港商界核心的四大地产商长江、恒地、新地以及新世界齐表态支持。</p>,\n <p>长江集团主席李泽钜说，将提名李家超参与行政长官选举，并指新一任特首要以香港的安定繁荣为目标，有安定的社会才能有繁荣的发展，在此前提下，李家超是出任下届特首的合适人选。</p>,\n <p>长江集团创办人为富豪李嘉诚，他稍早在胡润全球房地产企业家榜中“登顶”。</p>,\n <p>恒基地产主席李家诚说，相信李家超是领导特区政府的适当人选，深信以李家超逾40年的公共服务经验，有能力带领特区政府与社会各界，振兴经济，改善民生，带领香港发展走上新的台阶。</p>,\n <p>全国政协委员、新鸿基地产主席兼董事总经理郭炳联说，深信李家超有能力为香港未来谋福祉，进一步带领香港融入国家发展大局，踏入“由治及兴”的新征程，推进一国两制实践行稳致远。</p>,\n <p>新世界发展行政总裁郑志刚称，支持李家超参选行政长官，并指李家超在关键时刻，不畏艰难，果断硬朗，协助顺利落实香港国安法和完善选举制度，让香港社会由乱入治，开创新的稳定局面。</p>,\n <p><iframe allow=\"autoplay; clipboard-write; encrypted-media; picture-in-picture; web-share\" allowfullscreen=\"true\" frameborder=\"0\" height=\"615\" scrolling=\"no\" src=\"https://www.facebook.com/plugins/post.php?href=https%3A%2F%2Fwww.facebook.com%2FChinaPressCP%2Fposts%2F5195655403860196&amp;show_text=true&amp;width=500\" style=\"border:none;overflow:hidden\" width=\"500\"></iframe></p>,\n <p class=\"dfp ad_header\">ADVERTISEMENT</p>,\n <p class=\"dfp ad_header\">ADVERTISEMENT</p>,\n <p>ADVERTISEMENT</p>,\n <p>◤新闻抢鲜报◢2022-3-24</p>,\n <p>◤新闻抢鲜报◢2022-3-24</p>,\n <p>◤新闻抢鲜报◢2022-3-18</p>,\n <p>◤新闻抢鲜报◢2022-3-5</p>,\n <p>◤新闻抢鲜报◢2022-4-27</p>,\n <p>◤新闻抢鲜报◢2022-4-26</p>,\n <p>◤新闻抢鲜报◢2022-4-25</p>,\n <p>◤新闻抢鲜报◢2022-4-24</p>,\n <p>◤新闻抢鲜报◢2022-4-24</p>,\n <p>◤新闻抢鲜报◢2022-4-23</p>,\n <p></p>,\n <p class=\"dfp ad_header\">ADVERTISEMENT</p>,\n <p>（香港13日综合电）香港前政务司司长李家超周三上午前往中环展城馆，递交参选香港行政长官（特首）的提名表，正式报名参选香港特首。</p>,\n <p class=\"dfp ad_header\">ADVERTISEMENT</p>,\n <p class=\"dfp ad_header\">ADVERTISEMENT</p>,\n <p>香港的特首选举原订3月27日投票，因疫情延后于5月8日举行，提名将于4月14日截止。根据香港选举法规，特首候选人必须获得至少188位选举委员的提名，还要在5个不同界别（职业团体代表）每一组的15名委员支持，李家超昨表示，他已获得超过700张提名票。</p>,\n <p>香港特首并非市民直选，而是由1462名选举委员投票，李家超至少要获得751票才能当选。原任政务司司长的他为了参选已经辞职，并于9日宣布参选。</p>,\n <p>先前消息指出，香港中联办已对部分选举委员透露，李家超是北京当局唯一支持的候选人。</p>,\n <p>文 综合报导<br/>\n 图 新华社</p>,\n <p></p>]"
     },
     "execution_count": 49,
     "metadata": {},
     "output_type": "execute_result"
    }
   ],
   "source": [
    "paragraphs = soup.select('#content p')\n",
    "paragraphs"
   ],
   "metadata": {
    "collapsed": false,
    "pycharm": {
     "name": "#%%\n"
    }
   }
  },
  {
   "cell_type": "code",
   "execution_count": 57,
   "outputs": [
    {
     "data": {
      "text/plain": "[<p>（香港8日综合电）香港政务司司长李家超请辞一事已获北京方面批准，他已组成竞选班底，准备参选行政长官（特首）。</p>,\n <p>港府周五公布，中国国务院按照基本法的有关规定，及香港特首林郑月娥的建议，决定免去李家超的政务司司长职务。</p>,\n <p>李家超6日向林郑月娥请辞，并说一旦请辞获准，准备参选下届特首。</p>,\n <p>综合港媒报导，李家超已组成竞选班底，其竞选办公室主任是中国港区全国人大常委谭耀宗，竞选办副主任是前政制及内地事务局局长谭志源。</p>,\n <p>李家超竞选班底的其他核心成员有团结香港基金高级副总裁黄元山，以及曾任多届特首选举公关顾问的黄丽君。</p>,\n <p>据报导，李家超竞选班底的核心人物，过去也曾协助梁振英和林郑月娥参选特首。</p>,\n <p>外界相信李家超将会很快正式宣布参选特首，同时公布竞选活动政纲。</p>,\n <p>此前有消息指出，李家超将是本届特首选举唯一参选人，如无意外，他笃定当选。若顺利当选，他将成为首名纪律部队出身的香港特首。</p>,\n <p>现年64岁的李家超，服务港府45年，当中近80%时间在警队任职，35年间，由见习督察升至昵称“警队一哥”的警务处长之职。2012年离开警队并放弃英籍，加入前特首梁振英的班子，获委为副保安局长，5年后晋升为保安局长，直至去年6月升为港府第二把手的政务司长。</p>,\n <p>李家超宣布参选下届香港特首后，香港商界核心的四大地产商长江、恒地、新地以及新世界齐表态支持。</p>,\n <p>长江集团主席李泽钜说，将提名李家超参与行政长官选举，并指新一任特首要以香港的安定繁荣为目标，有安定的社会才能有繁荣的发展，在此前提下，李家超是出任下届特首的合适人选。</p>,\n <p>长江集团创办人为富豪李嘉诚，他稍早在胡润全球房地产企业家榜中“登顶”。</p>,\n <p>恒基地产主席李家诚说，相信李家超是领导特区政府的适当人选，深信以李家超逾40年的公共服务经验，有能力带领特区政府与社会各界，振兴经济，改善民生，带领香港发展走上新的台阶。</p>,\n <p>全国政协委员、新鸿基地产主席兼董事总经理郭炳联说，深信李家超有能力为香港未来谋福祉，进一步带领香港融入国家发展大局，踏入“由治及兴”的新征程，推进一国两制实践行稳致远。</p>,\n <p>新世界发展行政总裁郑志刚称，支持李家超参选行政长官，并指李家超在关键时刻，不畏艰难，果断硬朗，协助顺利落实香港国安法和完善选举制度，让香港社会由乱入治，开创新的稳定局面。</p>,\n <p><iframe allow=\"autoplay; clipboard-write; encrypted-media; picture-in-picture; web-share\" allowfullscreen=\"true\" frameborder=\"0\" height=\"615\" scrolling=\"no\" src=\"https://www.facebook.com/plugins/post.php?href=https%3A%2F%2Fwww.facebook.com%2FChinaPressCP%2Fposts%2F5195655403860196&amp;show_text=true&amp;width=500\" style=\"border:none;overflow:hidden\" width=\"500\"></iframe></p>,\n <p>ADVERTISEMENT</p>,\n <p>◤新闻抢鲜报◢2022-3-24</p>,\n <p>◤新闻抢鲜报◢2022-3-24</p>,\n <p>◤新闻抢鲜报◢2022-3-18</p>,\n <p>◤新闻抢鲜报◢2022-3-5</p>,\n <p>◤新闻抢鲜报◢2022-4-27</p>,\n <p>◤新闻抢鲜报◢2022-4-26</p>,\n <p>◤新闻抢鲜报◢2022-4-25</p>,\n <p>◤新闻抢鲜报◢2022-4-24</p>,\n <p>◤新闻抢鲜报◢2022-4-24</p>,\n <p>◤新闻抢鲜报◢2022-4-23</p>,\n <p></p>,\n <p>（香港13日综合电）香港前政务司司长李家超周三上午前往中环展城馆，递交参选香港行政长官（特首）的提名表，正式报名参选香港特首。</p>,\n <p>香港的特首选举原订3月27日投票，因疫情延后于5月8日举行，提名将于4月14日截止。根据香港选举法规，特首候选人必须获得至少188位选举委员的提名，还要在5个不同界别（职业团体代表）每一组的15名委员支持，李家超昨表示，他已获得超过700张提名票。</p>,\n <p>香港特首并非市民直选，而是由1462名选举委员投票，李家超至少要获得751票才能当选。原任政务司司长的他为了参选已经辞职，并于9日宣布参选。</p>,\n <p>先前消息指出，香港中联办已对部分选举委员透露，李家超是北京当局唯一支持的候选人。</p>,\n <p>文 综合报导<br/>\n 图 新华社</p>,\n <p></p>]"
     },
     "execution_count": 57,
     "metadata": {},
     "output_type": "execute_result"
    }
   ],
   "source": [
    "data = []\n",
    "\n",
    "for q in paragraphs:\n",
    "    # only keep elements that don't have a class or style attribute\n",
    "    if not (q.has_attr('class') or q.has_attr('style')):\n",
    "        data.append(q)\n",
    "\n",
    "data\n"
   ],
   "metadata": {
    "collapsed": false,
    "pycharm": {
     "name": "#%%\n"
    }
   }
  },
  {
   "cell_type": "code",
   "execution_count": 59,
   "outputs": [
    {
     "name": "stdout",
     "output_type": "stream",
     "text": [
      "\n",
      "李家超请辞获准 已组班底参选香港特首 \n",
      "[<p>（香港8日综合电）香港政务司司长李家超请辞一事已获北京方面批准，他已组成竞选班底，准备参选行政长官（特首）。</p>, <p>港府周五公布，中国国务院按照基本法的有关规定，及香港特首林郑月娥的建议，决定免去李家超的政务司司长职务。</p>, <p>李家超6日向林郑月娥请辞，并说一旦请辞获准，准备参选下届特首。</p>, <p>综合港媒报导，李家超已组成竞选班底，其竞选办公室主任是中国港区全国人大常委谭耀宗，竞选办副主任是前政制及内地事务局局长谭志源。</p>, <p>李家超竞选班底的其他核心成员有团结香港基金高级副总裁黄元山，以及曾任多届特首选举公关顾问的黄丽君。</p>, <p>据报导，李家超竞选班底的核心人物，过去也曾协助梁振英和林郑月娥参选特首。</p>, <p>外界相信李家超将会很快正式宣布参选特首，同时公布竞选活动政纲。</p>, <p>此前有消息指出，李家超将是本届特首选举唯一参选人，如无意外，他笃定当选。若顺利当选，他将成为首名纪律部队出身的香港特首。</p>, <p>现年64岁的李家超，服务港府45年，当中近80%时间在警队任职，35年间，由见习督察升至昵称“警队一哥”的警务处长之职。2012年离开警队并放弃英籍，加入前特首梁振英的班子，获委为副保安局长，5年后晋升为保安局长，直至去年6月升为港府第二把手的政务司长。</p>, <p>李家超宣布参选下届香港特首后，香港商界核心的四大地产商长江、恒地、新地以及新世界齐表态支持。</p>, <p>长江集团主席李泽钜说，将提名李家超参与行政长官选举，并指新一任特首要以香港的安定繁荣为目标，有安定的社会才能有繁荣的发展，在此前提下，李家超是出任下届特首的合适人选。</p>, <p>长江集团创办人为富豪李嘉诚，他稍早在胡润全球房地产企业家榜中“登顶”。</p>, <p>恒基地产主席李家诚说，相信李家超是领导特区政府的适当人选，深信以李家超逾40年的公共服务经验，有能力带领特区政府与社会各界，振兴经济，改善民生，带领香港发展走上新的台阶。</p>, <p>全国政协委员、新鸿基地产主席兼董事总经理郭炳联说，深信李家超有能力为香港未来谋福祉，进一步带领香港融入国家发展大局，踏入“由治及兴”的新征程，推进一国两制实践行稳致远。</p>, <p>新世界发展行政总裁郑志刚称，支持李家超参选行政长官，并指李家超在关键时刻，不畏艰难，果断硬朗，协助顺利落实香港国安法和完善选举制度，让香港社会由乱入治，开创新的稳定局面。</p>, <p><iframe allow=\"autoplay; clipboard-write; encrypted-media; picture-in-picture; web-share\" allowfullscreen=\"true\" frameborder=\"0\" height=\"615\" scrolling=\"no\" src=\"https://www.facebook.com/plugins/post.php?href=https%3A%2F%2Fwww.facebook.com%2FChinaPressCP%2Fposts%2F5195655403860196&amp;show_text=true&amp;width=500\" style=\"border:none;overflow:hidden\" width=\"500\"></iframe></p>, <p>ADVERTISEMENT</p>, <p>◤新闻抢鲜报◢2022-3-24</p>, <p>◤新闻抢鲜报◢2022-3-24</p>, <p>◤新闻抢鲜报◢2022-3-18</p>, <p>◤新闻抢鲜报◢2022-3-5</p>, <p>◤新闻抢鲜报◢2022-4-27</p>, <p>◤新闻抢鲜报◢2022-4-26</p>, <p>◤新闻抢鲜报◢2022-4-25</p>, <p>◤新闻抢鲜报◢2022-4-24</p>, <p>◤新闻抢鲜报◢2022-4-24</p>, <p>◤新闻抢鲜报◢2022-4-23</p>, <p></p>, <p>（香港13日综合电）香港前政务司司长李家超周三上午前往中环展城馆，递交参选香港行政长官（特首）的提名表，正式报名参选香港特首。</p>, <p>香港的特首选举原订3月27日投票，因疫情延后于5月8日举行，提名将于4月14日截止。根据香港选举法规，特首候选人必须获得至少188位选举委员的提名，还要在5个不同界别（职业团体代表）每一组的15名委员支持，李家超昨表示，他已获得超过700张提名票。</p>, <p>香港特首并非市民直选，而是由1462名选举委员投票，李家超至少要获得751票才能当选。原任政务司司长的他为了参选已经辞职，并于9日宣布参选。</p>, <p>先前消息指出，香港中联办已对部分选举委员透露，李家超是北京当局唯一支持的候选人。</p>, <p>文 综合报导<br/>\n",
      "图 新华社</p>, <p></p>]\n",
      "/?p=2922774\n",
      "\n",
      "英美发布 香港报告 中怒指无权 说三道四 \n",
      "[<p>\n",
      "（北京1日综合电）英国政府周四（3月31日）向国会提交《香港问题半年报告》，而美国国务院也同样在当天，就《香港人权与民主法案》发表2022年度香港政策报告（Hong Kong Policy Act Report）。</p>, <p>面对英美两国发布的关于香港的报告，中国外交部周五（4月1日）回应指，英方企图通过发表报告、操弄BNO、施压法官离任等手段扰乱香港人心，不可能得逞，又指英国对回归后的香港无主权、无治权、无监督权，也根本不存在所谓历史责任。</p>, <p>至于美方，中国外交部则怒斥美国，香港是中国的特别行政区，香港事务属于中国内政，任何外国无权干涉，美方发表有关的报告，无视事实，对香港事务说三道四。他又称，美方应立即停止这一错误做法，在涉港问题上谨言慎行。</p>, <p>英方报告指香港回归25年之际，中国和香港政府继续有系统地侵蚀《中英联合声明》所予港人的自由和人权，包括重新定义“一国两制”的框架，牺牲香港的自治与港人的生活方式。</p>, <p>美国国务院发表的报告，则批评中国中央政府在过去一年继续瓦解香港的民主制度，对司法机构施加前所未有的压力，并扼杀学术、文化和新闻自由。</p>, <p>中国外交部发言人赵立坚4月1日在例行记者会回应称，英美双方不顾中方严正立场，再次发表所谓的香港问题半年报告，一如既往歪曲事实，混淆视听，粗暴干涉香港事务和中国内政，严重违反国际法和国际关系基本准则，中方对此强烈谴责，坚决反对。</p>, <p><img class=\"aligncenter size-full\" height=\"576\" src=\"https://cdn.hk01.com/di/media/images/dw/20220208/567761611163439104986213.jpeg/BV761ugGOUpKql9RsToz3lUT8gm2e_VtIpdh-yKXYfs?v=w1440r16_9\" width=\"1024\"/></p>, <p>赵立坚指，香港回归以来，中方始终坚定不移全面准确贯彻“一国两制，港人治港，高度自治”方针，香港居民依法享有远远超出1997年以前的更多权利和自由，香港国安法实施以来，国家安全得到维护，法治正义得到伸张，广大香港居民和外国在港公民的合法权利和自由受到更充分的保障，“我们相信在中央政府全力支持和香港各界人士共同努力下，香港一定能够保持长期繁荣稳定，继续巩固作为国际金融航运贸易中心的地位。”</p>, <p>赵立坚强调，任何对香港国安法的攻击抹黑，都阻挡不了香港由乱转治，由治及兴的大势，英方企图通过发表报告、操弄BNO、施压法官离任等手段扰乱香港人心，这不可能得逞。</p>, <p>他称，英国对回归后的香港无主权、无治权、无监督权，也根本不存在所谓历史责任，是“三无、一不存在”，英方反覆拿中英联合声明说事，一年两度借所谓半年报告对香港事务指手画脚，充当所谓的“教师爷”、“覆读机”，这种行径只会损害英方自身的形象。英方应该正视香港已回归祖国近25年的现实，放下殖民心态，尊重中国主权和统一，停止干涉香港事务和中国内政，不要再给中英关系制造麻烦。</p>, <p>文 综合报导<br/>\n",
      "图 美联社、互联网</p>, <p>ADVERTISEMENT</p>, <p>◤新闻抢鲜报◢2022-2-7</p>, <p>◤新闻抢鲜报◢2022-2-7</p>, <p>◤新闻抢鲜报◢2022-2-25</p>, <p>◤新闻抢鲜报◢2022-3-4</p>, <p>◤新闻抢鲜报◢2022-4-27</p>, <p>◤新闻抢鲜报◢2022-4-26</p>, <p>◤新闻抢鲜报◢2022-4-25</p>, <p>◤新闻抢鲜报◢2022-4-24</p>, <p>◤新闻抢鲜报◢2022-4-24</p>, <p>◤新闻抢鲜报◢2022-4-23</p>, <p></p>, <p>瑞士信贷周三报告称，第一季度净亏损从上年同期的2.52亿瑞郎扩大至2.73亿瑞郎（12.3亿令吉），亏损幅度大于市场预期。</p>, <p>该行上周已警告称，由于俄罗斯业务相关的损失和法律准备金的增加，预计第一季度将会出现亏损。</p>, <p>该行周三证实，与俄罗斯相关的损失达2.06亿瑞士法郎，另外还有1.55亿瑞士法郎与Archegos有关。</p>, <p>该行第一季度营收同比下降42%，至44.1亿瑞郎，低于市场预期。</p>, <p><a href=\"https://www.chinapress.com.my/wp-content/uploads/2022/04/20220427fbc27a.jpg\"><img alt=\"\" class=\"aligncenter size-full wp-image-2946981\" height=\"628\" src=\"https://www.chinapress.com.my/wp-content/uploads/2022/04/20220427fbc27a.jpg\" width=\"1200\"/></a></p>, <p></p>]\n",
      "/?p=2914696\n",
      "\n",
      "《时代革命》大马限量放映 3地门票售罄不加场 \n",
      "[<p>（吉隆坡讯）记录反送中运动的香港禁片《时代革命》于4月在大马各地放映8场，除了古晋场和还未开卖的新山场外，雪兰莪、槟城和怡保共6场的门票已全数售罄，且已确定不再加场。</p>, <p>由香港导演周冠威执导的纪录片《时代革命》，经过大马主办单位积极争取后，成功引进放映。该片原定在雪兰莪八打灵再也和槟城限量放映3场，但因反应热烈，主办方于门票开卖前一天，透过“时代革命 马来西亚专页”面书宣布加到8场，21日公开发售后，雪兰莪、槟城和霹雳怡保的门票皆在短时间内被抢光。</p>, <p>由于门票一票难求，不少观众纷纷在面书跪求加场，但主办单位透露已确定无法加场，原因是：“《时代革命》发行商全球同步计划的截止日期已到，我们无法于短时间内再筹备申请。”</p>, <p>另外，主办单位也感谢赞助商的协助，写道：“马来西亚《时代革命》放映会由工委们自主发起，人力或财力都有限。要促成一场放映，需要有人先行垫付所有费用，再请观众以乐捐方式摊付成本。票房收入无法支撑成本，需要依靠赞助补贴，在此也向慷慨解囊的赞助人道谢，让大众有机会以低负担的方式看到这部电影。”</p>, <p>全长152分钟的纪录片《时代革命》，以2019年香港反对《逃犯条例修订草案》运动为主题，通过示威运动中7组不同示威者的视角，展现香港人用生命交织出一段争民主、争自由的血泪史。</p>, <p>该片因香港《国安法》以及《电影检查条例》，无法在香港上映，但影片早前在美国纽约、芝加哥、旧金山、加拿大多伦多、温哥华等地小规模放映时，获得热烈回响，2月在台湾电影院上映后，全台票房更已冲破台币2000万（约295万令吉），荣登台湾影史最卖座华语海外纪录片。</p>, <p> </p>, <p> </p>, <p> </p>, <p>ADVERTISEMENT</p>, <p></p>, <p>韩国影帝薛景求领军黑色小组成员千方百计孤立朴海秀，但为了阻止池内博之扮演的亚洲头号间谍夺取朝鲜重要资料，双方联手拼博，阻止间谍得逞。</p>, <p>韩国谍报动作大片《夜叉：浴血谍战》由曾拍过犯罪电影《叛狱无间》的导演罗贤执导，并请来韩国大满贯影帝薛景求、《鱿鱼游戏》朴海秀、“三神奶奶”EL、韩团GOT7出身的朴珍荣、日星池内博之，以及宋再临、梁东根等人主演。除了集结多位大咖明星外，本片还有4大看点值得影迷关注。</p>, <p>全片拍摄使用的枪支共达36支，使用的子弹数约为7700发，堪称是韩国影史上动用子弹次数最多的电影。片场还请来两位教官指导，一位是实际在情报机关工作过，一位是特种部队出身，他们带著零基础的巨星们从基本姿势教起，因此演员群很快就熟悉枪枝的操作，霸气架势完全看不出是第一次拍摄枪战动作片。</p>, <p>片中地点虽然设定在中国沈阳，但其实是在台湾、韩国两地拍摄。除了台北万华华江整建住宅和台北街头，剧组也特别到高雄六合夜市、冈山以及台中乐成宫取景，再透过后制的方式，将街景上的繁体字变成简体字。</p>, <p>曾演出《比悲伤更悲伤的故事：影集版》的台湾女星姚以缇，在片中饰演角头老大，不但刻意扮丑涂牙垢，还贴了满身的刺青贴纸。姚以缇私下透露，这个角色一开始是没有名字的，但因为她的专业演出，让导演决定把角色取名为和她的英文名字Eleven一样叫“伊莱雯”。</p>, <p>薛景求、朴海秀和池内博之在片中都有中文台词，其中薛景求用流利华语介绍池内博之，朴海秀则字正腔圆说出：“久仰大名，能在这里见到您，是我的荣幸。”池内博之回复：“过奖了，不管怎样，认识您很高兴。”薛景求与朴海秀受访时也笑称，中文台词都是拼命死背出来的成果。</p>, <p><span style=\"color: #e74c3c;\"><b>《夜叉：浴血谍战》（Yaksha：Ruthless Operations）</b></span><br/>\n",
      "<span style=\"color: #e74c3c;\">导演：罗贤<br/>\n",
      "演员：薛景求、朴海秀、梁东根、李伊（EL）、朴珍荣、宋再临、池内博之<br/>\n",
      "类型：犯罪、动作<br/>\n",
      "上线日期：4月8日<br/>\n",
      "上线平台：Netflix</span></p>, <p><span style=\"color: #e74c3c;\"><b>故事：</b></span><br/>\n",
      "<span style=\"color: #e74c3c;\">全球间谍的最大交战地中国沈阳，绰号“夜叉”的池康仁（薛景求饰）率领韩国国情院海外分部黑色小队在当地执行任务，但却被怀疑传回关于沈阳当地的情势报告都是伪造的。</span></p>, <p><span style=\"color: #e74c3c;\">特派监察检察官韩搘训（朴海秀饰）为查明真相动身前往沈阳，然而却一度被黑色小队孤立，不过随著亚洲头号间谍（池内博之饰）夺取北韩重要资料，为了阻止对方得逞，韩搘训联手黑色小队展开了与间谍们激烈的殊死对决。</span></p>, <p></p>, <p></p>, <p></p>]\n",
      "/?p=2900469\n",
      "\n",
      "香港人权网站 香港不能登陆 \n",
      "[<p>人权组织香港监察（Hong Kong Watch）称，其官网在香港无法登陆，引起该组织对香港互联网审查的担忧。</p>, <p>香港监察发起人罗杰斯（Benedict Rogers）在一份声明中说，如果这不仅仅是技术问题，香港人或将因为《香港国安法》而无法再浏览该网站，那这就是对互联网自由的严重打击。</p>, <p></p>, <p></p>, <p dir=\"ltr\" lang=\"en\">Here’s what happens when I tried this morning to access Hong Kong Watch in Hong Kong. </p>, <p>Left, no VPN. Right, VPN via Taiwan. <a href=\"https://t.co/K4ItBKK5cc\">https://t.co/K4ItBKK5cc</a> <a href=\"https://t.co/iuI8238d1H\">pic.twitter.com/iuI8238d1H</a></p>, <p>— Jerome Taylor (@JeromeTaylor) <a href=\"https://twitter.com/JeromeTaylor/status/1493369404821630978?ref_src=twsrc%5Etfw\">February 14, 2022</a></p>, <p> <script async=\"\" charset=\"utf-8\" src=\"https://platform.twitter.com/widgets.js\"></script></p>, <p></p>, <p>罗杰斯称，随着不断有网站被删除，“大家担心中国可能会开始将其网络防火墙引入香港。久而久之，这可能会对西方国家的科技公司在香港持续发展产生严重影响”。</p>, <p>香港监察称，根据互联网专家分析，香港方面已经封锁了香港监察的网站，多个香港网络供应商的用户都无法登陆。</p>, <p>香港监察续称，他们收到报告显示，包括电讯盈科、中国移动香港、香港宽频、网上行的用户都无法浏览他们的网站，而这种情况是因为网域名称系统被更改（DNS tampering）所致。</p>, <p>该组织在声明中引述发现事件的网络自由观察员张拿敦（Nathan Hammond ）称，这种情况跟去年1月“香港编年史” 网站无法在香港登陆的事件吻合，因此可以假定香港监察网站是香港警方要求封锁的。</p>, <p>文：联合早报</p>, <p>⬇看过来⬇<br/>\n",
      "又快又方便 送新闻给你<br/>\n",
      "<a href=\"https://t.me/chinapressonline\"><font color=\"blue\">https://t.me/chinapressonline</font></a><br/>\n",
      "<a href=\"https://t.me/chinapressonline\"><img alt=\"\" class=\"aligncenter size-full wp-image-1487581\" height=\"350\" src=\"https://www.chinapress.com.my/wp-content/uploads/2021/10/telegram-chinapress-211006-a1.jpg\" width=\"600\"/></a></p>, <p>ADVERTISEMENT</p>, <p>◤新闻抢鲜报◢2022-3-4</p>, <p>◤新闻抢鲜报◢2022-3-4</p>, <p>◤新闻抢鲜报◢2022-4-1</p>, <p>◤新闻抢鲜报◢2022-3-18</p>, <p>◤新闻抢鲜报◢2022-4-27</p>, <p>◤新闻抢鲜报◢2022-4-26</p>, <p>◤新闻抢鲜报◢2022-4-25</p>, <p>◤新闻抢鲜报◢2022-4-24</p>, <p>◤新闻抢鲜报◢2022-4-24</p>, <p>◤新闻抢鲜报◢2022-4-23</p>, <p></p>, <p>瑞士信贷周三报告称，第一季度净亏损从上年同期的2.52亿瑞郎扩大至2.73亿瑞郎（12.3亿令吉），亏损幅度大于市场预期。</p>, <p>该行上周已警告称，由于俄罗斯业务相关的损失和法律准备金的增加，预计第一季度将会出现亏损。</p>, <p>该行周三证实，与俄罗斯相关的损失达2.06亿瑞士法郎，另外还有1.55亿瑞士法郎与Archegos有关。</p>, <p>该行第一季度营收同比下降42%，至44.1亿瑞郎，低于市场预期。</p>, <p><a href=\"https://www.chinapress.com.my/wp-content/uploads/2022/04/20220427fbc27a.jpg\"><img alt=\"\" class=\"aligncenter size-full wp-image-2946981\" height=\"628\" src=\"https://www.chinapress.com.my/wp-content/uploads/2022/04/20220427fbc27a.jpg\" width=\"1200\"/></a></p>, <p></p>]\n",
      "/?p=2857875\n",
      "\n",
      "黄之锋等人疑狱中“卖文”敛财 涉嫌违反香港国安法 \n",
      "[<p>（香港9日综合电）美国网上付费平台“Patreon”近期出现多个账号，自称是参与“修例风波”的在押人员，包括前“港独”组织“香港众志”成员黄之锋、非法“占中”发起人之一戴耀廷等人，他们于在押期间上传文章，内容涉及“煽暴”和其狱中生活。</p>, <p>有消息称，有关在押人员从狱中寄出“私人信件”，再由其亲友上传至网上供人付费阅读，涉嫌“卖文”敛财 ，违反惩教院所规定及香港国安法等法律。</p>, <p>香港《星岛日报》报导，报道称，在“Patreon”注册账号的乱港分子包括因非法持有爆炸品被判处12年徒刑的前“民阵”成员卢溢燊，该账户以其外号“老汤”命名，介绍文字声称他是“修例风波”中判刑期最长的人，还声称该账号是获得他授权开设，会不时从狱中发出书信，内容涉及“继续抗争”等煽暴内容。</p>, <p>根据声称是卢溢燊的“Patreon”账户，发现有数十篇“评论时政”的文章，相关文章设有三种可优先阅读其文章的月供付款方案，其中一篇是5美元，另一篇是15美元，还有一篇是30美元，网页显示其每月收益有1623美元（约6831令吉）。</p>, <p>自称是黄之锋的账号也上传了多篇其在押期间所写的书信部分内容，主要涉及其在押时的“心态”和其“煽暴”言论，网民需付款才可看到整篇文章，月费最高150美元（约631令吉）。</p>, <p>2021年1月6日因涉嫌违反香港国安法被警方拘捕的2014年非法“占中”发起人戴耀廷，也疑似在以其命名的账号上传其在押期间的文章，但相关网页上只看到文章标题，需付款才可看到全文。</p>, <p>有消息称，涉及“修理风波”并被判违反香港国安法等法律的犯人通过手写“私人信件”发予亲友，再由对方协助将有关文章上传至“Patreon”及保管相关文章的收益，让他们在狱中仍可通过发表“煽暴”文章和赚取收入，香港惩教署及警方正研究当中是否有涉嫌违反惩教院所规定及香港国安法等法律，不排除采取相应处罚或执法行动。</p>, <p>文：香港《星岛日报》、中国《环球时报》、搜狐网<br/>\n",
      "图：Patreon网站</p>, <p>⬇看过来⬇<br/>\n",
      "又快又方便 送新闻给你<br/>\n",
      "<a href=\"https://t.me/chinapressonline\"><font color=\"blue\">https://t.me/chinapressonline</font></a><br/>\n",
      "<a href=\"https://t.me/chinapressonline\"><img alt=\"\" class=\"aligncenter size-full wp-image-1487581\" height=\"350\" src=\"https://www.chinapress.com.my/wp-content/uploads/2021/10/telegram-chinapress-211006-a1.jpg\" width=\"600\"/></a></p>, <p>ADVERTISEMENT</p>, <p>◤新闻抢鲜报◢2022-3-4</p>, <p>◤新闻抢鲜报◢2022-3-4</p>, <p>◤新闻抢鲜报◢2022-3-18</p>, <p>◤新闻抢鲜报◢2022-4-23</p>, <p>◤新闻抢鲜报◢2022-4-27</p>, <p>◤新闻抢鲜报◢2022-4-26</p>, <p>◤新闻抢鲜报◢2022-4-25</p>, <p>◤新闻抢鲜报◢2022-4-24</p>, <p>◤新闻抢鲜报◢2022-4-24</p>, <p>◤新闻抢鲜报◢2022-4-23</p>, <p></p>, <p>瑞士信贷周三报告称，第一季度净亏损从上年同期的2.52亿瑞郎扩大至2.73亿瑞郎（12.3亿令吉），亏损幅度大于市场预期。</p>, <p>该行上周已警告称，由于俄罗斯业务相关的损失和法律准备金的增加，预计第一季度将会出现亏损。</p>, <p>该行周三证实，与俄罗斯相关的损失达2.06亿瑞士法郎，另外还有1.55亿瑞士法郎与Archegos有关。</p>, <p>该行第一季度营收同比下降42%，至44.1亿瑞郎，低于市场预期。</p>, <p><a href=\"https://www.chinapress.com.my/wp-content/uploads/2022/04/20220427fbc27a.jpg\"><img alt=\"\" class=\"aligncenter size-full wp-image-2946981\" height=\"628\" src=\"https://www.chinapress.com.my/wp-content/uploads/2022/04/20220427fbc27a.jpg\" width=\"1200\"/></a></p>, <p></p>]\n",
      "/?p=2815864\n",
      "\n",
      "《立场》2高层被诉 不准保释续还押 \n",
      "[<p>（香港30日综合电）香港警方周三（29日）搜索港媒《立场新闻》办公室，逮捕6名高层或前高层，其中前总编辑钟沛权及前署任总编辑林绍桐周四（30日）正式被起诉开庭，2人保释申请均被拒绝，须还押候讯，案件延后至明年2月25日再讯。</p>, <p>综合港媒报导，钟沛权与林绍桐被控串谋发布煽动刊物罪，案件周四下午在香港西九龙裁判法院开庭。审理案件的《香港国安法》指定法官罗德泉宣布案件延后至明年2月25日再讯，并拒绝钟沛权与林绍桐的保释申请，称不相信2人不会再做出“危害国安”行为。</p>, <p>林绍桐因高血压等健康问题留院观察，直至周四晚间才出院，故无法出庭，将于周五上午10时半到法庭听取控罪内容。</p>, <p>法庭旁听席及延伸法庭部分，有逾百名香港市民到场听审，包含多名《立场新闻》前记者，以及英国、美国、德国、荷兰等多国驻港领事馆的代表。</p>, <p>香港警方国家安全处昨以涉及“串谋发布煽动刊物罪”逮捕7人，其中6人为《立场新闻》高层或前高层，另1人为正被扣押的香港《苹果日报》前副社长陈沛敏。除钟沛权与林绍桐外，其余4名《立场》前董事周四陆续获准保释。</p>, <p>文 综合报导<br/>\n",
      "图 法新社</p>, <p>⬇看过来⬇<br/>\n",
      "✌又快又方便 送新闻给你<br/>\n",
      "<a href=\"https://t.me/chinapressonline\"><font color=\"blue\">https://t.me/chinapressonline</font></a><br/>\n",
      "<a href=\"https://t.me/chinapressonline\"><img alt=\"\" class=\"aligncenter size-full wp-image-1487581\" height=\"350\" src=\"https://www.chinapress.com.my/wp-content/uploads/2021/10/telegram-chinapress-211006-a1.jpg\" width=\"600\"/></a></p>, <p></p>, <p></p>, <p></p>, <p></p>, <p>ADVERTISEMENT</p>, <p>◤新闻抢鲜报◢2022-3-4</p>, <p>◤新闻抢鲜报◢2022-3-4</p>, <p>◤新闻抢鲜报◢2022-4-5</p>, <p>◤新闻抢鲜报◢2022-4-6</p>, <p>◤新闻抢鲜报◢2022-4-27</p>, <p>◤新闻抢鲜报◢2022-4-26</p>, <p>◤新闻抢鲜报◢2022-4-25</p>, <p>◤新闻抢鲜报◢2022-4-24</p>, <p>◤新闻抢鲜报◢2022-4-24</p>, <p>◤新闻抢鲜报◢2022-4-23</p>, <p></p>, <p>瑞士信贷周三报告称，第一季度净亏损从上年同期的2.52亿瑞郎扩大至2.73亿瑞郎（12.3亿令吉），亏损幅度大于市场预期。</p>, <p>该行上周已警告称，由于俄罗斯业务相关的损失和法律准备金的增加，预计第一季度将会出现亏损。</p>, <p>该行周三证实，与俄罗斯相关的损失达2.06亿瑞士法郎，另外还有1.55亿瑞士法郎与Archegos有关。</p>, <p>该行第一季度营收同比下降42%，至44.1亿瑞郎，低于市场预期。</p>, <p><a href=\"https://www.chinapress.com.my/wp-content/uploads/2022/04/20220427fbc27a.jpg\"><img alt=\"\" class=\"aligncenter size-full wp-image-2946981\" height=\"628\" src=\"https://www.chinapress.com.my/wp-content/uploads/2022/04/20220427fbc27a.jpg\" width=\"1200\"/></a></p>, <p></p>]\n",
      "/?p=2804638\n",
      "\n",
      "涉发布煽动刊物 何韵诗被捕 \n",
      "[<p>（香港29日讯）艺人何韵诗过去多次公开支持香港社会运动，被贴上“港独”标签，今日有消息传出，香港警方国安处人员拘捕《立场新闻》6名高层或前高层人员，当中包括何韵诗。</p>, <p><iframe allow=\"autoplay; clipboard-write; encrypted-media; picture-in-picture; web-share\" allowfullscreen=\"true\" frameborder=\"0\" height=\"187\" scrolling=\"no\" src=\"https://www.facebook.com/plugins/post.php?href=https%3A%2F%2Fwww.facebook.com%2FHOCCHOCC%2Fposts%2F473957660755694&amp;show_text=true&amp;width=500\" style=\"border:none;overflow:hidden\" width=\"500\"></iframe></p>, <p>据报导，警方国安处人员今早拘捕6名三男三女，年龄介于34岁至73岁，包括男子钟沛权（52岁）、男子周达智（63岁）、女子吴霭仪（73岁）、女子方敏生（63岁）、女子何韵诗（44岁）和男子林绍桐（34岁），当中5名为前董事，剩余一人为署理总编辑，涉嫌提供平台发布煽动性文章，涉嫌违反《刑事罪行条例》第9及10条串谋煽动意图罪。</p>, <p>另外，警务处国家安全处也执行由法院根据《香港国安法》第43条实施细则附表1发出的法庭手令，搜查观塘区一网媒公司办公室。搜查令包括授权警方搜查及检取新闻材料的权力。行动中，警方共派出超过200名军装及便衣人员，搜查行动仍在进行中。</p>, <p>何韵诗曾于2019年，香港反送中现场中，站上最前线和港警谈判，还曾在台北参与游行时遭泼漆，她也是612基金信托人，这个基金会主要就是提供金钱及法律援助，给反送中运动的示威者，有传她被指“反中乱港”，早就被中国官方盯上。</p>, <p>何韵诗面书一早更新动态，证实遭捕一事：“Admin：今早6时警方国安处到何韵诗住所以‘串谋发布及复制煽动刊物罪’拘捕何韵诗，现被带往西区警署。”消息一出，随即引来大批粉丝留言集气，纷纷喊话“愿平安”，而香港歌手邓芷茵也出声表示“好人一生平安”，引发热议。</p>, <p>稍早她又再度更新动态表示：“我心情OK，请各位关心我的朋友不用担心。”</p>, <p><a href=\"https://t.me/chinapressonline\"><img alt=\"\" class=\"aligncenter size-full wp-image-1487581\" height=\"350\" src=\"https://www.chinapress.com.my/wp-content/uploads/2021/10/telegram-chinapress-211006-a1.jpg\" width=\"600\"/></a></p>, <p><b>↓↓相关新闻↓↓</b></p>, <p><iframe allowfullscreen=\"allowfullscreen\" frameborder=\"0\" height=\"552\" scrolling=\"no\" src=\"https://www.facebook.com/plugins/post.php?href=https%3A%2F%2Fwww.facebook.com%2FChinaPressCP%2Fposts%2F4878171475608592&amp;show_text=true&amp;width=500\" style=\"border: none; overflow: hidden;\" width=\"500\"></iframe></p>, <p>ADVERTISEMENT</p>, <p></p>, <p>（台北讯）身兼模特儿、演员、作家等多重身分的台湾女星邓九云，因和歌手何韵诗演出舞台剧《贾宝玉》擦出爱火进而交往，不过两人已在2016年分手。9日，她出席活动时被询问是否有关心前阵子何韵诗遭拘捕事件？她表示有关心新闻。</p>, <p>邓九云表示，两人已经很久没联络，但看到新闻有去了解状况，两人还是有许多共同朋友，因此大家也会讨论这件事。所幸何韵诗36小时后获保释，“看到新闻没事了就好了，没有特别关心本人。”但透露自己一直持续有在关注香港的状况。</p>, <p>何韵诗除了是歌手、演员，也是香港著名社运人士，为香港乐坛少有的积极参与社运的艺人，创作歌曲也常涉及同性、精神疾病、弱势群体、政治等社会议题。同为创作者的邓九云坦言，创作牵涉到政治这件事情，是现在全世界都要面临的问题，不论亚洲、两岸三地，认为这是一个集体现象，每个人都有自己的选择。</p>, <p></p>]\n",
      "/?p=2802498\n",
      "\n",
      "中大民主女神 岭大六四浮雕 继港大国殇之柱后也遭拆除 \n",
      "[<p>（香港24日综合电）继香港大学在22日深夜拆除”国殇之柱”后，中文大学的新民主女神像和岭南大学的六四浮雕也于24日遭移除或拆毁。</p>, <p>据报，中大校内的铜制新民主女神像身高6.4公尺，24日清晨约6时被移走。多名中大的保安及清洁工人在场善后，有清洁工人在原本放置民主女神像的位置用高压水枪洗刷地面。中大发声明称，24日晨从大学站广场移走一个”未经许可摆放的雕像”，表示2010年校方接获中大学生会呈请，要求大学批准于校园展示该雕像，大学行政与计划委员会一致决定不予批准，并对外阐明了校方立场。</p>, <p>中大也指出，从未准许该雕像于校园展示，亦没有任何组织为该雕像的维修及管理承担责任；此外曾参与安排雕像于校园展示的两个组织支联会及中大学生会现已解散或无实际运作，大学作为校园管理者，经内部评估后决定移走该雕像。</p>, <p>此外，岭南大学梁銶锯楼外的天安门大屠杀浮雕，24日凌晨也被拆除；还有岭大校内的民主女神像壁画同样被涂去。</p>, <p>六四浮雕移除被移除后，原址继续围封，只遗下一地碎片。据岭南大学学生会编辑委员会报道，六四浮雕被拆件移至刘李婉娴楼地下层储物室。</p>, <p>岭大发言人回应查询指出，校方最近重新检视和评估校园内可能构成法律或安全风险物品，为保障大学社群整体利益，六四浮雕已被移除并妥为储存，但未有交代去向。</p>, <p>新民主女神像和六四浮雕，都是纽西兰华裔雕塑家陈维明的作品。2010年，为了纪念六四事件21周年，陈维明的新民主女神像和六四浮雕在当年5月被送到香港，因为被香港海关扣押在当时引起争议，后来经过民众抗议，要求交还艺术品后才交还。随后两件作品在香港各大学校园巡回展出，成为香港争取平反六四的象征，最终落脚中大和岭大。</p>, <p>外界质疑，香港国安法通过后，六四讨论还剩多少空间?</p>, <p>文：综合<br/>\n",
      "图：互联网</p>, <p>ADVERTISEMENT</p>, <p>◤新闻抢鲜报◢2022-4-26</p>, <p>◤新闻抢鲜报◢2022-4-26</p>, <p>◤新闻抢鲜报◢2022-4-27</p>, <p>◤新闻抢鲜报◢2022-4-25</p>, <p>◤新闻抢鲜报◢2022-4-24</p>, <p>◤新闻抢鲜报◢2022-4-24</p>, <p>◤新闻抢鲜报◢2022-4-23</p>, <p></p>, <p>瑞士信贷周三报告称，第一季度净亏损从上年同期的2.52亿瑞郎扩大至2.73亿瑞郎（12.3亿令吉），亏损幅度大于市场预期。</p>, <p>该行上周已警告称，由于俄罗斯业务相关的损失和法律准备金的增加，预计第一季度将会出现亏损。</p>, <p>该行周三证实，与俄罗斯相关的损失达2.06亿瑞士法郎，另外还有1.55亿瑞士法郎与Archegos有关。</p>, <p>该行第一季度营收同比下降42%，至44.1亿瑞郎，低于市场预期。</p>, <p><a href=\"https://www.chinapress.com.my/wp-content/uploads/2022/04/20220427fbc27a.jpg\"><img alt=\"\" class=\"aligncenter size-full wp-image-2946981\" height=\"628\" src=\"https://www.chinapress.com.my/wp-content/uploads/2022/04/20220427fbc27a.jpg\" width=\"1200\"/></a></p>, <p></p>]\n",
      "/?p=2797569\n",
      "\n",
      "习近平见林郑：香港不断变好 \n",
      "[<p>（北京22日综合电）中国国家主席习近平（中）22日下午在中南海瀛台会见来京述职的香港特别行政区行政长官林郑月娥（左），听取她对香港当前形势和特别行政区政府工作情况的汇报。</p>, <p>习近平指出，一年来，香港由乱到治的局面不断巩固，局势不断向好发展。新冠肺炎疫情防控成效明显，经济逐步复苏，社会保持安定。林郑月娥行政长官领导特别行政区政府，依照全国人大有关决定和全国人大常委会有关立法，对香港选举制度作出系统性修改完善；成功举办选举委员会选举和立法会选举，推动符合香港实际的民主发展迈出坚实步伐；坚决执行香港国安法，依法止暴制乱、拨乱反正，维护法治的权威和尊严；采取积极措施，推动特别行政区融入国家发展大局，全面深化同内地交流合作。中央对林郑月娥行政长官和特别行政区政府的工作是充分肯定的。<br/>\n",
      "<img class=\"aligncenter size-full\" height=\"1080\" src=\"https://newsstatic.rthk.hk/images/mfile_1625548_1_20211222190955.jpg\" width=\"1440\"/><br/>\n",
      "习近平指出，几天前，香港举行了第七届立法会选举。在新选举制度下，香港特别行政区选举委员会选举和第七届立法会选举先后举行，都取得了成功。广大香港同胞当家作主的民主权利得到体现，“爱国者治港”原则得到落实，社会各阶层各界别广泛、均衡参与的政治格局得到确立。实践证明，新选举制度符合“一国两制”原则，符合香港实际，为确保“一国两制”行稳致远、确保香港长期繁荣稳定提供了制度支撑，是一套好制度。</p>, <p>习近平强调，今年是中国共产党成立100周年。党的十九届六中全会作出关于党的百年奋斗重大成就和历史经验的决议，“一国两制”作为重要内容写入其中。香港回归祖国20多年不平凡的历程充分证明，实行“一国两制”，有利于维护国家根本利益，有利于维护香港根本利益，有利于维护广大香港同胞根本利益。中央将继续坚定不移贯彻“一国两制”方针。我们坚信，随着实践不断深入和制度体系不断完善，“一国两制”的优越性将进一步彰显。广大香港同胞一定能弘扬爱国爱港的光荣传统，同全国各族人民携手并肩，为实现中华民族伟大复兴共同奋斗。</p>, <p>文：人民网</p>, <p>ADVERTISEMENT</p>, <p>◤新闻抢鲜报◢2022-4-14</p>, <p>◤新闻抢鲜报◢2022-4-14</p>, <p>◤新闻抢鲜报◢2022-4-26</p>, <p>◤新闻抢鲜报◢2022-4-19</p>, <p>◤新闻抢鲜报◢2022-4-27</p>, <p>◤新闻抢鲜报◢2022-4-25</p>, <p>◤新闻抢鲜报◢2022-4-24</p>, <p>◤新闻抢鲜报◢2022-4-24</p>, <p>◤新闻抢鲜报◢2022-4-23</p>, <p></p>, <p>瑞士信贷周三报告称，第一季度净亏损从上年同期的2.52亿瑞郎扩大至2.73亿瑞郎（12.3亿令吉），亏损幅度大于市场预期。</p>, <p>该行上周已警告称，由于俄罗斯业务相关的损失和法律准备金的增加，预计第一季度将会出现亏损。</p>, <p>该行周三证实，与俄罗斯相关的损失达2.06亿瑞士法郎，另外还有1.55亿瑞士法郎与Archegos有关。</p>, <p>该行第一季度营收同比下降42%，至44.1亿瑞郎，低于市场预期。</p>, <p><a href=\"https://www.chinapress.com.my/wp-content/uploads/2022/04/20220427fbc27a.jpg\"><img alt=\"\" class=\"aligncenter size-full wp-image-2946981\" height=\"628\" src=\"https://www.chinapress.com.my/wp-content/uploads/2022/04/20220427fbc27a.jpg\" width=\"1200\"/></a></p>, <p></p>]\n",
      "/?p=2795977\n",
      "\n",
      "人权组织报告：大马公民活动自由度“受限” \n",
      "[<p>（约翰内斯堡8日综合电）人权组织最新发布的“全球公民活动空间自由度”调查报告，马来西亚连续4年被列为“受限”国家和地区，亚太区只有台湾和纽西兰被列为“开放”。</p>, <p>非政府人权组织CIVICUS每年和全球20多个区域人权组织调查全球公民活动空间自由度 ，在周三发布“2021年受威胁的公民力量报告”。</p>, <p>报告从言论自由、新闻自由、集会自由等多个面向，评估全球各国的公民活动空间，程度分为5级，最好的为“开放”，接着分别为“狭窄”、“受限”、“压抑”、“封闭”。</p>, <p>在197个国家和地区中，39个列为“开放”，41个列为“狭窄”，43个列为“受限”，49个列为“压抑”，25个列为“封闭”。</p>, <p>亚洲26个国家和地区中，马来西亚、尼泊尔、不丹、斯里兰卡和印尼等7国列为黄色“受限”；新加坡则从“受限”降至橙色“压抑”；中国、朝鲜、越南和寮国等4个国家被评比为红色“封闭”。</p>, <p>澳洲、日本、蒙古和韩国列为浅绿色“狭窄”；台湾和纽西兰被评为深绿色“开放”。</p>, <p>报告指亚洲今年侵犯公民活动空间最主要的手段是利用法律对付异议分子，有19个国家的人权工作者被拘捕，11个国家中人权工作者甚至被起诉。</p>, <p>中国持续起诉人权工作者，在香港，国安法更成为对付异议分子的武器；在马来西亚、印度、泰国和越南，法律都成为对付政治异议分子的工具。</p>, <p>不过，今年在亚洲仍有一些正面的进展，包括蒙古今年4月立法保护人权工作者，蒙古在公民空间的进步，让蒙古今年的评比从“受限”提升到“狭窄”；人权工作者的努力让国际刑事法院调查菲律宾总统迪泰特发起的扫毒战争；不丹让同性性关系除罪化。</p>, <p>图：法新社、CIVICUS官网<br/>\n",
      "文：综合报导</p>, <p>ADVERTISEMENT</p>, <p>◤新闻抢鲜报◢2022-4-26</p>, <p>◤新闻抢鲜报◢2022-4-26</p>, <p>◤新闻抢鲜报◢2022-4-22</p>, <p>◤新闻抢鲜报◢2022-4-22</p>, <p>◤新闻抢鲜报◢2022-4-27</p>, <p>◤新闻抢鲜报◢2022-4-25</p>, <p>◤新闻抢鲜报◢2022-4-24</p>, <p>◤新闻抢鲜报◢2022-4-24</p>, <p>◤新闻抢鲜报◢2022-4-23</p>, <p></p>, <p>（华盛顿1日综合电）美国有线电视新闻网（CNN）周二（8/31）引述两名美国国防官员报导，美军与阿富汗武装组织塔利班达成秘密安排，由塔利班成员护送欲逃离阿富汗的美国公民前往喀布尔机场大门。</p>, <p>其中一名官员还透露，美国特种作战部队在机场设置“秘密大门”，并设立“呼叫中心”，以引导美国公民完成撤离程序。</p>, <p>官员指出，美国公民被通知在机场附近预先设置好的“集合点”集合，塔利班成员会在该处将他们聚集起来，检查完证件后把他们带到一个由美军驻守的大门附近，让他们在大批想逃亡的阿富汗人中顺利进入机场。</p>, <p><img alt=\"\" class=\"aligncenter size-full wp-image-2654470\" height=\"628\" src=\"https://www.chinapress.com.my/wp-content/uploads/2021/09/Taliban-Equipment-Fact_Focus_72623.jpg\" width=\"942\"/></p>, <p>大多数情况下，美军能够看见美国公民及护送他们的塔利班成员接近机场，以确保他们的安全。</p>, <p>由于这些安排极具敏感性，这些美国官员在匿名情况下发言。官员表示，这项协议直到现在才被公开，是因为美国担心塔利班对任何宣传的反应，以及呼罗珊伊斯兰国（IS-K）的攻击威胁，若其组织成员发现美国公民被成群结队地护送前往机场。</p>, <p>在整个撤离过程中，拜登政府都强调塔利班正与其合作。高级官员说，塔利班已承诺为美国公民提供“安全通道”。</p>, <p>其中一位美国官员指出，塔利班护送任务“一天会进行好几次”。其中一个关键集合点是机场大门外的内政部大楼，驻守在附近的美军可以很容易地观察到美国公民接近机场。美国公民透过各种讯息管道获取关于集合地点的通知。</p>, <p>一名官员在谈到这项安排时说，“它奏效了，效果很好。”</p>, <p>截至美军在周一（8/30）完成全面从阿富汗撤军时，自7月以来，美国从喀布尔卡赛机场共空运12.2万人离开阿富汗，超过6000名美国公民被撤离。然而，上周在机场周边发生的自杀炸弹攻击中，造成13名美军和超过170名阿富汗公民丧生。</p>, <p>目前尚不清楚在这项秘密安排中，负责检查证件的塔利班成员，是否曾拒绝护送任何美国公民。根据许多报导，一些持有美国护照和绿卡的美国公民，被设置在机场附近的塔利班检查哨拒于门外。</p>, <p>其中一名官员说，另一项于行动结束后才公开的秘密安排中，来自菁英联合特种作战司令部（Joint Special Operations Command）及其他特种作战部队的部队也在地面上透过“呼叫中心”帮助美国公民撤离。特种作战部队会在机场设立自己的“秘密大门”，有时候会与美国公民直接联络，告诉他们要从哪里走才能找到大门并进入机场。</p>, <p>美国中央司令部司令麦肯锡（Frank McKenzie）在周一的记者会上首次公开透露特种作战部队参与撤离任务。他表示，这些部队“透过电话、引导和护送”，协助撤离1064名美国公民、2017名阿富汗人及127名第3国国民。</p>, <p>文 综合报导<br/>\n",
      "图 美联社</p>, <p></p>]\n",
      "/?p=2777602\n"
     ]
    }
   ],
   "source": [
    "for link in links:\n",
    "    try:\n",
    "        driver.get(\"https://www.chinapress.com.my/\"+link)\n",
    "        driver.implicitly_wait(3) # seconds\n",
    "        driver.execute_script(\"window.stop()\")\n",
    "\n",
    "        html = driver.page_source\n",
    "        soup = BeautifulSoup(html, \"html.parser\")\n",
    "        title = soup.select_one(\".entry-title\")\n",
    "        print(title.text)\n",
    "\n",
    "        paragraphs = soup.select('#content p')\n",
    "        data = []\n",
    "\n",
    "        for q in paragraphs:\n",
    "    # only keep elements that don't have a class or style attribute\n",
    "            if not (q.has_attr('class') or q.has_attr('style')):\n",
    "                data.append(q)\n",
    "        print(data)\n",
    "\n",
    "    finally:\n",
    "        print(link)\n",
    "\n",
    "driver.quit()"
   ],
   "metadata": {
    "collapsed": false,
    "pycharm": {
     "name": "#%%\n"
    }
   }
  }
 ],
 "metadata": {
  "kernelspec": {
   "display_name": "Python 3",
   "language": "python",
   "name": "python3"
  },
  "language_info": {
   "codemirror_mode": {
    "name": "ipython",
    "version": 2
   },
   "file_extension": ".py",
   "mimetype": "text/x-python",
   "name": "python",
   "nbconvert_exporter": "python",
   "pygments_lexer": "ipython2",
   "version": "2.7.6"
  }
 },
 "nbformat": 4,
 "nbformat_minor": 0
}