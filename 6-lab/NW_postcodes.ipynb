{
 "cells": [
  {
   "cell_type": "code",
   "execution_count": null,
   "metadata": {
    "collapsed": true
   },
   "outputs": [],
   "source": [
    ".raceDist .list-group-item"
   ]
  },
  {
   "cell_type": "code",
   "execution_count": 1,
   "outputs": [],
   "source": [
    "import requests\n",
    "from bs4 import BeautifulSoup\n",
    "import re\n",
    "from selenium import webdriver"
   ],
   "metadata": {
    "collapsed": false,
    "pycharm": {
     "name": "#%%\n"
    }
   }
  },
  {
   "cell_type": "code",
   "execution_count": 3,
   "outputs": [
    {
     "name": "stderr",
     "output_type": "stream",
     "text": [
      "\n",
      "\n",
      "====== WebDriver manager ======\n",
      "Current google-chrome version is 101.0.4951\n",
      "Get LATEST chromedriver version for 101.0.4951 google-chrome\n",
      "Driver [C:\\Users\\wirze\\.wdm\\drivers\\chromedriver\\win32\\101.0.4951.41\\chromedriver.exe] found in cache\n"
     ]
    }
   ],
   "source": [
    "from selenium import webdriver\n",
    "from selenium.webdriver.chrome.service import Service\n",
    "from webdriver_manager.chrome import ChromeDriverManager\n",
    "driver = webdriver.Chrome(service=Service(ChromeDriverManager().install()))"
   ],
   "metadata": {
    "collapsed": false,
    "pycharm": {
     "name": "#%%\n"
    }
   }
  },
  {
   "cell_type": "code",
   "execution_count": 36,
   "outputs": [],
   "source": [
    "url = \"https://www.city-data.com/zips/10002.html\"\n",
    "driver.get(url)"
   ],
   "metadata": {
    "collapsed": false,
    "pycharm": {
     "name": "#%%\n"
    }
   }
  },
  {
   "cell_type": "code",
   "execution_count": 37,
   "outputs": [
    {
     "data": {
      "text/plain": "[<li class=\"list-group-item\"><span class=\"badge\">37,739</span><span class=\"badge alert-info\">46.4%</span><b>Asian</b></li>,\n <li class=\"list-group-item\"><span class=\"badge\">20,619</span><span class=\"badge alert-info\">25.3%</span><b>Hispanic or Latino</b></li>,\n <li class=\"list-group-item\"><span class=\"badge\">16,330</span><span class=\"badge alert-info\">20.1%</span><b>White</b></li>,\n <li class=\"list-group-item\"><span class=\"badge\">5,257</span><span class=\"badge alert-info\">6.5%</span><b>Black</b></li>,\n <li class=\"list-group-item\"><span class=\"badge\">1,200</span><span class=\"badge alert-info\">1.5%</span><b>Two or more races</b></li>,\n <li class=\"list-group-item\"><span class=\"badge\">143</span><span class=\"badge alert-info\">0.2%</span><b>Some other race</b></li>,\n <li class=\"list-group-item\"><span class=\"badge\">108</span><span class=\"badge alert-info\">0.1%</span><b>American Indian</b></li>,\n <li class=\"list-group-item\"><span class=\"badge\">14</span><span class=\"badge alert-info\">0.02%</span><b>Native Hawaiian and Other<br/>Pacific Islander</b></li>]"
     },
     "execution_count": 37,
     "metadata": {},
     "output_type": "execute_result"
    }
   ],
   "source": [
    "items = []\n",
    "html = driver.page_source\n",
    "soup = BeautifulSoup(html, \"html.parser\")\n",
    "# # css select\n",
    "# results = soup.select('.pdtMb')\n",
    "# results\n",
    "# css select 2\n",
    "results = soup.select('.raceDist .list-group-item')\n",
    "results"
   ],
   "metadata": {
    "collapsed": false,
    "pycharm": {
     "name": "#%%\n"
    }
   }
  },
  {
   "cell_type": "code",
   "execution_count": 38,
   "outputs": [
    {
     "name": "stdout",
     "output_type": "stream",
     "text": [
      "Asian\n",
      "Hispanic or Latino\n",
      "White\n",
      "Black\n",
      "Two or more races\n",
      "Some other race\n",
      "American Indian\n",
      "Native Hawaiian and OtherPacific Islander\n"
     ]
    }
   ],
   "source": [
    "for result in results:\n",
    "    print(result.b.text)"
   ],
   "metadata": {
    "collapsed": false,
    "pycharm": {
     "name": "#%%\n"
    }
   }
  },
  {
   "cell_type": "code",
   "execution_count": 39,
   "outputs": [
    {
     "name": "stdout",
     "output_type": "stream",
     "text": [
      "Asian\n",
      "37,739\n",
      "46.4%\n",
      "Hispanic or Latino\n",
      "20,619\n",
      "25.3%\n",
      "White\n",
      "16,330\n",
      "20.1%\n",
      "Black\n",
      "5,257\n",
      "6.5%\n",
      "Two or more races\n",
      "1,200\n",
      "1.5%\n",
      "Some other race\n",
      "143\n",
      "0.2%\n",
      "American Indian\n",
      "108\n",
      "0.1%\n",
      "Native Hawaiian and OtherPacific Islander\n",
      "14\n",
      "0.02%\n"
     ]
    }
   ],
   "source": [
    "for result in results:\n",
    "    # print(zipcode)\n",
    "    print(result.b.text)\n",
    "    print(result.select(\".badge\")[0].text)\n",
    "    print(result.select(\".badge\")[1].text)"
   ],
   "metadata": {
    "collapsed": false,
    "pycharm": {
     "name": "#%%\n"
    }
   }
  },
  {
   "cell_type": "code",
   "execution_count": 40,
   "outputs": [],
   "source": [
    "races, values, percs = [], [], []"
   ],
   "metadata": {
    "collapsed": false,
    "pycharm": {
     "name": "#%%\n"
    }
   }
  },
  {
   "cell_type": "code",
   "execution_count": 41,
   "outputs": [],
   "source": [
    "for result in results:\n",
    "    # print(zipcode)\n",
    "    races.append(result.b.text)\n",
    "    values.append(result.select(\".badge\")[0].text)\n",
    "    percs.append(result.select(\".badge\")[1].text)"
   ],
   "metadata": {
    "collapsed": false,
    "pycharm": {
     "name": "#%%\n"
    }
   }
  },
  {
   "cell_type": "code",
   "execution_count": 42,
   "outputs": [
    {
     "data": {
      "text/plain": "  zipcode                                      races  values  percs\n0     002                                      Asian  37,739  46.4%\n1     002                         Hispanic or Latino  20,619  25.3%\n2     002                                      White  16,330  20.1%\n3     002                                      Black   5,257   6.5%\n4     002                          Two or more races   1,200   1.5%\n5     002                            Some other race     143   0.2%\n6     002                            American Indian     108   0.1%\n7     002  Native Hawaiian and OtherPacific Islander      14  0.02%",
      "text/html": "<div>\n<style scoped>\n    .dataframe tbody tr th:only-of-type {\n        vertical-align: middle;\n    }\n\n    .dataframe tbody tr th {\n        vertical-align: top;\n    }\n\n    .dataframe thead th {\n        text-align: right;\n    }\n</style>\n<table border=\"1\" class=\"dataframe\">\n  <thead>\n    <tr style=\"text-align: right;\">\n      <th></th>\n      <th>zipcode</th>\n      <th>races</th>\n      <th>values</th>\n      <th>percs</th>\n    </tr>\n  </thead>\n  <tbody>\n    <tr>\n      <th>0</th>\n      <td>002</td>\n      <td>Asian</td>\n      <td>37,739</td>\n      <td>46.4%</td>\n    </tr>\n    <tr>\n      <th>1</th>\n      <td>002</td>\n      <td>Hispanic or Latino</td>\n      <td>20,619</td>\n      <td>25.3%</td>\n    </tr>\n    <tr>\n      <th>2</th>\n      <td>002</td>\n      <td>White</td>\n      <td>16,330</td>\n      <td>20.1%</td>\n    </tr>\n    <tr>\n      <th>3</th>\n      <td>002</td>\n      <td>Black</td>\n      <td>5,257</td>\n      <td>6.5%</td>\n    </tr>\n    <tr>\n      <th>4</th>\n      <td>002</td>\n      <td>Two or more races</td>\n      <td>1,200</td>\n      <td>1.5%</td>\n    </tr>\n    <tr>\n      <th>5</th>\n      <td>002</td>\n      <td>Some other race</td>\n      <td>143</td>\n      <td>0.2%</td>\n    </tr>\n    <tr>\n      <th>6</th>\n      <td>002</td>\n      <td>American Indian</td>\n      <td>108</td>\n      <td>0.1%</td>\n    </tr>\n    <tr>\n      <th>7</th>\n      <td>002</td>\n      <td>Native Hawaiian and OtherPacific Islander</td>\n      <td>14</td>\n      <td>0.02%</td>\n    </tr>\n  </tbody>\n</table>\n</div>"
     },
     "execution_count": 42,
     "metadata": {},
     "output_type": "execute_result"
    }
   ],
   "source": [
    "zipcode = \"002\"\n",
    "\n",
    "d = {'zipcode': zipcode,\n",
    "     'races': races,\n",
    "     'values': values,\n",
    "     'percs': percs}\n",
    "d\n",
    "import pandas as pd\n",
    "temp_df = pd.DataFrame(data=d)\n",
    "temp_df"
   ],
   "metadata": {
    "collapsed": false,
    "pycharm": {
     "name": "#%%\n"
    }
   }
  },
  {
   "cell_type": "code",
   "execution_count": 45,
   "outputs": [
    {
     "name": "stderr",
     "output_type": "stream",
     "text": [
      "C:\\Users\\wirze\\AppData\\Local\\Temp\\ipykernel_27216\\4062472632.py:1: FutureWarning: The frame.append method is deprecated and will be removed from pandas in a future version. Use pandas.concat instead.\n",
      "  df = df.append(temp_df, ignore_index=True)\n"
     ]
    },
    {
     "data": {
      "text/plain": "   zipcode                                      races  values  percs\n0      001                                      White  11,704  55.5%\n1      001                         Hispanic or Latino   3,648  17.3%\n2      001                                      Asian   3,519  16.7%\n3      001                                      Black   1,602   7.6%\n4      001                          Two or more races     496   2.4%\n5      001                            Some other race      95   0.5%\n6      001                            American Indian      33   0.2%\n7      001  Native Hawaiian and OtherPacific Islander       5  0.02%\n8      002                                      Asian  37,739  46.4%\n9      002                         Hispanic or Latino  20,619  25.3%\n10     002                                      White  16,330  20.1%\n11     002                                      Black   5,257   6.5%\n12     002                          Two or more races   1,200   1.5%\n13     002                            Some other race     143   0.2%\n14     002                            American Indian     108   0.1%\n15     002  Native Hawaiian and OtherPacific Islander      14  0.02%\n16     002                                      Asian  37,739  46.4%\n17     002                         Hispanic or Latino  20,619  25.3%\n18     002                                      White  16,330  20.1%\n19     002                                      Black   5,257   6.5%\n20     002                          Two or more races   1,200   1.5%\n21     002                            Some other race     143   0.2%\n22     002                            American Indian     108   0.1%\n23     002  Native Hawaiian and OtherPacific Islander      14  0.02%",
      "text/html": "<div>\n<style scoped>\n    .dataframe tbody tr th:only-of-type {\n        vertical-align: middle;\n    }\n\n    .dataframe tbody tr th {\n        vertical-align: top;\n    }\n\n    .dataframe thead th {\n        text-align: right;\n    }\n</style>\n<table border=\"1\" class=\"dataframe\">\n  <thead>\n    <tr style=\"text-align: right;\">\n      <th></th>\n      <th>zipcode</th>\n      <th>races</th>\n      <th>values</th>\n      <th>percs</th>\n    </tr>\n  </thead>\n  <tbody>\n    <tr>\n      <th>0</th>\n      <td>001</td>\n      <td>White</td>\n      <td>11,704</td>\n      <td>55.5%</td>\n    </tr>\n    <tr>\n      <th>1</th>\n      <td>001</td>\n      <td>Hispanic or Latino</td>\n      <td>3,648</td>\n      <td>17.3%</td>\n    </tr>\n    <tr>\n      <th>2</th>\n      <td>001</td>\n      <td>Asian</td>\n      <td>3,519</td>\n      <td>16.7%</td>\n    </tr>\n    <tr>\n      <th>3</th>\n      <td>001</td>\n      <td>Black</td>\n      <td>1,602</td>\n      <td>7.6%</td>\n    </tr>\n    <tr>\n      <th>4</th>\n      <td>001</td>\n      <td>Two or more races</td>\n      <td>496</td>\n      <td>2.4%</td>\n    </tr>\n    <tr>\n      <th>5</th>\n      <td>001</td>\n      <td>Some other race</td>\n      <td>95</td>\n      <td>0.5%</td>\n    </tr>\n    <tr>\n      <th>6</th>\n      <td>001</td>\n      <td>American Indian</td>\n      <td>33</td>\n      <td>0.2%</td>\n    </tr>\n    <tr>\n      <th>7</th>\n      <td>001</td>\n      <td>Native Hawaiian and OtherPacific Islander</td>\n      <td>5</td>\n      <td>0.02%</td>\n    </tr>\n    <tr>\n      <th>8</th>\n      <td>002</td>\n      <td>Asian</td>\n      <td>37,739</td>\n      <td>46.4%</td>\n    </tr>\n    <tr>\n      <th>9</th>\n      <td>002</td>\n      <td>Hispanic or Latino</td>\n      <td>20,619</td>\n      <td>25.3%</td>\n    </tr>\n    <tr>\n      <th>10</th>\n      <td>002</td>\n      <td>White</td>\n      <td>16,330</td>\n      <td>20.1%</td>\n    </tr>\n    <tr>\n      <th>11</th>\n      <td>002</td>\n      <td>Black</td>\n      <td>5,257</td>\n      <td>6.5%</td>\n    </tr>\n    <tr>\n      <th>12</th>\n      <td>002</td>\n      <td>Two or more races</td>\n      <td>1,200</td>\n      <td>1.5%</td>\n    </tr>\n    <tr>\n      <th>13</th>\n      <td>002</td>\n      <td>Some other race</td>\n      <td>143</td>\n      <td>0.2%</td>\n    </tr>\n    <tr>\n      <th>14</th>\n      <td>002</td>\n      <td>American Indian</td>\n      <td>108</td>\n      <td>0.1%</td>\n    </tr>\n    <tr>\n      <th>15</th>\n      <td>002</td>\n      <td>Native Hawaiian and OtherPacific Islander</td>\n      <td>14</td>\n      <td>0.02%</td>\n    </tr>\n    <tr>\n      <th>16</th>\n      <td>002</td>\n      <td>Asian</td>\n      <td>37,739</td>\n      <td>46.4%</td>\n    </tr>\n    <tr>\n      <th>17</th>\n      <td>002</td>\n      <td>Hispanic or Latino</td>\n      <td>20,619</td>\n      <td>25.3%</td>\n    </tr>\n    <tr>\n      <th>18</th>\n      <td>002</td>\n      <td>White</td>\n      <td>16,330</td>\n      <td>20.1%</td>\n    </tr>\n    <tr>\n      <th>19</th>\n      <td>002</td>\n      <td>Black</td>\n      <td>5,257</td>\n      <td>6.5%</td>\n    </tr>\n    <tr>\n      <th>20</th>\n      <td>002</td>\n      <td>Two or more races</td>\n      <td>1,200</td>\n      <td>1.5%</td>\n    </tr>\n    <tr>\n      <th>21</th>\n      <td>002</td>\n      <td>Some other race</td>\n      <td>143</td>\n      <td>0.2%</td>\n    </tr>\n    <tr>\n      <th>22</th>\n      <td>002</td>\n      <td>American Indian</td>\n      <td>108</td>\n      <td>0.1%</td>\n    </tr>\n    <tr>\n      <th>23</th>\n      <td>002</td>\n      <td>Native Hawaiian and OtherPacific Islander</td>\n      <td>14</td>\n      <td>0.02%</td>\n    </tr>\n  </tbody>\n</table>\n</div>"
     },
     "execution_count": 45,
     "metadata": {},
     "output_type": "execute_result"
    }
   ],
   "source": [
    "df = df.append(temp_df, ignore_index=True)\n",
    "df"
   ],
   "metadata": {
    "collapsed": false,
    "pycharm": {
     "name": "#%%\n"
    }
   }
  }
 ],
 "metadata": {
  "kernelspec": {
   "display_name": "Python 3",
   "language": "python",
   "name": "python3"
  },
  "language_info": {
   "codemirror_mode": {
    "name": "ipython",
    "version": 2
   },
   "file_extension": ".py",
   "mimetype": "text/x-python",
   "name": "python",
   "nbconvert_exporter": "python",
   "pygments_lexer": "ipython2",
   "version": "2.7.6"
  }
 },
 "nbformat": 4,
 "nbformat_minor": 0
}