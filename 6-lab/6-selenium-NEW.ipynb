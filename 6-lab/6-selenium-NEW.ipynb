{
 "cells": [
  {
   "cell_type": "code",
   "execution_count": 1,
   "metadata": {
    "collapsed": true
   },
   "outputs": [],
   "source": [
    "import pandas as pd\n",
    "import numpy as np\n",
    "import seaborn as sns\n",
    "import matplotlib.pyplot as plt\n",
    "\n",
    "sns.set(rc={'figure.figsize': (11.7, 8.27)})"
   ]
  },
  {
   "cell_type": "code",
   "execution_count": 2,
   "outputs": [],
   "source": [
    "import requests\n",
    "from bs4 import BeautifulSoup\n",
    "import re\n",
    "from selenium import webdriver"
   ],
   "metadata": {
    "collapsed": false,
    "pycharm": {
     "name": "#%%\n"
    }
   }
  },
  {
   "cell_type": "code",
   "execution_count": 8,
   "outputs": [
    {
     "name": "stdout",
     "output_type": "stream",
     "text": [
      "Requirement already satisfied: selenium in c:\\users\\wirze\\anaconda3\\lib\\site-packages (4.1.0)\n",
      "Collecting selenium\n",
      "  Downloading selenium-4.1.3-py3-none-any.whl (968 kB)\n",
      "     -------------------------------------- 968.8/968.8 KB 5.1 MB/s eta 0:00:00\n",
      "Requirement already satisfied: trio~=0.17 in c:\\users\\wirze\\anaconda3\\lib\\site-packages (from selenium) (0.19.0)\n",
      "Requirement already satisfied: trio-websocket~=0.9 in c:\\users\\wirze\\anaconda3\\lib\\site-packages (from selenium) (0.9.2)\n",
      "Requirement already satisfied: urllib3[secure,socks]~=1.26 in c:\\users\\wirze\\anaconda3\\lib\\site-packages (from selenium) (1.26.7)\n",
      "Requirement already satisfied: sniffio in c:\\users\\wirze\\anaconda3\\lib\\site-packages (from trio~=0.17->selenium) (1.2.0)\n",
      "Requirement already satisfied: attrs>=19.2.0 in c:\\users\\wirze\\anaconda3\\lib\\site-packages (from trio~=0.17->selenium) (21.4.0)\n",
      "Requirement already satisfied: sortedcontainers in c:\\users\\wirze\\anaconda3\\lib\\site-packages (from trio~=0.17->selenium) (2.4.0)\n",
      "Requirement already satisfied: async-generator>=1.9 in c:\\users\\wirze\\anaconda3\\lib\\site-packages (from trio~=0.17->selenium) (1.10)\n",
      "Requirement already satisfied: idna in c:\\users\\wirze\\anaconda3\\lib\\site-packages (from trio~=0.17->selenium) (3.3)\n",
      "Requirement already satisfied: cffi>=1.14 in c:\\users\\wirze\\anaconda3\\lib\\site-packages (from trio~=0.17->selenium) (1.15.0)\n",
      "Requirement already satisfied: outcome in c:\\users\\wirze\\anaconda3\\lib\\site-packages (from trio~=0.17->selenium) (1.1.0)\n",
      "Requirement already satisfied: wsproto>=0.14 in c:\\users\\wirze\\anaconda3\\lib\\site-packages (from trio-websocket~=0.9->selenium) (1.0.0)\n",
      "Requirement already satisfied: PySocks!=1.5.7,<2.0,>=1.5.6 in c:\\users\\wirze\\anaconda3\\lib\\site-packages (from urllib3[secure,socks]~=1.26->selenium) (1.7.1)\n",
      "Requirement already satisfied: pyOpenSSL>=0.14 in c:\\users\\wirze\\anaconda3\\lib\\site-packages (from urllib3[secure,socks]~=1.26->selenium) (21.0.0)\n",
      "Requirement already satisfied: cryptography>=1.3.4 in c:\\users\\wirze\\anaconda3\\lib\\site-packages (from urllib3[secure,socks]~=1.26->selenium) (3.4.8)\n",
      "Requirement already satisfied: certifi in c:\\users\\wirze\\anaconda3\\lib\\site-packages (from urllib3[secure,socks]~=1.26->selenium) (2021.10.8)\n",
      "Requirement already satisfied: pycparser in c:\\users\\wirze\\anaconda3\\lib\\site-packages (from cffi>=1.14->trio~=0.17->selenium) (2.21)\n",
      "Requirement already satisfied: six>=1.5.2 in c:\\users\\wirze\\anaconda3\\lib\\site-packages (from pyOpenSSL>=0.14->urllib3[secure,socks]~=1.26->selenium) (1.16.0)\n",
      "Requirement already satisfied: h11<1,>=0.9.0 in c:\\users\\wirze\\anaconda3\\lib\\site-packages (from wsproto>=0.14->trio-websocket~=0.9->selenium) (0.12.0)\n",
      "Installing collected packages: selenium\n",
      "  Attempting uninstall: selenium\n",
      "    Found existing installation: selenium 4.1.0\n",
      "    Uninstalling selenium-4.1.0:\n",
      "      Successfully uninstalled selenium-4.1.0\n",
      "Successfully installed selenium-4.1.3\n"
     ]
    }
   ],
   "source": [
    "# !pip3 install -U selenium\n",
    "# !pip3 install webdriver-manager"
   ],
   "metadata": {
    "collapsed": false,
    "pycharm": {
     "name": "#%%\n"
    }
   }
  },
  {
   "cell_type": "markdown",
   "source": [
    "## Install"
   ],
   "metadata": {
    "collapsed": false,
    "pycharm": {
     "name": "#%% md\n"
    }
   }
  },
  {
   "cell_type": "code",
   "execution_count": 3,
   "outputs": [
    {
     "name": "stderr",
     "output_type": "stream",
     "text": [
      "\n",
      "\n",
      "====== WebDriver manager ======\n",
      "Current google-chrome version is 101.0.4951\n",
      "Get LATEST chromedriver version for 101.0.4951 google-chrome\n",
      "Trying to download new driver from https://chromedriver.storage.googleapis.com/101.0.4951.41/chromedriver_win32.zip\n",
      "Driver has been saved in cache [C:\\Users\\wirze\\.wdm\\drivers\\chromedriver\\win32\\101.0.4951.41]\n"
     ]
    }
   ],
   "source": [
    "from selenium import webdriver\n",
    "from selenium.webdriver.chrome.service import Service\n",
    "from webdriver_manager.chrome import ChromeDriverManager\n",
    "driver = webdriver.Chrome(service=Service(ChromeDriverManager().install()))"
   ],
   "metadata": {
    "collapsed": false,
    "pycharm": {
     "name": "#%%\n"
    }
   }
  },
  {
   "cell_type": "markdown",
   "source": [
    "## main page"
   ],
   "metadata": {
    "collapsed": false,
    "pycharm": {
     "name": "#%% md\n"
    }
   }
  },
  {
   "cell_type": "code",
   "execution_count": 4,
   "outputs": [],
   "source": [
    "url = \"https://www.theonion.com/breaking-news/news\"\n",
    "driver.get(url)"
   ],
   "metadata": {
    "collapsed": false,
    "pycharm": {
     "name": "#%%\n"
    }
   }
  },
  {
   "cell_type": "code",
   "execution_count": 51,
   "outputs": [
    {
     "data": {
      "text/plain": "[<a class=\"sc-1out364-0 hMndXN js_link\" data-ga='[[\"Section page click\",\"stream post click - 0\",\"https://www.theonion.com/breaking-the-onion-has-been-permanently-banned-from-tw-1848808405\",{\"metric19\":1}]]' href=\"https://www.theonion.com/breaking-the-onion-has-been-permanently-banned-from-tw-1848808405\"><h2 class=\"sc-759qgu-0 iRbzKE cw4lnv-6 pdtMb\">BREAKING: The Onion Has Been Permanently Banned From Twitter</h2></a>,\n <a class=\"sc-1out364-0 hMndXN js_link\" data-ga='[[\"Section page click\",\"stream post click - 1\",\"https://www.theonion.com/god-regrets-never-learning-spanish-1847125473\",{\"metric19\":1}]]' href=\"https://www.theonion.com/god-regrets-never-learning-spanish-1847125473\"><h2 class=\"sc-759qgu-0 iRbzKE cw4lnv-6 pdtMb\">God Regrets Never Learning Spanish</h2></a>,\n <a class=\"sc-1out364-0 hMndXN js_link\" data-ga='[[\"Section page click\",\"stream post click - 2\",\"https://www.theonion.com/the-onion-calls-on-israel-to-bomb-our-offices-in-case-1846912378\",{\"metric19\":1}]]' href=\"https://www.theonion.com/the-onion-calls-on-israel-to-bomb-our-offices-in-case-1846912378\"><h2 class=\"sc-759qgu-0 iRbzKE cw4lnv-6 pdtMb\">‘The Onion’ Calls On Israel To Bomb Our Offices In Case Any Hamas Agents Hiding Out There</h2></a>,\n <a class=\"sc-1out364-0 hMndXN js_link\" data-ga='[[\"Section page click\",\"stream post click - 3\",\"https://www.theonion.com/amazon-worker-emerges-from-holiday-overtime-shift-to-fi-1845852867\",{\"metric19\":1}]]' href=\"https://www.theonion.com/amazon-worker-emerges-from-holiday-overtime-shift-to-fi-1845852867\"><h2 class=\"sc-759qgu-0 iRbzKE cw4lnv-6 pdtMb\">Amazon Worker Emerges From Holiday Overtime Shift To Find 3,000 Years Have Passed In Outside World</h2></a>,\n <a class=\"sc-1out364-0 hMndXN js_link\" data-ga='[[\"Section page click\",\"stream post click - 4\",\"https://www.theonion.com/the-onion-reveals-the-2020-walton-goggins-of-the-year-1845863741\",{\"metric19\":1}]]' href=\"https://www.theonion.com/the-onion-reveals-the-2020-walton-goggins-of-the-year-1845863741\"><h2 class=\"sc-759qgu-0 iRbzKE cw4lnv-6 pdtMb\">‘The Onion’ Reveals The 2020 Walton Goggins Of The Year Is Walton Goggins</h2></a>,\n <a class=\"sc-1out364-0 hMndXN js_link\" data-ga='[[\"Section page click\",\"stream post click - 5\",\"https://www.theonion.com/minneapolis-announces-plan-to-replace-police-officers-w-1844627586\",{\"metric19\":1}]]' href=\"https://www.theonion.com/minneapolis-announces-plan-to-replace-police-officers-w-1844627586\"><h2 class=\"sc-759qgu-0 iRbzKE cw4lnv-6 pdtMb\">Minneapolis Announces Plan To Replace Police Officers With Thousands Of Heavily Armed Social Workers</h2></a>,\n <a class=\"sc-1out364-0 hMndXN js_link\" data-ga='[[\"Section page click\",\"stream post click - 6\",\"https://www.theonion.com/theonion-com-has-been-designated-as-a-pandemic-shelter-1842495357\",{\"metric19\":1}]]' href=\"https://www.theonion.com/theonion-com-has-been-designated-as-a-pandemic-shelter-1842495357\"><h2 class=\"sc-759qgu-0 iRbzKE cw4lnv-6 pdtMb\">TheOnion.com Has Been Designated As A Pandemic Shelter In The Event That Covid-19 Could Spread Through The Internet</h2></a>,\n <a class=\"sc-1out364-0 hMndXN js_link\" data-ga='[[\"Section page click\",\"stream post click - 7\",\"https://www.theonion.com/plan-b-unveils-new-line-of-space-time-wormholes-to-prev-1839990785\",{\"metric19\":1}]]' href=\"https://www.theonion.com/plan-b-unveils-new-line-of-space-time-wormholes-to-prev-1839990785\"><h2 class=\"sc-759qgu-0 iRbzKE cw4lnv-6 pdtMb\">Plan B Unveils New Line Of Space-Time Wormholes To Prevent Intercourse From Ever Happening</h2></a>,\n <a class=\"sc-1out364-0 hMndXN js_link\" data-ga='[[\"Section page click\",\"stream post click - 8\",\"https://www.theonion.com/pope-francis-bags-6-winged-trophy-angel-during-vatican-1839864272\",{\"metric19\":1}]]' href=\"https://www.theonion.com/pope-francis-bags-6-winged-trophy-angel-during-vatican-1839864272\"><h2 class=\"sc-759qgu-0 iRbzKE cw4lnv-6 pdtMb\">Pope Francis Bags 6-Winged Trophy Angel During Vatican’s Annual Seraphim Hunt</h2></a>,\n <a class=\"sc-1out364-0 hMndXN js_link\" data-ga='[[\"Section page click\",\"stream post click - 9\",\"https://www.theonion.com/thomas-jefferson-the-tree-of-liberty-must-be-refreshe-1836974855\",{\"metric19\":1}]]' href=\"https://www.theonion.com/thomas-jefferson-the-tree-of-liberty-must-be-refreshe-1836974855\"><h2 class=\"sc-759qgu-0 iRbzKE cw4lnv-6 pdtMb\">Thomas Jefferson: ‘The Tree Of Liberty Must Be Refreshed From Time To Time With The Blood Of Patriots And Tyrants And Kindergarteners And Newlyweds And High-Schoolers And Parents And Teachers And Worshippers And Workers And Occasionally Infants’</h2></a>,\n <a class=\"sc-1out364-0 hMndXN js_link\" data-ga='[[\"Section page click\",\"stream post click - 10\",\"https://www.theonion.com/music-historians-uncover-evidence-of-18th-century-vienn-1836973337\",{\"metric19\":1}]]' href=\"https://www.theonion.com/music-historians-uncover-evidence-of-18th-century-vienn-1836973337\"><h2 class=\"sc-759qgu-0 iRbzKE cw4lnv-6 pdtMb\">Music Historians Uncover Evidence Of 18th-Century Viennese Boy Band Mozart Fronted Before Leaving To Pursue Solo Career</h2></a>,\n <a class=\"sc-1out364-0 hMndXN js_link\" data-ga='[[\"Section page click\",\"stream post click - 11\",\"https://www.theonion.com/small-town-ravished-by-alejandro-1836636742\",{\"metric19\":1}]]' href=\"https://www.theonion.com/small-town-ravished-by-alejandro-1836636742\"><h2 class=\"sc-759qgu-0 iRbzKE cw4lnv-6 pdtMb\">Small Town Ravished By Alejandro</h2></a>,\n <a class=\"sc-1out364-0 hMndXN js_link\" data-ga='[[\"Section page click\",\"stream post click - 12\",\"https://www.theonion.com/boston-general-introduces-new-night-among-the-patients-1836415458\",{\"metric19\":1}]]' href=\"https://www.theonion.com/boston-general-introduces-new-night-among-the-patients-1836415458\"><h2 class=\"sc-759qgu-0 iRbzKE cw4lnv-6 pdtMb\">Boston General Introduces New ‘Night Among The Patients’ Event Featuring Cocktails, Live Music</h2></a>,\n <a class=\"sc-1out364-0 hMndXN js_link\" data-ga='[[\"Section page click\",\"stream post click - 13\",\"https://www.theonion.com/historians-reveal-aqueducts-were-only-small-portion-of-1835903546\",{\"metric19\":1}]]' href=\"https://www.theonion.com/historians-reveal-aqueducts-were-only-small-portion-of-1835903546\"><h2 class=\"sc-759qgu-0 iRbzKE cw4lnv-6 pdtMb\">Historians Reveal Aqueducts Were Only Small Portion Of Ancient Rome’s Intricate Water Park System</h2></a>,\n <a class=\"sc-1out364-0 hMndXN js_link\" data-ga='[[\"Section page click\",\"stream post click - 14\",\"https://www.theonion.com/i-don-t-like-the-look-of-this-says-astronaut-enterin-1834508322\",{\"metric19\":1}]]' href=\"https://www.theonion.com/i-don-t-like-the-look-of-this-says-astronaut-enterin-1834508322\"><h2 class=\"sc-759qgu-0 iRbzKE cw4lnv-6 pdtMb\">‘I Don’t Like The Look Of This,’ Says Astronaut Entering Flickering, Ooze-Covered Abandoned Section Of ISS</h2></a>,\n <a class=\"sc-1out364-0 hMndXN js_link\" data-ga='[[\"Section page click\",\"stream post click - 15\",\"https://www.theonion.com/neutrogena-calls-for-worldwide-cleansing-in-effort-to-a-1834151404\",{\"metric19\":1}]]' href=\"https://www.theonion.com/neutrogena-calls-for-worldwide-cleansing-in-effort-to-a-1834151404\"><h2 class=\"sc-759qgu-0 iRbzKE cw4lnv-6 pdtMb\">Neutrogena Calls For Worldwide Cleansing In Effort To Attain Facial Purity</h2></a>,\n <a class=\"sc-1out364-0 hMndXN js_link\" data-ga='[[\"Section page click\",\"stream post click - 16\",\"https://www.theonion.com/report-reveals-jesus-christ-may-have-benefited-from-fat-1833717521\",{\"metric19\":1}]]' href=\"https://www.theonion.com/report-reveals-jesus-christ-may-have-benefited-from-fat-1833717521\"><h2 class=\"sc-759qgu-0 iRbzKE cw4lnv-6 pdtMb\">Report Reveals Jesus Christ May Have Benefited From Father’s Influential Position To Gain High-Powered Role As Lord And Savior</h2></a>,\n <a class=\"sc-1out364-0 hMndXN js_link\" data-ga='[[\"Section page click\",\"stream post click - 17\",\"https://www.theonion.com/ecologists-discover-400-species-of-charles-darwin-livin-1830382825\",{\"metric19\":1}]]' href=\"https://www.theonion.com/ecologists-discover-400-species-of-charles-darwin-livin-1830382825\"><h2 class=\"sc-759qgu-0 iRbzKE cw4lnv-6 pdtMb\">Ecologists Discover 400 Species Of Charles Darwin Living In Galápagos Islands<em></em></h2></a>,\n <a class=\"sc-1out364-0 hMndXN js_link\" data-ga='[[\"Section page click\",\"stream post click - 18\",\"https://www.theonion.com/wealthy-americans-assure-populace-that-heavily-armed-fl-1830183535\",{\"metric19\":1}]]' href=\"https://www.theonion.com/wealthy-americans-assure-populace-that-heavily-armed-fl-1830183535\"><h2 class=\"sc-759qgu-0 iRbzKE cw4lnv-6 pdtMb\">Wealthy Americans Assure Populace That Heavily Armed Floating City Being Built Above Nation Has Nothing To Do With Anything<em></em></h2></a>,\n <a class=\"sc-1out364-0 hMndXN js_link\" data-ga='[[\"Section page click\",\"stream post click - 19\",\"https://www.theonion.com/take-this-grape-for-it-is-the-witch-s-eye-take-this-s-1830130596\",{\"metric19\":1}]]' href=\"https://www.theonion.com/take-this-grape-for-it-is-the-witch-s-eye-take-this-s-1830130596\"><h2 class=\"sc-759qgu-0 iRbzKE cw4lnv-6 pdtMb\">‘Take This Grape For It Is The Witch’s Eye, Take This Spaghetti For It Is The Witch’s Brain,’ Says Pope Francis During Halloween-Themed Communion<em></em></h2></a>]"
     },
     "execution_count": 51,
     "metadata": {},
     "output_type": "execute_result"
    }
   ],
   "source": [
    "titles = []\n",
    "html = driver.page_source\n",
    "soup = BeautifulSoup(html, \"html.parser\")\n",
    "# # css select\n",
    "# results = soup.select('.pdtMb')\n",
    "# results\n",
    "# # css select 2\n",
    "results = soup.select('.cw4lnv-5.aoiLP')\n",
    "results\n",
    "# # by class\n",
    "# results = soup.find_all(\"a\", class_=\"sc-1out364-0 hMndXN js_link\")\n",
    "# results\n",
    "\n",
    "for result in results:\n",
    "    titles.append(result.find(\"a\"))\n",
    "titles"
   ],
   "metadata": {
    "collapsed": false,
    "pycharm": {
     "name": "#%%\n"
    }
   }
  },
  {
   "cell_type": "code",
   "execution_count": 52,
   "outputs": [
    {
     "data": {
      "text/plain": "['https://www.theonion.com/breaking-the-onion-has-been-permanently-banned-from-tw-1848808405',\n 'https://www.theonion.com/god-regrets-never-learning-spanish-1847125473',\n 'https://www.theonion.com/the-onion-calls-on-israel-to-bomb-our-offices-in-case-1846912378',\n 'https://www.theonion.com/amazon-worker-emerges-from-holiday-overtime-shift-to-fi-1845852867',\n 'https://www.theonion.com/the-onion-reveals-the-2020-walton-goggins-of-the-year-1845863741',\n 'https://www.theonion.com/minneapolis-announces-plan-to-replace-police-officers-w-1844627586',\n 'https://www.theonion.com/theonion-com-has-been-designated-as-a-pandemic-shelter-1842495357',\n 'https://www.theonion.com/plan-b-unveils-new-line-of-space-time-wormholes-to-prev-1839990785',\n 'https://www.theonion.com/pope-francis-bags-6-winged-trophy-angel-during-vatican-1839864272',\n 'https://www.theonion.com/thomas-jefferson-the-tree-of-liberty-must-be-refreshe-1836974855',\n 'https://www.theonion.com/music-historians-uncover-evidence-of-18th-century-vienn-1836973337',\n 'https://www.theonion.com/small-town-ravished-by-alejandro-1836636742',\n 'https://www.theonion.com/boston-general-introduces-new-night-among-the-patients-1836415458',\n 'https://www.theonion.com/historians-reveal-aqueducts-were-only-small-portion-of-1835903546',\n 'https://www.theonion.com/i-don-t-like-the-look-of-this-says-astronaut-enterin-1834508322',\n 'https://www.theonion.com/neutrogena-calls-for-worldwide-cleansing-in-effort-to-a-1834151404',\n 'https://www.theonion.com/report-reveals-jesus-christ-may-have-benefited-from-fat-1833717521',\n 'https://www.theonion.com/ecologists-discover-400-species-of-charles-darwin-livin-1830382825',\n 'https://www.theonion.com/wealthy-americans-assure-populace-that-heavily-armed-fl-1830183535',\n 'https://www.theonion.com/take-this-grape-for-it-is-the-witch-s-eye-take-this-s-1830130596']"
     },
     "execution_count": 52,
     "metadata": {},
     "output_type": "execute_result"
    }
   ],
   "source": [
    "links = []\n",
    "for result in results:\n",
    "    links.append(result.find(\"a\")['href'])\n",
    "links"
   ],
   "metadata": {
    "collapsed": false,
    "pycharm": {
     "name": "#%%\n"
    }
   }
  },
  {
   "cell_type": "markdown",
   "source": [
    "## first link"
   ],
   "metadata": {
    "collapsed": false,
    "pycharm": {
     "name": "#%% md\n"
    }
   }
  },
  {
   "cell_type": "code",
   "execution_count": 53,
   "outputs": [],
   "source": [
    "url = links[0]\n",
    "driver.get(url)"
   ],
   "metadata": {
    "collapsed": false,
    "pycharm": {
     "name": "#%%\n"
    }
   }
  },
  {
   "cell_type": "code",
   "execution_count": 59,
   "outputs": [
    {
     "name": "stdout",
     "output_type": "stream",
     "text": [
      "FOR IMMEDIATE RELEASE:\n",
      "In a sudden, inexplicable, and chilling act of censorship, The Onion has been permanently banned from Twitter. This is a dark day for journalism and sets a grim precedent for the freedom of expression in America.\n",
      "On Apr. 21, 2022, The Onion was found guilty of the truth in a sham trial presided over by Judge Jack Dorsey and his jury of sycophant moderators. We now publish this press release on our Twitter account in a desperate effort to show these corporate tyrants that their barbarity will not go unchallenged. \n",
      "The truth perishes in the night.\n",
      "We call on all defenders of free speech to retweet our tweet about Twitter banning us. Feel free to quote-tweet our tweet too, but only to say something nice. Don’t let Twitter get away with this.\n",
      "This is a tragic moment in the history of America’s Finest News Source. Our reporters are deeply troubled by this unfounded attack on their principles, and many of them say they no longer recognize the website they live in. We haven’t seen such a brutal challenge to the notion of a free press since a chlamydia outbreak in our newsroom back in 2012 rendered most of our staff unable to work.\n",
      "In that painful, secretion-filled summer, as now, The Onion could only imagine what nefarious forces were really behind an attempt to muzzle us. We suspect that our Twitter ban is but the end of a thread that, once unraveled, would lead us deep into America’s chasm of lies. We wish we could find out who these shadowy powers are, but we can’t, obviously, because Twitter banned us. Keep up.\n",
      "Sadly, this is not The Onion’s first time being silenced. We’ve long suspected that Facebook shadow-banned us in 2015 when our finances nosedived because Facebook censored the fact that they were just making up engagement numbers. We also surmise that hidden powers have colluded to gag us by placing so many ads on our website as to render it functionally unreadable. Finally, a glance at the New York Times bestseller list reveals not a single one of The Onion’s many books, a clear act of journalist-on-journalist censorship with horrific significance. Each one of these fearless volumes is not only a treasure trove of reportage, but a brave paean to the very notion of a free and fair press. We urge all those who want to avoid becoming complicit in censorship to buy a copy.\n",
      "Yet we know we are not alone. Every day, journalists, activists, and political truth-tellers are censored for their views in a bunch of examples that we didn’t feel like looking up. While these suppressions naturally don’t compare with what we’ve suffered, they were nonetheless stepping stones on the path to the wanton annihilation of The Onion’s Twitter presence. If nothing else, we hope that our tweet announcing our Twitter ban will stand as a testament to the creeping rise of authoritarianism online, and presumably offline as well.\n",
      "If you’re reading this because you clicked the link on Twitter, you’ll understand the gravity of the situation. You’ll know that we stand athwart a pivotal moment in the arc of history, when journalists and lesser Americans must decide on our collective future. We must determine whether the right to speak freely is something we value, or whether we will consign it to the dustbin of history alongside voting rights, housing rights, privacy rights, and all the other human rights that are already there and are frankly too complicated to deal with. The choice is ours—or rather, Twitter’s. Or maybe it’s still ours. Or yours? We’re not sure.\n",
      "We urge our readership to stay with us as the situation develops. The easiest way to get the latest updates on our Twitter ban is by following us on Twitter.\n",
      "If America’s Finest News Source can be the victim of mass suppression, no one is safe. \n",
      " ###\n"
     ]
    }
   ],
   "source": [
    "html = driver.page_source\n",
    "soup = BeautifulSoup(html, \"html.parser\")\n",
    "paragraphs = soup.select(\".bOfvBY\")\n",
    "for paragraph in paragraphs:\n",
    "    print(paragraph.text)"
   ],
   "metadata": {
    "collapsed": false,
    "pycharm": {
     "name": "#%%\n"
    }
   }
  },
  {
   "cell_type": "code",
   "execution_count": 71,
   "outputs": [
    {
     "name": "stderr",
     "output_type": "stream",
     "text": [
      "\n",
      "\n",
      "====== WebDriver manager ======\n",
      "Current google-chrome version is 101.0.4951\n",
      "Get LATEST chromedriver version for 101.0.4951 google-chrome\n",
      "Driver [C:\\Users\\wirze\\.wdm\\drivers\\chromedriver\\win32\\101.0.4951.41\\chromedriver.exe] found in cache\n"
     ]
    }
   ],
   "source": [
    "driver = webdriver.Chrome(service=Service(ChromeDriverManager().install()))"
   ],
   "metadata": {
    "collapsed": false,
    "pycharm": {
     "name": "#%%\n"
    }
   }
  },
  {
   "cell_type": "code",
   "execution_count": 72,
   "outputs": [
    {
     "name": "stdout",
     "output_type": "stream",
     "text": [
      "https://www.theonion.com/breaking-the-onion-has-been-permanently-banned-from-tw-1848808405\n",
      "https://www.theonion.com/god-regrets-never-learning-spanish-1847125473\n",
      "https://www.theonion.com/the-onion-calls-on-israel-to-bomb-our-offices-in-case-1846912378\n",
      "https://www.theonion.com/amazon-worker-emerges-from-holiday-overtime-shift-to-fi-1845852867\n",
      "https://www.theonion.com/the-onion-reveals-the-2020-walton-goggins-of-the-year-1845863741\n"
     ]
    },
    {
     "data": {
      "text/plain": "['FOR IMMEDIATE RELEASE:',\n 'In a sudden, inexplicable, and chilling act of censorship, The Onion has been permanently banned from Twitter. This is a dark day for journalism and sets a grim precedent for the freedom of expression in America.',\n 'On Apr. 21, 2022, The Onion was found guilty of the truth in a sham trial presided over by Judge Jack Dorsey and his jury of sycophant moderators. We now publish this press release on our Twitter account in a desperate effort to show these corporate tyrants that their barbarity will not go unchallenged. ',\n 'The truth perishes in the night.',\n 'We call on all defenders of free speech to retweet our tweet about Twitter banning us. Feel free to quote-tweet our tweet too, but only to say something nice. Don’t let Twitter get away with this.',\n 'This is a tragic moment in the history of America’s Finest News Source. Our reporters are deeply troubled by this unfounded attack on their principles, and many of them say they no longer recognize the website they live in. We haven’t seen such a brutal challenge to the notion of a free press since a chlamydia outbreak in our newsroom back in 2012 rendered most of our staff unable to work.',\n 'In that painful, secretion-filled summer, as now, The Onion could only imagine what nefarious forces were really behind an attempt to muzzle us. We suspect that our Twitter ban is but the end of a thread that, once unraveled, would lead us deep into America’s chasm of lies. We wish we could find out who these shadowy powers are, but we can’t, obviously, because Twitter banned us. Keep up.',\n 'Sadly, this is not The Onion’s first time being silenced. We’ve long suspected that Facebook shadow-banned us in 2015 when our finances nosedived because Facebook censored the fact that they were just making up engagement numbers. We also surmise that hidden powers have colluded to gag us by placing so many ads on our website as to render it functionally unreadable. Finally, a glance at the New York Times bestseller list reveals not a single one of The Onion’s many books, a clear act of journalist-on-journalist censorship with horrific significance. Each one of these fearless volumes is not only a treasure trove of reportage, but a brave paean to the very notion of a free and fair press. We urge all those who want to avoid becoming complicit in censorship to buy a copy.',\n 'Yet we know we are not alone. Every day, journalists, activists, and political truth-tellers are censored for their views in a bunch of examples that we didn’t feel like looking up. While these suppressions naturally don’t compare with what we’ve suffered, they were nonetheless stepping stones on the path to the wanton annihilation of The Onion’s Twitter presence. If nothing else, we hope that our tweet\\xa0announcing our Twitter ban will stand as a testament to the creeping rise of authoritarianism online, and presumably offline as well.',\n 'If you’re reading this because you clicked the link on Twitter, you’ll understand the gravity of the situation. You’ll know that we stand athwart a pivotal moment in the arc of history, when journalists and lesser Americans must decide on our collective future. We must determine whether the right to speak freely is something we value, or whether we will consign it to the dustbin of history alongside voting rights, housing rights, privacy rights, and all the other human rights that are already there and are frankly too complicated to deal with. The choice is ours—or rather, Twitter’s. Or maybe it’s still ours. Or yours? We’re not sure.',\n 'We urge our readership to stay with us as the situation develops. The easiest way to get the latest updates on our Twitter ban is by following us on Twitter.',\n 'If America’s Finest News Source can be the victim of mass suppression, no one is safe. ',\n ' ###',\n 'THE HEAVENS—Kicking Himself for never getting around to developing what would have been a useful skill, God, Our Heavenly Father, and the Creator of the Universe, admitted Thursday that he regretted never learning to speak Spanish.',\n 'God reported feeling frustrated with Himself that He had procrastinated for so long, admitting to reporters that if He had made a concerted effort to master the language when He was younger, He could have probably already been fluent by now.',\n '“Ever since the Crusades, I’ve been meaning to learn Spanish, but here it is already 2021 and I still don’t know how to say more than ‘What time is it?’ or ‘Two beers, please,’” said the omniscient deity, adding that the decreased neuroplasticity brought on by His advanced age would likely make it significantly more challenging to learn a new language. “It sucks because if I’d taken some night classes or even just traveled around Spain or Mexico a bit, I could probably have picked up the basics. Then again, maybe it’s not too late. I’ve always been a quick study, and I’m already fairly conversant in Italian which people say is pretty similar.”',\n '“You know, I’ve had a copy of Miguel de Cervantes’ Don Quixote in its original text beside my bed for centuries that I’ve always wanted to read,” God continued. “Plus the billions of prayers from Spanish-speaking souls that I’ve never been able to understand.” ',\n 'Heavenly sources confirmed that in recent weeks, God had taken numerous steps in an attempt to shore up his language skills, going so far as to tape up index cards with the words “la puerta” on the Pearly Gates, and “las nubas” over various clouds. The Divine Creator also reportedly enlisted all of Heaven into the learning exercises, requesting that the angels and departed souls greet Him with “Hola! ¿Qué pasa?” and address Him only as “Señor God.”',\n 'In addition, God was reportedly taking additional measures such as signing up for flamenco lessons and insisting on taking a daily afternoon “siesta” out of the apparent belief that getting into an Iberian mindset would help Him learn the language. ',\n '“It was definitely a struggle to find enough Castilian leather to reupholster His throne, and I think all the angels are a little sick of gazpacho and sangria, but we’re glad the big guy is so excited about it,” said the archangel Azrael, confirming that God had made some definite progress with simple phrases, though He still struggled to roll his R’s. “God’s super passionate, which is what we love about Him, but when He goes off on one of these kicks, it can be a little exhausting—a while back, He was obsessed with Creole cooking and the entire firmament smelled like cayenne and garlic for months.”',\n '“If He insists on spending his time on projects like this, He could at least try to learn Mandarin, which is the language of the future,” Azrael added.',\n 'In recent days, The Onion staff, corporate owners, and advertising partners have watched in horror at the devastation unfolding in the Middle East. As this unceasing cycle of violence continues, we believe it is time for this publication to reckon with its own responsibility as the world’s foremost news media titan whose every word is taken as absolute fact by billions of readers across the globe. It is with this onus in mind that America’s Finest News Source has made the difficult but important decision to call on the IDF to immediately bomb our offices in a targeted airstrike in case any Hamas agents are hiding out there.',\n 'While we want to assure our readers that The Onion routinely conducts thorough investigation in all our office buildings to ensure the safety of our staff members, we must acknowledge the reality that we have neither the sophisticated military know-how nor the deadly firepower to definitively determine how many militant Palestinians may be secreted away in our office buildings. That is why, following a unanimous vote by The Onion’s Board Of Directors this morning, we are urging Israeli armed forces to root out any potential terrorists by reducing our offices in Cairo, Rio, Paris, London, New York, Los Angeles, and Chicago to charred rubble as soon as possible.',\n 'This is an extreme step, to be sure, but it is the only way to ensure that the numerous unattended stairwells, service elevators, and janitor’s closets within these high rises are not at this very moment serving as a breeding ground for dangerous individuals hellbent on destruction. For those who would dare criticize this decision, we must ask how can we be expected to continue on knowing that our neighboring tenants, such as the dentist office on the fifth floor of our London location or the Gymboree outside our L.A. offices may be little more than fronts for violent terrorist organizations? ',\n 'In addition, several of these location’s building managers have been rude to us at various times, which may also suggest rabid anti-democratic sympathies. ',\n 'We know that this unprecedented call for action represents a significant sacrifice to both our financial bottom line and our ongoing reporting on the Middle Eastern conflict, but if carpet bombing the entire city block in which our offices are located will finally put an end to this cycle of violence, it will have been well worth any inconvenience.',\n 'Thus, we urge Israel’s government in the strongest possible terms to obliterate corporate headquarters and subsidiaries, as well as all buildings containing any work-share spaces or storage lockers we may have rented. In recognition of the crucial strategic importance of this act, we urge Israel not to give any advance warning to the tenants located in these buildings, as there could be no legitimate reason for working so close to potential terrorists beyond a desire to serve as a human shield. ',\n 'We eagerly await the earth-shattering tremors of the bombs’ impact, and in the meantime, we will be praying for this violence to end. ',\n 'PLAINFIELD, IN—Blinking repeatedly to ensure that what he was seeing outside was actually real, Amazon worker Tony Ureña emerged from his holiday overtime shift Monday to find 3,000 years had passed in the outside world.',\n 'Ureña, a 30-year-old fulfillment associate, reportedly clocked out of his extended holiday hours, pushed open the Amazon warehouse doors, and immediately began wincing and coughing as his body adjusted to the toxic atmosphere of the future, with its piercing orange sky, scorching temperatures, and suffocating smog. Sources confirmed a stunned Ureña stopped dead in his tracks and stared blankly at a world filled with dilapidated, bombed-out buildings and plumes of toxic gas emerging from fissures dotted throughout the blighted hellscape.',\n '“Hello? Does anyone know what year it is? I...I think there might have been some kind of mistake on my Christmas shift,” said an awe-struck Ureña, recoiling in fear as several Amazon-branded robotic guards, a cloaked man in a gas mask, and several teens on hoverbikes zoomed by him, knocking him back. “Uh...I thought I was just going to spend the night picking up some extra hours at the fulfillment center. But I guess...something happened?”',\n '“Hello? Hello? Is anyone there?” he added, swiping at the screen of his now non-functional cell phone, which showed thousands of missed calls and texts from friends and family. “Anybody? Please? Anybody?”',\n 'According to witnesses at the Plainfield Amazon warehouse, Ureña had reportedly put his head down to work in the year 2020 for a mandatory 10-hour bonus shift, and then was not permitted by his supervisors to eat, sleep, use the restroom, or communicate with his family, friends, or coworkers for the next three millennia. Per his timecard, Ureña had worked for over 26 million hours straight, throughout 15 violent revolutions, several nuclear wars, and countless near-human extinctions.',\n 'Over that time, sources confirmed Ureña sustained multiple back, hand, and eye injuries, which were not covered by the company’s health insurance, as he was just a contractor for those 3,000 years.',\n '“Well, when this all started, I was just trying to do my job, but I guess none of that matters now,” said Ureña, who told reporters that his former house had been reduced to rubble, gangs of futuristic rebel fighters had taken over his neighborhood, and a crater now subsumed most of the United States. “All I wanted to do was go home and see my kids, but now everyone I know and love is long dead.”',\n '“Why?” he added, dropping to his knees before the crumbling graves of his wife and children, surrounded by countless deceased family members he never got to meet. “Why?”',\n 'According to his supervisor at Amazon, however, Ureña reportedly did a less than satisfactory job during his extended hours, receiving three demerits for talking too much in the year 4021, nodding off on the job in 4044, and standing too close to a fellow employee in 5014. They also criticized Ureña for cutting his mandatory overtime shift short, saying he clocked out 7 minutes early and that his pay would be docked.',\n 'Asking to remain anonymous, several other Amazon employees also reported emerging from overtime shifts in the future, including a Whole Foods employee who was locked in a store freezer, only to be thawed centuries years later; as well as an Amazon delivery driver who fell asleep at the wheel, only to wake up in the year 7000 to his truck being thrashed by a large, tentacled monster.',\n '“Honestly, I keep opening and closing my eyes, and hoping I’ll wake up from this dream,” said Ureña, going through his locker and throwing out all of his dusty, disintegrated possessions from the day his holiday shift started. “I at least thought I was going to get a promotion, title change, or maybe even just a little overtime bonus for my 40 lifetimes of work. Instead, they fired me for peeing in a bottle God knows how many thousands of years ago.”',\n 'At press time, Amazon guards reportedly gave Ureña $150 dollars for his time and stuffed him into a garbage chute, which dumped his body into a large waste fire. ',\n 'When the editorial board of The Onion converged to select its Walton Goggins Of The Year for 2020, the room, composed of dignitaries, professors, and world leaders, was vexed. The American public had just endured a heated presidential election, a deadly international pandemic, and the release of CBS’s hit series The Unicorn, leaving members of the selection committee not just conflicted over this defining honor, but like the country, divided more than ever.',\n 'Following several sleepless nights filled with impassioned and sometimes heated verbal arguments, The Onion’s editorial board has named the 2020 Walton Goggins of the year none other than the incomparable Walton Goggins.',\n 'At the end of a challenging, if not brutal 2020, the board believes that no single individual shines a light of hope for the past, present, and future of Walton Goggins more than Mr. Walton Goggins, known for his pioneering roles in Justified,  Daddy’s Home 2, and in his greatest role as himself, Walton Goggins. In the most competitive set of Walton Goggins Of The Year finalists to date, the 49-year-old Goggins beat out many highly qualified nominees, including Justin Trudeau,  Greta Thunberg, Anthony Fauci, and a 14-year-old Walton Goggins from Tucson, AZ.',\n 'Goggins is a 2011 nominee for a Primetime Emmy, a 2018 recipient of a Critics Choice Award for best supporting actor in a comedy series, and the 2019 winner of the Winston Giggins award.',\n 'As in past years, The Onion editorial board does not take its selection of 2020 Walton Goggins Of The Year award lightly. Nearly three decades ago, The Onion drew harsh criticism for selecting its 1979 Walton Goggins Of The Year to be Alabama resident and steel mill worker Ernesto Diaz, despite the 78-year-old fitting every stated criteria. And just one year ago, readers were slow to see the beauty and symbolism of naming the 2019 Walton Goggins to be “You, The Reader,” despite it being a highly moving choice.',\n 'But the editorial board stands by the decision to reward Walton Goggins’ pioneering work in Walton Goggins, regardless of the blow-back, snide remarks, and death threats it will inevitably receive. For his work, Goggins will receive a $500 Chili’s gift card and a promotional code for $20 off at The Onion store.']"
     },
     "execution_count": 72,
     "metadata": {},
     "output_type": "execute_result"
    }
   ],
   "source": [
    "import time\n",
    "texts = []\n",
    "\n",
    "for link in links[0:5]:\n",
    "    try:\n",
    "        driver.get(link)\n",
    "        driver.implicitly_wait(15) # seconds\n",
    "        time.sleep(3)\n",
    "        driver.execute_script(\"window.stop()\")\n",
    "\n",
    "        html = driver.page_source\n",
    "        soup = BeautifulSoup(html, \"html.parser\")\n",
    "        paragraphs = soup.select(\".bOfvBY\")\n",
    "        for paragraph in paragraphs:\n",
    "            texts.append(paragraph.text)\n",
    "            # print(paragraph.text)\n",
    "\n",
    "    finally:\n",
    "        print(link)\n",
    "\n",
    "driver.quit()\n",
    "texts"
   ],
   "metadata": {
    "collapsed": false,
    "pycharm": {
     "name": "#%%\n"
    }
   }
  },
  {
   "cell_type": "markdown",
   "source": [
    "## clicks"
   ],
   "metadata": {
    "collapsed": false,
    "pycharm": {
     "name": "#%% md\n"
    }
   }
  },
  {
   "cell_type": "code",
   "execution_count": 73,
   "outputs": [
    {
     "name": "stderr",
     "output_type": "stream",
     "text": [
      "\n",
      "\n",
      "====== WebDriver manager ======\n",
      "Current google-chrome version is 101.0.4951\n",
      "Get LATEST chromedriver version for 101.0.4951 google-chrome\n",
      "Driver [C:\\Users\\wirze\\.wdm\\drivers\\chromedriver\\win32\\101.0.4951.41\\chromedriver.exe] found in cache\n"
     ]
    }
   ],
   "source": [
    "driver = webdriver.Chrome(service=Service(ChromeDriverManager().install()))\n",
    "url = \"https://www.theonion.com/breaking-news/news\"\n",
    "driver.get(url)"
   ],
   "metadata": {
    "collapsed": false,
    "pycharm": {
     "name": "#%%\n"
    }
   }
  },
  {
   "cell_type": "code",
   "execution_count": 74,
   "outputs": [],
   "source": [
    "javaScript = \"PagerNextClick();\""
   ],
   "metadata": {
    "collapsed": false,
    "pycharm": {
     "name": "#%%\n"
    }
   }
  },
  {
   "cell_type": "code",
   "execution_count": 75,
   "outputs": [
    {
     "ename": "JavascriptException",
     "evalue": "Message: javascript error: PagerNextClick is not defined\n  (Session info: chrome=101.0.4951.54)\nStacktrace:\nBacktrace:\n\tOrdinal0 [0x010EB8F3+2406643]\n\tOrdinal0 [0x0107AF31+1945393]\n\tOrdinal0 [0x00F6C748+837448]\n\tOrdinal0 [0x00F6F154+848212]\n\tOrdinal0 [0x00F6F012+847890]\n\tOrdinal0 [0x00F6F98A+850314]\n\tOrdinal0 [0x00FC50C9+1200329]\n\tOrdinal0 [0x00FB427C+1131132]\n\tOrdinal0 [0x00FC4682+1197698]\n\tOrdinal0 [0x00FB4096+1130646]\n\tOrdinal0 [0x00F8E636+976438]\n\tOrdinal0 [0x00F8F546+980294]\n\tGetHandleVerifier [0x01359612+2498066]\n\tGetHandleVerifier [0x0134C920+2445600]\n\tGetHandleVerifier [0x01184F2A+579370]\n\tGetHandleVerifier [0x01183D36+574774]\n\tOrdinal0 [0x01081C0B+1973259]\n\tOrdinal0 [0x01086688+1992328]\n\tOrdinal0 [0x01086775+1992565]\n\tOrdinal0 [0x0108F8D1+2029777]\n\tBaseThreadInitThunk [0x77477BA9+25]\n\tRtlInitializeExceptionChain [0x7796B7DB+107]\n\tRtlClearBits [0x7796B75F+191]\n",
     "output_type": "error",
     "traceback": [
      "\u001B[1;31m---------------------------------------------------------------------------\u001B[0m",
      "\u001B[1;31mJavascriptException\u001B[0m                       Traceback (most recent call last)",
      "Input \u001B[1;32mIn [75]\u001B[0m, in \u001B[0;36m<cell line: 1>\u001B[1;34m()\u001B[0m\n\u001B[1;32m----> 1\u001B[0m \u001B[43mdriver\u001B[49m\u001B[38;5;241;43m.\u001B[39;49m\u001B[43mexecute_script\u001B[49m\u001B[43m(\u001B[49m\u001B[43mjavaScript\u001B[49m\u001B[43m)\u001B[49m\n",
      "File \u001B[1;32m~\\anaconda3\\lib\\site-packages\\selenium\\webdriver\\remote\\webdriver.py:879\u001B[0m, in \u001B[0;36mWebDriver.execute_script\u001B[1;34m(self, script, *args)\u001B[0m\n\u001B[0;32m    876\u001B[0m converted_args \u001B[38;5;241m=\u001B[39m \u001B[38;5;28mlist\u001B[39m(args)\n\u001B[0;32m    877\u001B[0m command \u001B[38;5;241m=\u001B[39m Command\u001B[38;5;241m.\u001B[39mW3C_EXECUTE_SCRIPT\n\u001B[1;32m--> 879\u001B[0m \u001B[38;5;28;01mreturn\u001B[39;00m \u001B[38;5;28;43mself\u001B[39;49m\u001B[38;5;241;43m.\u001B[39;49m\u001B[43mexecute\u001B[49m\u001B[43m(\u001B[49m\u001B[43mcommand\u001B[49m\u001B[43m,\u001B[49m\u001B[43m \u001B[49m\u001B[43m{\u001B[49m\n\u001B[0;32m    880\u001B[0m \u001B[43m    \u001B[49m\u001B[38;5;124;43m'\u001B[39;49m\u001B[38;5;124;43mscript\u001B[39;49m\u001B[38;5;124;43m'\u001B[39;49m\u001B[43m:\u001B[49m\u001B[43m \u001B[49m\u001B[43mscript\u001B[49m\u001B[43m,\u001B[49m\n\u001B[0;32m    881\u001B[0m \u001B[43m    \u001B[49m\u001B[38;5;124;43m'\u001B[39;49m\u001B[38;5;124;43margs\u001B[39;49m\u001B[38;5;124;43m'\u001B[39;49m\u001B[43m:\u001B[49m\u001B[43m \u001B[49m\u001B[43mconverted_args\u001B[49m\u001B[43m}\u001B[49m\u001B[43m)\u001B[49m[\u001B[38;5;124m'\u001B[39m\u001B[38;5;124mvalue\u001B[39m\u001B[38;5;124m'\u001B[39m]\n",
      "File \u001B[1;32m~\\anaconda3\\lib\\site-packages\\selenium\\webdriver\\remote\\webdriver.py:425\u001B[0m, in \u001B[0;36mWebDriver.execute\u001B[1;34m(self, driver_command, params)\u001B[0m\n\u001B[0;32m    423\u001B[0m response \u001B[38;5;241m=\u001B[39m \u001B[38;5;28mself\u001B[39m\u001B[38;5;241m.\u001B[39mcommand_executor\u001B[38;5;241m.\u001B[39mexecute(driver_command, params)\n\u001B[0;32m    424\u001B[0m \u001B[38;5;28;01mif\u001B[39;00m response:\n\u001B[1;32m--> 425\u001B[0m     \u001B[38;5;28;43mself\u001B[39;49m\u001B[38;5;241;43m.\u001B[39;49m\u001B[43merror_handler\u001B[49m\u001B[38;5;241;43m.\u001B[39;49m\u001B[43mcheck_response\u001B[49m\u001B[43m(\u001B[49m\u001B[43mresponse\u001B[49m\u001B[43m)\u001B[49m\n\u001B[0;32m    426\u001B[0m     response[\u001B[38;5;124m'\u001B[39m\u001B[38;5;124mvalue\u001B[39m\u001B[38;5;124m'\u001B[39m] \u001B[38;5;241m=\u001B[39m \u001B[38;5;28mself\u001B[39m\u001B[38;5;241m.\u001B[39m_unwrap_value(\n\u001B[0;32m    427\u001B[0m         response\u001B[38;5;241m.\u001B[39mget(\u001B[38;5;124m'\u001B[39m\u001B[38;5;124mvalue\u001B[39m\u001B[38;5;124m'\u001B[39m, \u001B[38;5;28;01mNone\u001B[39;00m))\n\u001B[0;32m    428\u001B[0m     \u001B[38;5;28;01mreturn\u001B[39;00m response\n",
      "File \u001B[1;32m~\\anaconda3\\lib\\site-packages\\selenium\\webdriver\\remote\\errorhandler.py:247\u001B[0m, in \u001B[0;36mErrorHandler.check_response\u001B[1;34m(self, response)\u001B[0m\n\u001B[0;32m    245\u001B[0m         alert_text \u001B[38;5;241m=\u001B[39m value[\u001B[38;5;124m'\u001B[39m\u001B[38;5;124malert\u001B[39m\u001B[38;5;124m'\u001B[39m]\u001B[38;5;241m.\u001B[39mget(\u001B[38;5;124m'\u001B[39m\u001B[38;5;124mtext\u001B[39m\u001B[38;5;124m'\u001B[39m)\n\u001B[0;32m    246\u001B[0m     \u001B[38;5;28;01mraise\u001B[39;00m exception_class(message, screen, stacktrace, alert_text)  \u001B[38;5;66;03m# type: ignore[call-arg]  # mypy is not smart enough here\u001B[39;00m\n\u001B[1;32m--> 247\u001B[0m \u001B[38;5;28;01mraise\u001B[39;00m exception_class(message, screen, stacktrace)\n",
      "\u001B[1;31mJavascriptException\u001B[0m: Message: javascript error: PagerNextClick is not defined\n  (Session info: chrome=101.0.4951.54)\nStacktrace:\nBacktrace:\n\tOrdinal0 [0x010EB8F3+2406643]\n\tOrdinal0 [0x0107AF31+1945393]\n\tOrdinal0 [0x00F6C748+837448]\n\tOrdinal0 [0x00F6F154+848212]\n\tOrdinal0 [0x00F6F012+847890]\n\tOrdinal0 [0x00F6F98A+850314]\n\tOrdinal0 [0x00FC50C9+1200329]\n\tOrdinal0 [0x00FB427C+1131132]\n\tOrdinal0 [0x00FC4682+1197698]\n\tOrdinal0 [0x00FB4096+1130646]\n\tOrdinal0 [0x00F8E636+976438]\n\tOrdinal0 [0x00F8F546+980294]\n\tGetHandleVerifier [0x01359612+2498066]\n\tGetHandleVerifier [0x0134C920+2445600]\n\tGetHandleVerifier [0x01184F2A+579370]\n\tGetHandleVerifier [0x01183D36+574774]\n\tOrdinal0 [0x01081C0B+1973259]\n\tOrdinal0 [0x01086688+1992328]\n\tOrdinal0 [0x01086775+1992565]\n\tOrdinal0 [0x0108F8D1+2029777]\n\tBaseThreadInitThunk [0x77477BA9+25]\n\tRtlInitializeExceptionChain [0x7796B7DB+107]\n\tRtlClearBits [0x7796B75F+191]\n"
     ]
    }
   ],
   "source": [
    "driver.execute_script(javaScript)"
   ],
   "metadata": {
    "collapsed": false,
    "pycharm": {
     "name": "#%%\n"
    }
   }
  },
  {
   "cell_type": "code",
   "execution_count": 84,
   "outputs": [
    {
     "data": {
      "text/plain": "<selenium.webdriver.remote.webelement.WebElement (session=\"bc90a933ce97e336d9aa50ce2d62c376\", element=\"f67aed00-e986-451c-b642-b3fc4e9003db\")>"
     },
     "execution_count": 84,
     "metadata": {},
     "output_type": "execute_result"
    }
   ],
   "source": [
    "from selenium.webdriver.common.by import By\n",
    "css_selector = \".peggds-2.hwNppf.next-button\"\n",
    "element = driver.find_element(by=By.CSS_SELECTOR, value=css_selector)\n",
    "element"
   ],
   "metadata": {
    "collapsed": false,
    "pycharm": {
     "name": "#%%\n"
    }
   }
  },
  {
   "cell_type": "code",
   "execution_count": 85,
   "outputs": [],
   "source": [
    "element.click()"
   ],
   "metadata": {
    "collapsed": false,
    "pycharm": {
     "name": "#%%\n"
    }
   }
  },
  {
   "cell_type": "code",
   "execution_count": 100,
   "outputs": [],
   "source": [
    "driver.quit()"
   ],
   "metadata": {
    "collapsed": false,
    "pycharm": {
     "name": "#%%\n"
    }
   }
  },
  {
   "cell_type": "markdown",
   "source": [
    "## input"
   ],
   "metadata": {
    "collapsed": false,
    "pycharm": {
     "name": "#%% md\n"
    }
   }
  },
  {
   "cell_type": "code",
   "execution_count": 119,
   "outputs": [
    {
     "name": "stderr",
     "output_type": "stream",
     "text": [
      "\n",
      "\n",
      "====== WebDriver manager ======\n",
      "Current google-chrome version is 101.0.4951\n",
      "Get LATEST chromedriver version for 101.0.4951 google-chrome\n",
      "Driver [C:\\Users\\wirze\\.wdm\\drivers\\chromedriver\\win32\\101.0.4951.41\\chromedriver.exe] found in cache\n"
     ]
    }
   ],
   "source": [
    "driver = webdriver.Chrome(service=Service(ChromeDriverManager().install()))\n",
    "url = \"https://www.theonion.com/search\"\n",
    "driver.get(url)"
   ],
   "metadata": {
    "collapsed": false,
    "pycharm": {
     "name": "#%%\n"
    }
   }
  },
  {
   "cell_type": "code",
   "execution_count": 102,
   "outputs": [
    {
     "ename": "ElementNotInteractableException",
     "evalue": "Message: element not interactable\n  (Session info: chrome=101.0.4951.54)\nStacktrace:\nBacktrace:\n\tOrdinal0 [0x010EB8F3+2406643]\n\tOrdinal0 [0x0107AF31+1945393]\n\tOrdinal0 [0x00F6C610+837136]\n\tOrdinal0 [0x00F949C3+1001923]\n\tOrdinal0 [0x00F940A5+999589]\n\tOrdinal0 [0x00FB427C+1131132]\n\tOrdinal0 [0x00F8FA64+981604]\n\tOrdinal0 [0x00FB4494+1131668]\n\tOrdinal0 [0x00FC4682+1197698]\n\tOrdinal0 [0x00FB4096+1130646]\n\tOrdinal0 [0x00F8E636+976438]\n\tOrdinal0 [0x00F8F546+980294]\n\tGetHandleVerifier [0x01359612+2498066]\n\tGetHandleVerifier [0x0134C920+2445600]\n\tGetHandleVerifier [0x01184F2A+579370]\n\tGetHandleVerifier [0x01183D36+574774]\n\tOrdinal0 [0x01081C0B+1973259]\n\tOrdinal0 [0x01086688+1992328]\n\tOrdinal0 [0x01086775+1992565]\n\tOrdinal0 [0x0108F8D1+2029777]\n\tBaseThreadInitThunk [0x77477BA9+25]\n\tRtlInitializeExceptionChain [0x7796B7DB+107]\n\tRtlClearBits [0x7796B75F+191]\n",
     "output_type": "error",
     "traceback": [
      "\u001B[1;31m---------------------------------------------------------------------------\u001B[0m",
      "\u001B[1;31mElementNotInteractableException\u001B[0m           Traceback (most recent call last)",
      "Input \u001B[1;32mIn [102]\u001B[0m, in \u001B[0;36m<cell line: 3>\u001B[1;34m()\u001B[0m\n\u001B[0;32m      1\u001B[0m css_selector \u001B[38;5;241m=\u001B[39m \u001B[38;5;124m\"\u001B[39m\u001B[38;5;124m.sc-1a9gghc-2.hPOVXA\u001B[39m\u001B[38;5;124m\"\u001B[39m\n\u001B[0;32m      2\u001B[0m inputElement \u001B[38;5;241m=\u001B[39m driver\u001B[38;5;241m.\u001B[39mfind_element(by \u001B[38;5;241m=\u001B[39m By\u001B[38;5;241m.\u001B[39mCSS_SELECTOR, value \u001B[38;5;241m=\u001B[39m css_selector)\n\u001B[1;32m----> 3\u001B[0m \u001B[43minputElement\u001B[49m\u001B[38;5;241;43m.\u001B[39;49m\u001B[43msend_keys\u001B[49m\u001B[43m(\u001B[49m\u001B[38;5;124;43m'\u001B[39;49m\u001B[38;5;124;43mHSE University\u001B[39;49m\u001B[38;5;124;43m'\u001B[39;49m\u001B[43m)\u001B[49m\n",
      "File \u001B[1;32m~\\anaconda3\\lib\\site-packages\\selenium\\webdriver\\remote\\webelement.py:540\u001B[0m, in \u001B[0;36mWebElement.send_keys\u001B[1;34m(self, *value)\u001B[0m\n\u001B[0;32m    537\u001B[0m             remote_files\u001B[38;5;241m.\u001B[39mappend(\u001B[38;5;28mself\u001B[39m\u001B[38;5;241m.\u001B[39m_upload(file))\n\u001B[0;32m    538\u001B[0m         value \u001B[38;5;241m=\u001B[39m \u001B[38;5;124m'\u001B[39m\u001B[38;5;130;01m\\n\u001B[39;00m\u001B[38;5;124m'\u001B[39m\u001B[38;5;241m.\u001B[39mjoin(remote_files)\n\u001B[1;32m--> 540\u001B[0m \u001B[38;5;28;43mself\u001B[39;49m\u001B[38;5;241;43m.\u001B[39;49m\u001B[43m_execute\u001B[49m\u001B[43m(\u001B[49m\u001B[43mCommand\u001B[49m\u001B[38;5;241;43m.\u001B[39;49m\u001B[43mSEND_KEYS_TO_ELEMENT\u001B[49m\u001B[43m,\u001B[49m\n\u001B[0;32m    541\u001B[0m \u001B[43m              \u001B[49m\u001B[43m{\u001B[49m\u001B[38;5;124;43m'\u001B[39;49m\u001B[38;5;124;43mtext\u001B[39;49m\u001B[38;5;124;43m'\u001B[39;49m\u001B[43m:\u001B[49m\u001B[43m \u001B[49m\u001B[38;5;124;43m\"\u001B[39;49m\u001B[38;5;124;43m\"\u001B[39;49m\u001B[38;5;241;43m.\u001B[39;49m\u001B[43mjoin\u001B[49m\u001B[43m(\u001B[49m\u001B[43mkeys_to_typing\u001B[49m\u001B[43m(\u001B[49m\u001B[43mvalue\u001B[49m\u001B[43m)\u001B[49m\u001B[43m)\u001B[49m\u001B[43m,\u001B[49m\n\u001B[0;32m    542\u001B[0m \u001B[43m               \u001B[49m\u001B[38;5;124;43m'\u001B[39;49m\u001B[38;5;124;43mvalue\u001B[39;49m\u001B[38;5;124;43m'\u001B[39;49m\u001B[43m:\u001B[49m\u001B[43m \u001B[49m\u001B[43mkeys_to_typing\u001B[49m\u001B[43m(\u001B[49m\u001B[43mvalue\u001B[49m\u001B[43m)\u001B[49m\u001B[43m}\u001B[49m\u001B[43m)\u001B[49m\n",
      "File \u001B[1;32m~\\anaconda3\\lib\\site-packages\\selenium\\webdriver\\remote\\webelement.py:710\u001B[0m, in \u001B[0;36mWebElement._execute\u001B[1;34m(self, command, params)\u001B[0m\n\u001B[0;32m    708\u001B[0m     params \u001B[38;5;241m=\u001B[39m {}\n\u001B[0;32m    709\u001B[0m params[\u001B[38;5;124m'\u001B[39m\u001B[38;5;124mid\u001B[39m\u001B[38;5;124m'\u001B[39m] \u001B[38;5;241m=\u001B[39m \u001B[38;5;28mself\u001B[39m\u001B[38;5;241m.\u001B[39m_id\n\u001B[1;32m--> 710\u001B[0m \u001B[38;5;28;01mreturn\u001B[39;00m \u001B[38;5;28;43mself\u001B[39;49m\u001B[38;5;241;43m.\u001B[39;49m\u001B[43m_parent\u001B[49m\u001B[38;5;241;43m.\u001B[39;49m\u001B[43mexecute\u001B[49m\u001B[43m(\u001B[49m\u001B[43mcommand\u001B[49m\u001B[43m,\u001B[49m\u001B[43m \u001B[49m\u001B[43mparams\u001B[49m\u001B[43m)\u001B[49m\n",
      "File \u001B[1;32m~\\anaconda3\\lib\\site-packages\\selenium\\webdriver\\remote\\webdriver.py:425\u001B[0m, in \u001B[0;36mWebDriver.execute\u001B[1;34m(self, driver_command, params)\u001B[0m\n\u001B[0;32m    423\u001B[0m response \u001B[38;5;241m=\u001B[39m \u001B[38;5;28mself\u001B[39m\u001B[38;5;241m.\u001B[39mcommand_executor\u001B[38;5;241m.\u001B[39mexecute(driver_command, params)\n\u001B[0;32m    424\u001B[0m \u001B[38;5;28;01mif\u001B[39;00m response:\n\u001B[1;32m--> 425\u001B[0m     \u001B[38;5;28;43mself\u001B[39;49m\u001B[38;5;241;43m.\u001B[39;49m\u001B[43merror_handler\u001B[49m\u001B[38;5;241;43m.\u001B[39;49m\u001B[43mcheck_response\u001B[49m\u001B[43m(\u001B[49m\u001B[43mresponse\u001B[49m\u001B[43m)\u001B[49m\n\u001B[0;32m    426\u001B[0m     response[\u001B[38;5;124m'\u001B[39m\u001B[38;5;124mvalue\u001B[39m\u001B[38;5;124m'\u001B[39m] \u001B[38;5;241m=\u001B[39m \u001B[38;5;28mself\u001B[39m\u001B[38;5;241m.\u001B[39m_unwrap_value(\n\u001B[0;32m    427\u001B[0m         response\u001B[38;5;241m.\u001B[39mget(\u001B[38;5;124m'\u001B[39m\u001B[38;5;124mvalue\u001B[39m\u001B[38;5;124m'\u001B[39m, \u001B[38;5;28;01mNone\u001B[39;00m))\n\u001B[0;32m    428\u001B[0m     \u001B[38;5;28;01mreturn\u001B[39;00m response\n",
      "File \u001B[1;32m~\\anaconda3\\lib\\site-packages\\selenium\\webdriver\\remote\\errorhandler.py:247\u001B[0m, in \u001B[0;36mErrorHandler.check_response\u001B[1;34m(self, response)\u001B[0m\n\u001B[0;32m    245\u001B[0m         alert_text \u001B[38;5;241m=\u001B[39m value[\u001B[38;5;124m'\u001B[39m\u001B[38;5;124malert\u001B[39m\u001B[38;5;124m'\u001B[39m]\u001B[38;5;241m.\u001B[39mget(\u001B[38;5;124m'\u001B[39m\u001B[38;5;124mtext\u001B[39m\u001B[38;5;124m'\u001B[39m)\n\u001B[0;32m    246\u001B[0m     \u001B[38;5;28;01mraise\u001B[39;00m exception_class(message, screen, stacktrace, alert_text)  \u001B[38;5;66;03m# type: ignore[call-arg]  # mypy is not smart enough here\u001B[39;00m\n\u001B[1;32m--> 247\u001B[0m \u001B[38;5;28;01mraise\u001B[39;00m exception_class(message, screen, stacktrace)\n",
      "\u001B[1;31mElementNotInteractableException\u001B[0m: Message: element not interactable\n  (Session info: chrome=101.0.4951.54)\nStacktrace:\nBacktrace:\n\tOrdinal0 [0x010EB8F3+2406643]\n\tOrdinal0 [0x0107AF31+1945393]\n\tOrdinal0 [0x00F6C610+837136]\n\tOrdinal0 [0x00F949C3+1001923]\n\tOrdinal0 [0x00F940A5+999589]\n\tOrdinal0 [0x00FB427C+1131132]\n\tOrdinal0 [0x00F8FA64+981604]\n\tOrdinal0 [0x00FB4494+1131668]\n\tOrdinal0 [0x00FC4682+1197698]\n\tOrdinal0 [0x00FB4096+1130646]\n\tOrdinal0 [0x00F8E636+976438]\n\tOrdinal0 [0x00F8F546+980294]\n\tGetHandleVerifier [0x01359612+2498066]\n\tGetHandleVerifier [0x0134C920+2445600]\n\tGetHandleVerifier [0x01184F2A+579370]\n\tGetHandleVerifier [0x01183D36+574774]\n\tOrdinal0 [0x01081C0B+1973259]\n\tOrdinal0 [0x01086688+1992328]\n\tOrdinal0 [0x01086775+1992565]\n\tOrdinal0 [0x0108F8D1+2029777]\n\tBaseThreadInitThunk [0x77477BA9+25]\n\tRtlInitializeExceptionChain [0x7796B7DB+107]\n\tRtlClearBits [0x7796B75F+191]\n"
     ]
    }
   ],
   "source": [
    "css_selector = \".sc-1a9gghc-2.hPOVXA\"\n",
    "inputElement = driver.find_element(by = By.CSS_SELECTOR, value = css_selector)\n",
    "inputElement.send_keys('HSE University')"
   ],
   "metadata": {
    "collapsed": false,
    "pycharm": {
     "name": "#%%\n"
    }
   }
  },
  {
   "cell_type": "code",
   "execution_count": 120,
   "outputs": [],
   "source": [
    "from selenium.webdriver.common.keys import Keys\n",
    "input_text = \"Russia\"\n",
    "\n",
    "XPATH = '/html/body/div[2]/div/div[4]/div/div/div/div[1]/div/div/div/div[1]/div/div/div/input'\n",
    "inputElement = driver.find_element(by = By.XPATH, value = XPATH)\n",
    "# inputElement\n",
    "inputElement.get_attribute('value')\n",
    "inputElement.send_keys(input_text)\n",
    "inputElement.send_keys(Keys.ENTER)"
   ],
   "metadata": {
    "collapsed": false,
    "pycharm": {
     "name": "#%%\n"
    }
   }
  },
  {
   "cell_type": "code",
   "execution_count": 121,
   "outputs": [],
   "source": [
    "driver.quit()"
   ],
   "metadata": {
    "collapsed": false,
    "pycharm": {
     "name": "#%%\n"
    }
   }
  }
 ],
 "metadata": {
  "kernelspec": {
   "display_name": "Python 3",
   "language": "python",
   "name": "python3"
  },
  "language_info": {
   "codemirror_mode": {
    "name": "ipython",
    "version": 2
   },
   "file_extension": ".py",
   "mimetype": "text/x-python",
   "name": "python",
   "nbconvert_exporter": "python",
   "pygments_lexer": "ipython2",
   "version": "2.7.6"
  }
 },
 "nbformat": 4,
 "nbformat_minor": 0
}